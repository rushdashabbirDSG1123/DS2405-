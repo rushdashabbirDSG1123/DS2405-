{
 "cells": [
  {
   "cell_type": "markdown",
   "id": "9e6c3965",
   "metadata": {},
   "source": [
    "# Selenium Exception Handling"
   ]
  },
  {
   "cell_type": "code",
   "execution_count": 2,
   "id": "094909a0",
   "metadata": {},
   "outputs": [],
   "source": [
    "import time\n",
    "import selenium\n",
    "from selenium import webdriver\n",
    "from selenium.webdriver.common.by import By\n",
    "from selenium.webdriver.support.ui import WebDriverWait\n",
    "from selenium.webdriver.support import expected_conditions as EC\n",
    "import warnings\n",
    "warnings.filterwarnings('ignore')\n",
    "# for exception handling\n",
    "from selenium.common.exceptions import NoSuchElementException\n",
    "import traceback"
   ]
  },
  {
   "cell_type": "code",
   "execution_count": 3,
   "id": "caa6d09b",
   "metadata": {},
   "outputs": [
    {
     "ename": "NoSuchElementException",
     "evalue": "Message: no such element: Unable to locate element: {\"method\":\"css selector\",\"selector\":\"[id=\"hoo-haa-hoo\"]\"}\n  (Session info: chrome=126.0.6478.127); For documentation on this error, please visit: https://www.selenium.dev/documentation/webdriver/troubleshooting/errors#no-such-element-exception\nStacktrace:\n\tGetHandleVerifier [0x00007FF7E5EDEEA2+31554]\n\t(No symbol) [0x00007FF7E5E57ED9]\n\t(No symbol) [0x00007FF7E5D1872A]\n\t(No symbol) [0x00007FF7E5D68434]\n\t(No symbol) [0x00007FF7E5D6853C]\n\t(No symbol) [0x00007FF7E5DAF6A7]\n\t(No symbol) [0x00007FF7E5D8D06F]\n\t(No symbol) [0x00007FF7E5DAC977]\n\t(No symbol) [0x00007FF7E5D8CDD3]\n\t(No symbol) [0x00007FF7E5D5A33B]\n\t(No symbol) [0x00007FF7E5D5AED1]\n\tGetHandleVerifier [0x00007FF7E61E8B1D+3217341]\n\tGetHandleVerifier [0x00007FF7E6235AE3+3532675]\n\tGetHandleVerifier [0x00007FF7E622B0E0+3489152]\n\tGetHandleVerifier [0x00007FF7E5F8E776+750614]\n\t(No symbol) [0x00007FF7E5E6375F]\n\t(No symbol) [0x00007FF7E5E5EB14]\n\t(No symbol) [0x00007FF7E5E5ECA2]\n\t(No symbol) [0x00007FF7E5E4E16F]\n\tBaseThreadInitThunk [0x00007FFF92467374+20]\n\tRtlUserThreadStart [0x00007FFF938FCC91+33]\n",
     "output_type": "error",
     "traceback": [
      "\u001b[1;31m---------------------------------------------------------------------------\u001b[0m",
      "\u001b[1;31mNoSuchElementException\u001b[0m                    Traceback (most recent call last)",
      "Cell \u001b[1;32mIn[3], line 6\u001b[0m\n\u001b[0;32m      4\u001b[0m time\u001b[38;5;241m.\u001b[39msleep(\u001b[38;5;241m3\u001b[39m)\n\u001b[0;32m      5\u001b[0m \u001b[38;5;66;03m#entering an element which is not present on webpage\u001b[39;00m\n\u001b[1;32m----> 6\u001b[0m element\u001b[38;5;241m=\u001b[39m driver\u001b[38;5;241m.\u001b[39mfind_element(By\u001b[38;5;241m.\u001b[39mID,\u001b[38;5;124m'\u001b[39m\u001b[38;5;124mhoo-haa-hoo\u001b[39m\u001b[38;5;124m'\u001b[39m)\n\u001b[0;32m      7\u001b[0m element\u001b[38;5;241m.\u001b[39mtext\n",
      "File \u001b[1;32m~\\anaconda3\\Lib\\site-packages\\selenium\\webdriver\\remote\\webdriver.py:741\u001b[0m, in \u001b[0;36mWebDriver.find_element\u001b[1;34m(self, by, value)\u001b[0m\n\u001b[0;32m    738\u001b[0m     by \u001b[38;5;241m=\u001b[39m By\u001b[38;5;241m.\u001b[39mCSS_SELECTOR\n\u001b[0;32m    739\u001b[0m     value \u001b[38;5;241m=\u001b[39m \u001b[38;5;124mf\u001b[39m\u001b[38;5;124m'\u001b[39m\u001b[38;5;124m[name=\u001b[39m\u001b[38;5;124m\"\u001b[39m\u001b[38;5;132;01m{\u001b[39;00mvalue\u001b[38;5;132;01m}\u001b[39;00m\u001b[38;5;124m\"\u001b[39m\u001b[38;5;124m]\u001b[39m\u001b[38;5;124m'\u001b[39m\n\u001b[1;32m--> 741\u001b[0m \u001b[38;5;28;01mreturn\u001b[39;00m \u001b[38;5;28mself\u001b[39m\u001b[38;5;241m.\u001b[39mexecute(Command\u001b[38;5;241m.\u001b[39mFIND_ELEMENT, {\u001b[38;5;124m\"\u001b[39m\u001b[38;5;124musing\u001b[39m\u001b[38;5;124m\"\u001b[39m: by, \u001b[38;5;124m\"\u001b[39m\u001b[38;5;124mvalue\u001b[39m\u001b[38;5;124m\"\u001b[39m: value})[\u001b[38;5;124m\"\u001b[39m\u001b[38;5;124mvalue\u001b[39m\u001b[38;5;124m\"\u001b[39m]\n",
      "File \u001b[1;32m~\\anaconda3\\Lib\\site-packages\\selenium\\webdriver\\remote\\webdriver.py:347\u001b[0m, in \u001b[0;36mWebDriver.execute\u001b[1;34m(self, driver_command, params)\u001b[0m\n\u001b[0;32m    345\u001b[0m response \u001b[38;5;241m=\u001b[39m \u001b[38;5;28mself\u001b[39m\u001b[38;5;241m.\u001b[39mcommand_executor\u001b[38;5;241m.\u001b[39mexecute(driver_command, params)\n\u001b[0;32m    346\u001b[0m \u001b[38;5;28;01mif\u001b[39;00m response:\n\u001b[1;32m--> 347\u001b[0m     \u001b[38;5;28mself\u001b[39m\u001b[38;5;241m.\u001b[39merror_handler\u001b[38;5;241m.\u001b[39mcheck_response(response)\n\u001b[0;32m    348\u001b[0m     response[\u001b[38;5;124m\"\u001b[39m\u001b[38;5;124mvalue\u001b[39m\u001b[38;5;124m\"\u001b[39m] \u001b[38;5;241m=\u001b[39m \u001b[38;5;28mself\u001b[39m\u001b[38;5;241m.\u001b[39m_unwrap_value(response\u001b[38;5;241m.\u001b[39mget(\u001b[38;5;124m\"\u001b[39m\u001b[38;5;124mvalue\u001b[39m\u001b[38;5;124m\"\u001b[39m, \u001b[38;5;28;01mNone\u001b[39;00m))\n\u001b[0;32m    349\u001b[0m     \u001b[38;5;28;01mreturn\u001b[39;00m response\n",
      "File \u001b[1;32m~\\anaconda3\\Lib\\site-packages\\selenium\\webdriver\\remote\\errorhandler.py:229\u001b[0m, in \u001b[0;36mErrorHandler.check_response\u001b[1;34m(self, response)\u001b[0m\n\u001b[0;32m    227\u001b[0m         alert_text \u001b[38;5;241m=\u001b[39m value[\u001b[38;5;124m\"\u001b[39m\u001b[38;5;124malert\u001b[39m\u001b[38;5;124m\"\u001b[39m]\u001b[38;5;241m.\u001b[39mget(\u001b[38;5;124m\"\u001b[39m\u001b[38;5;124mtext\u001b[39m\u001b[38;5;124m\"\u001b[39m)\n\u001b[0;32m    228\u001b[0m     \u001b[38;5;28;01mraise\u001b[39;00m exception_class(message, screen, stacktrace, alert_text)  \u001b[38;5;66;03m# type: ignore[call-arg]  # mypy is not smart enough here\u001b[39;00m\n\u001b[1;32m--> 229\u001b[0m \u001b[38;5;28;01mraise\u001b[39;00m exception_class(message, screen, stacktrace)\n",
      "\u001b[1;31mNoSuchElementException\u001b[0m: Message: no such element: Unable to locate element: {\"method\":\"css selector\",\"selector\":\"[id=\"hoo-haa-hoo\"]\"}\n  (Session info: chrome=126.0.6478.127); For documentation on this error, please visit: https://www.selenium.dev/documentation/webdriver/troubleshooting/errors#no-such-element-exception\nStacktrace:\n\tGetHandleVerifier [0x00007FF7E5EDEEA2+31554]\n\t(No symbol) [0x00007FF7E5E57ED9]\n\t(No symbol) [0x00007FF7E5D1872A]\n\t(No symbol) [0x00007FF7E5D68434]\n\t(No symbol) [0x00007FF7E5D6853C]\n\t(No symbol) [0x00007FF7E5DAF6A7]\n\t(No symbol) [0x00007FF7E5D8D06F]\n\t(No symbol) [0x00007FF7E5DAC977]\n\t(No symbol) [0x00007FF7E5D8CDD3]\n\t(No symbol) [0x00007FF7E5D5A33B]\n\t(No symbol) [0x00007FF7E5D5AED1]\n\tGetHandleVerifier [0x00007FF7E61E8B1D+3217341]\n\tGetHandleVerifier [0x00007FF7E6235AE3+3532675]\n\tGetHandleVerifier [0x00007FF7E622B0E0+3489152]\n\tGetHandleVerifier [0x00007FF7E5F8E776+750614]\n\t(No symbol) [0x00007FF7E5E6375F]\n\t(No symbol) [0x00007FF7E5E5EB14]\n\t(No symbol) [0x00007FF7E5E5ECA2]\n\t(No symbol) [0x00007FF7E5E4E16F]\n\tBaseThreadInitThunk [0x00007FFF92467374+20]\n\tRtlUserThreadStart [0x00007FFF938FCC91+33]\n"
     ]
    }
   ],
   "source": [
    "driver=webdriver.Chrome()\n",
    "driver.get('https://www.google.com/')\n",
    "driver.maximize_window()\n",
    "time.sleep(3)\n",
    "#entering an element which is not present on webpage\n",
    "element= driver.find_element(By.ID,'hoo-haa-hoo')\n",
    "#element.text"
   ]
  },
  {
   "cell_type": "code",
   "execution_count": 4,
   "id": "b86ad0b6",
   "metadata": {},
   "outputs": [
    {
     "name": "stdout",
     "output_type": "stream",
     "text": [
      "Exception raised : Message: no such element: Unable to locate element: {\"method\":\"css selector\",\"selector\":\"[id=\"hoo-haa-hoo\"]\"}\n",
      "  (Session info: chrome=126.0.6478.127); For documentation on this error, please visit: https://www.selenium.dev/documentation/webdriver/troubleshooting/errors#no-such-element-exception\n",
      "Stacktrace:\n",
      "\tGetHandleVerifier [0x00007FF7E5EDEEA2+31554]\n",
      "\t(No symbol) [0x00007FF7E5E57ED9]\n",
      "\t(No symbol) [0x00007FF7E5D1872A]\n",
      "\t(No symbol) [0x00007FF7E5D68434]\n",
      "\t(No symbol) [0x00007FF7E5D6853C]\n",
      "\t(No symbol) [0x00007FF7E5DAF6A7]\n",
      "\t(No symbol) [0x00007FF7E5D8D06F]\n",
      "\t(No symbol) [0x00007FF7E5DAC977]\n",
      "\t(No symbol) [0x00007FF7E5D8CDD3]\n",
      "\t(No symbol) [0x00007FF7E5D5A33B]\n",
      "\t(No symbol) [0x00007FF7E5D5AED1]\n",
      "\tGetHandleVerifier [0x00007FF7E61E8B1D+3217341]\n",
      "\tGetHandleVerifier [0x00007FF7E6235AE3+3532675]\n",
      "\tGetHandleVerifier [0x00007FF7E622B0E0+3489152]\n",
      "\tGetHandleVerifier [0x00007FF7E5F8E776+750614]\n",
      "\t(No symbol) [0x00007FF7E5E6375F]\n",
      "\t(No symbol) [0x00007FF7E5E5EB14]\n",
      "\t(No symbol) [0x00007FF7E5E5ECA2]\n",
      "\t(No symbol) [0x00007FF7E5E4E16F]\n",
      "\tBaseThreadInitThunk [0x00007FFF92467374+20]\n",
      "\tRtlUserThreadStart [0x00007FFF938FCC91+33]\n",
      "\n",
      "Gmail\n"
     ]
    }
   ],
   "source": [
    "#for exception handling\n",
    "try:\n",
    "    element=driver.find_element(By.ID,'hoo-haa-hoo')\n",
    "    print(element.text)\n",
    "except NoSuchElementException as e:\n",
    "    print(\"Exception raised :\",e)\n",
    "    element=driver.find_element(By.CLASS_NAME,'gb_x')\n",
    "    print(element.text)\n",
    "driver.quit()"
   ]
  },
  {
   "cell_type": "code",
   "execution_count": 9,
   "id": "35c2ab95",
   "metadata": {},
   "outputs": [],
   "source": [
    "# if element is correct then exception raised ussed webdriverwait\n",
    "import time\n",
    "import selenium\n",
    "from selenium import webdriver\n",
    "from selenium.webdriver.common.by import By\n",
    "from selenium.webdriver.support.ui import WebDriverWait\n",
    "from selenium.webdriver.support import expected_conditions as EC\n",
    "\n",
    "from selenium.common.exceptions import NoSuchElementException\n"
   ]
  },
  {
   "cell_type": "code",
   "execution_count": 11,
   "id": "ea86bbef",
   "metadata": {},
   "outputs": [
    {
     "name": "stdout",
     "output_type": "stream",
     "text": [
      "Interest-Based Ads\n"
     ]
    }
   ],
   "source": [
    "driver=webdriver.Chrome()\n",
    "driver.get('https://www.amazon.in/')\n",
    "driver.maximize_window()\n",
    "delay=10 # time second\n",
    "WebDriverWait(driver,delay).until(EC.presence_of_element_located((By.CLASS_NAME,'nav_last')))\n",
    "element= driver.find_element(By.XPATH,'//li[@class=\"nav_last\"]')\n",
    "print(element.text)\n",
    "driver.quit()"
   ]
  },
  {
   "cell_type": "markdown",
   "id": "ab0393ce",
   "metadata": {},
   "source": [
    "# 2.StaleElementRefrenceException"
   ]
  },
  {
   "cell_type": "code",
   "execution_count": 16,
   "id": "3f94ff1e",
   "metadata": {},
   "outputs": [],
   "source": [
    "from selenium import webdriver\n",
    "from selenium.webdriver.common.by import By\n",
    "from selenium.common.exceptions import StaleElementReferenceException\n"
   ]
  },
  {
   "cell_type": "code",
   "execution_count": 20,
   "id": "b57fbf47",
   "metadata": {},
   "outputs": [
    {
     "name": "stdout",
     "output_type": "stream",
     "text": [
      "Interest-Based Ads\n"
     ]
    }
   ],
   "source": [
    "driver=webdriver.Chrome()\n",
    "driver.get('https://www.amazon.in/')\n",
    "driver.maximize_window()\n",
    "#for exception handling\n",
    "try:\n",
    "    element=driver.find_element(By.XPATH,'//li[@class=\"nav_last\"]')\n",
    "    print(element.text)\n",
    "except StaleElementReferenceException as e:\n",
    "    print(\"Exception raised :\",e)\n",
    "    print(\"Refrencing the page !!\")\n",
    "    driver.get('https://amazon.in/')\n",
    "    WebdriverWait(driver,10).until(EC.presence_of_element_located((By.CLASS_NAME,'nav_last')))\n",
    "    element=driver.find_element(By.XPATH,'//li[@class=\"nav_last\"]')\n",
    "    print(element.text)\n",
    "#driver.quit()"
   ]
  },
  {
   "cell_type": "markdown",
   "id": "21d2911b",
   "metadata": {},
   "source": [
    "# 3. ElementNotVisibleExceptions\n",
    "it raised when an element is present on the DOM of the webpage but it is not visible it occurs most commonly whwn trying to click or read text of an element that is hidden from virus"
   ]
  },
  {
   "cell_type": "code",
   "execution_count": 6,
   "id": "bb0572d3",
   "metadata": {},
   "outputs": [],
   "source": [
    "import time\n",
    "import selenium\n",
    "from selenium import webdriver\n",
    "from selenium.webdriver.common.by import By\n",
    "from selenium.webdriver.support.ui import WebDriverWait\n",
    "from selenium.webdriver.support import expected_conditions as EC\n",
    "import warnings\n",
    "warnings.filterwarnings('ignore')\n",
    "from selenium.common.exceptions import ElementNotVisibleException"
   ]
  },
  {
   "cell_type": "markdown",
   "id": "35c8a6a7",
   "metadata": {},
   "source": [
    "# 3. ElementNotIntractableException"
   ]
  },
  {
   "cell_type": "code",
   "execution_count": 7,
   "id": "b1a0fd3a",
   "metadata": {},
   "outputs": [],
   "source": [
    "import time\n",
    "import selenium\n",
    "from selenium import webdriver\n",
    "from selenium.webdriver.common.by import By\n",
    "from selenium.webdriver.support.ui import WebDriverWait\n",
    "from selenium.webdriver.support import expected_conditions as EC\n",
    "import warnings\n",
    "warnings.filterwarnings('ignore')\n",
    "from selenium.common.exceptions import ElementNotInteractableException\n"
   ]
  },
  {
   "cell_type": "code",
   "execution_count": 10,
   "id": "c9a4d048",
   "metadata": {},
   "outputs": [
    {
     "name": "stdout",
     "output_type": "stream",
     "text": [
      "Exception raised Message: element not interactable\n",
      "  (Session info: chrome=126.0.6478.127)\n",
      "Stacktrace:\n",
      "\tGetHandleVerifier [0x00007FF71BB8EEA2+31554]\n",
      "\t(No symbol) [0x00007FF71BB07ED9]\n",
      "\t(No symbol) [0x00007FF71B9C8559]\n",
      "\t(No symbol) [0x00007FF71BA197C2]\n",
      "\t(No symbol) [0x00007FF71BA0C151]\n",
      "\t(No symbol) [0x00007FF71BA3D02A]\n",
      "\t(No symbol) [0x00007FF71BA0BA76]\n",
      "\t(No symbol) [0x00007FF71BA3D240]\n",
      "\t(No symbol) [0x00007FF71BA5C977]\n",
      "\t(No symbol) [0x00007FF71BA3CDD3]\n",
      "\t(No symbol) [0x00007FF71BA0A33B]\n",
      "\t(No symbol) [0x00007FF71BA0AED1]\n",
      "\tGetHandleVerifier [0x00007FF71BE98B1D+3217341]\n",
      "\tGetHandleVerifier [0x00007FF71BEE5AE3+3532675]\n",
      "\tGetHandleVerifier [0x00007FF71BEDB0E0+3489152]\n",
      "\tGetHandleVerifier [0x00007FF71BC3E776+750614]\n",
      "\t(No symbol) [0x00007FF71BB1375F]\n",
      "\t(No symbol) [0x00007FF71BB0EB14]\n",
      "\t(No symbol) [0x00007FF71BB0ECA2]\n",
      "\t(No symbol) [0x00007FF71BAFE16F]\n",
      "\tBaseThreadInitThunk [0x00007FFDFEEC7374+20]\n",
      "\tRtlUserThreadStart [0x00007FFDFFF3CC91+33]\n",
      "\n",
      "None\n"
     ]
    }
   ],
   "source": [
    "driver=webdriver.Chrome()\n",
    "driver.get('https://www.amazon.in/')\n",
    "driver.maximize_window()\n",
    "time.sleep(5)\n",
    "try:\n",
    "    element=driver.find_element(By.XPATH,'//i[@class=\"a-icon a-icon-previous-rounded\"]/span')\n",
    "    element.click()\n",
    "except ElementNotInteractableException as e:\n",
    "    print(\"Exception raised\",e)\n",
    "    element1=driver.find_element(By.XPATH,'//i[@class=\"a-icon a-icon-next-rounded\"]')\n",
    "    print(element.get_attribute('href'))\n",
    "driver.close()"
   ]
  },
  {
   "cell_type": "markdown",
   "id": "88f4a694",
   "metadata": {},
   "source": [
    "# 5.SessionNotCreatedException"
   ]
  },
  {
   "cell_type": "code",
   "execution_count": 11,
   "id": "4de55afa",
   "metadata": {},
   "outputs": [],
   "source": [
    "import time\n",
    "import selenium\n",
    "from selenium import webdriver\n",
    "from selenium.webdriver.common.by import By\n",
    "from selenium.webdriver.support.ui import WebDriverWait\n",
    "from selenium.webdriver.support import expected_conditions as EC\n",
    "import warnings\n",
    "warnings.filterwarnings('ignore')\n",
    "from selenium.common.exceptions import SessionNotCreatedException"
   ]
  },
  {
   "cell_type": "code",
   "execution_count": 12,
   "id": "d15df3cf",
   "metadata": {},
   "outputs": [],
   "source": [
    "try:\n",
    "    driver=webdriver.Chrome()\n",
    "    driver.get('https://www.google.com/')\n",
    "except SessionNotCreatedException as e:\n",
    "    print(\"Exception raised\",e)\n",
    "    driver=webdriver.Chrome()\n",
    "    driver.get('https://www.google.com/')\n"
   ]
  },
  {
   "cell_type": "markdown",
   "id": "e4e6fe39",
   "metadata": {},
   "source": [
    "# 6 TimeoutException"
   ]
  },
  {
   "cell_type": "code",
   "execution_count": 13,
   "id": "f3e2e364",
   "metadata": {},
   "outputs": [],
   "source": [
    "import time\n",
    "import selenium\n",
    "from selenium import webdriver\n",
    "from selenium.webdriver.common.by import By\n",
    "from selenium.webdriver.support.ui import WebDriverWait\n",
    "from selenium.webdriver.support import expected_conditions as EC\n",
    "import warnings\n",
    "warnings.filterwarnings('ignore')\n",
    "from selenium.common.exceptions import TimeoutException"
   ]
  },
  {
   "cell_type": "code",
   "execution_count": 16,
   "id": "04947ab3",
   "metadata": {},
   "outputs": [
    {
     "name": "stdout",
     "output_type": "stream",
     "text": [
      "Exception Raised Message: \n",
      "Stacktrace:\n",
      "\tGetHandleVerifier [0x00007FF71BB8EEA2+31554]\n",
      "\t(No symbol) [0x00007FF71BB07ED9]\n",
      "\t(No symbol) [0x00007FF71B9C872A]\n",
      "\t(No symbol) [0x00007FF71BA18434]\n",
      "\t(No symbol) [0x00007FF71BA1853C]\n",
      "\t(No symbol) [0x00007FF71BA5F6A7]\n",
      "\t(No symbol) [0x00007FF71BA3D06F]\n",
      "\t(No symbol) [0x00007FF71BA5C977]\n",
      "\t(No symbol) [0x00007FF71BA3CDD3]\n",
      "\t(No symbol) [0x00007FF71BA0A33B]\n",
      "\t(No symbol) [0x00007FF71BA0AED1]\n",
      "\tGetHandleVerifier [0x00007FF71BE98B1D+3217341]\n",
      "\tGetHandleVerifier [0x00007FF71BEE5AE3+3532675]\n",
      "\tGetHandleVerifier [0x00007FF71BEDB0E0+3489152]\n",
      "\tGetHandleVerifier [0x00007FF71BC3E776+750614]\n",
      "\t(No symbol) [0x00007FF71BB1375F]\n",
      "\t(No symbol) [0x00007FF71BB0EB14]\n",
      "\t(No symbol) [0x00007FF71BB0ECA2]\n",
      "\t(No symbol) [0x00007FF71BAFE16F]\n",
      "\tBaseThreadInitThunk [0x00007FFDFEEC7374+20]\n",
      "\tRtlUserThreadStart [0x00007FFDFFF3CC91+33]\n",
      "\n"
     ]
    }
   ],
   "source": [
    "driver=webdriver.Chrome()\n",
    "delay=5\n",
    "try:\n",
    "    driver.get('https://www.amazon.in/')\n",
    "    WebDriverWait(driver,delay).until(EC.presence_of_element_located((By.CLASS_NAME,'a-section a spacing-mini')))\n",
    "    element=driver.find_element-by_XPATH(\"//div[@class='a-section a-spacing-mini']\")\n",
    "    print(element)\n",
    "except TimeoutException as e:\n",
    "    print(\"Exception Raised\",e)\n"
   ]
  },
  {
   "cell_type": "markdown",
   "id": "1685b5b8",
   "metadata": {},
   "source": [
    "# Opening chrome in incognito mode"
   ]
  },
  {
   "cell_type": "code",
   "execution_count": 20,
   "id": "f07713f9",
   "metadata": {},
   "outputs": [],
   "source": [
    "from selenium import webdriver\n",
    "from selenium.webdriver.chrome.options import Options\n",
    "\n",
    "# Initialize Chrome options\n",
    "chrome_options = Options()\n",
    "chrome_options.add_argument('--incognito')  # Note: Use double dashes\n",
    "\n",
    "# Initialize the WebDriver with options\n",
    "driver = webdriver.Chrome(options=chrome_options)\n",
    "\n",
    "# Open Google\n",
    "driver.get(\"https://www.google.com\")\n",
    "\n",
    "# Close the browser\n",
    "driver.close()"
   ]
  },
  {
   "cell_type": "markdown",
   "id": "ea4e316c",
   "metadata": {},
   "source": [
    "# practical session"
   ]
  },
  {
   "cell_type": "code",
   "execution_count": 1,
   "id": "22c76ca9",
   "metadata": {},
   "outputs": [],
   "source": [
    "import bs4\n",
    "from bs4 import BeautifulSoup\n",
    "import selenium\n",
    "from selenium import webdriver\n",
    "from selenium.webdriver.common.by import By\n",
    "import time\n",
    "import warnings\n",
    "warnings.filterwarnings('ignore')\n",
    "import pandas as pd\n",
    "import numpy as np\n",
    "\n",
    "from selenium.webdriver.support.ui import WebDriverWait\n",
    "from selenium.webdriver.support import expected_conditions as EC\n",
    "from selenium.common.exceptions import TimeoutException,SessionNotCreatedException,NoSuchElementException,StaleElementReferenceException\n"
   ]
  },
  {
   "cell_type": "code",
   "execution_count": 3,
   "id": "9db91769",
   "metadata": {},
   "outputs": [],
   "source": [
    "# open web\n",
    "driver=webdriver.Chrome()\n",
    "# search web page\n",
    "driver.get('https://www.naukri.com/')\n",
    "#maximize window\n",
    "driver.maximize_window()\n",
    "#find search bar\n",
    "input_search=driver.find_elements(By.CLASS_NAME,'suggestor-input ')\n",
    "# send keys for searching\n",
    "input_search[0].send_keys('Data Scientist')\n",
    "\n",
    "#give input for location\n",
    "input_location=driver.find_elements(By.XPATH,'/html/body/div[1]/div[7]/div/div/div[5]/div/div/div/div[1]/div/input')\n",
    "#send keys for serach location\n",
    "input_location[0].send_keys('Bangalore')\n",
    "\n",
    "#click on search button\n",
    "search=driver.find_elements(By.CLASS_NAME,\"qsbSubmit\")\n",
    "for button in search:\n",
    "    button.click()"
   ]
  },
  {
   "cell_type": "code",
   "execution_count": 4,
   "id": "5d2ac42a",
   "metadata": {},
   "outputs": [],
   "source": [
    "job_opening_url=[]\n",
    "start=0\n",
    "end=2\n",
    "for page in range(start,end):\n",
    "    url=driver.find_elements(By.XPATH,'//div[@class=\"cust-job-tuple layout-wrapper lay-2 sjw__tuple \"]/div/a')\n",
    "    for i in url:\n",
    "        job_opening_url.append(i.get_attribute('href'))\n",
    "    Next_button=driver.find_element(By.XPATH,'/html/body/div/div/main/div[1]/div[2]/div[3]/div/a[2]/span')   "
   ]
  },
  {
   "cell_type": "code",
   "execution_count": 6,
   "id": "6de1a4aa",
   "metadata": {},
   "outputs": [
    {
     "name": "stdout",
     "output_type": "stream",
     "text": [
      "['https://www.naukri.com/job-listings-data-scientist-ibm-india-pvt-limited-bengaluru-8-to-13-years-110724914005', 'https://www.naukri.com/job-listings-data-scientist-artificial-intelligence-ibm-india-pvt-limited-bengaluru-5-to-7-years-100724907345', 'https://www.naukri.com/job-listings-generative-ai-data-scientist-genpact-hyderabad-gurugram-bengaluru-8-to-13-years-201123007411', 'https://www.naukri.com/job-listings-data-scientist-applied-materials-india-private-limited-bengaluru-4-to-7-years-100724914958', 'https://www.naukri.com/job-listings-data-scientist-hcltech-bengaluru-5-to-10-years-090724013607', 'https://www.naukri.com/job-listings-data-scientist-4-amadeus-software-labs-india-pvt-ltd-bengaluru-3-to-6-years-110724501812', 'https://www.naukri.com/job-listings-data-scientist-tiger-analytics-hyderabad-chennai-bengaluru-4-to-7-years-130624007820', 'https://www.naukri.com/job-listings-data-scientist-glaxosmithkline-pharmaceuticals-limited-bengaluru-5-to-7-years-100724501897', 'https://www.naukri.com/job-listings-data-scientist-clarivate-analytics-bengaluru-5-to-10-years-100724501116', 'https://www.naukri.com/job-listings-data-scientist-tiger-analytics-hyderabad-chennai-bengaluru-4-to-9-years-100724004688', 'https://www.naukri.com/job-listings-data-scientist-ltimindtree-pune-bangalore-rural-mumbai-all-areas-5-to-8-years-110724011780', 'https://www.naukri.com/job-listings-data-scientist-cai-bangalore-rural-3-to-5-years-110724004769', 'https://www.naukri.com/job-listings-data-scientist-cai-bangalore-rural-3-to-6-years-100724004865', 'https://www.naukri.com/job-listings-data-scientist-codvo-ai-mumbai-delhi-ncr-bengaluru-2-to-5-years-110724909191', 'https://www.naukri.com/job-listings-data-scientist-sykatiya-technologies-pune-bangalore-rural-bengaluru-8-to-13-years-110724005789', 'https://www.naukri.com/job-listings-data-scientist-python-ginger-partners-bengaluru-3-to-6-years-110724911268', 'https://www.naukri.com/job-listings-data-scientist-preceptors-it-and-business-solutions-kolkata-mumbai-new-delhi-hyderabad-pune-chennai-bengaluru-3-to-6-years-110724502488', 'https://www.naukri.com/job-listings-data-scientist-nityo-infotech-kolkata-mumbai-new-delhi-hyderabad-pune-chennai-bengaluru-3-to-7-years-100724500919', 'https://www.naukri.com/job-listings-data-scientist-movate-technologies-bengaluru-4-to-9-years-100724008639', 'https://www.naukri.com/job-listings-data-scientist-krg-technologies-pune-bengaluru-delhi-ncr-3-to-7-years-100724009320', 'https://www.naukri.com/job-listings-data-scientist-ibm-india-pvt-limited-bengaluru-8-to-13-years-110724914005', 'https://www.naukri.com/job-listings-data-scientist-artificial-intelligence-ibm-india-pvt-limited-bengaluru-5-to-7-years-100724907345', 'https://www.naukri.com/job-listings-generative-ai-data-scientist-genpact-hyderabad-gurugram-bengaluru-8-to-13-years-201123007411', 'https://www.naukri.com/job-listings-data-scientist-applied-materials-india-private-limited-bengaluru-4-to-7-years-100724914958', 'https://www.naukri.com/job-listings-data-scientist-hcltech-bengaluru-5-to-10-years-090724013607', 'https://www.naukri.com/job-listings-data-scientist-4-amadeus-software-labs-india-pvt-ltd-bengaluru-3-to-6-years-110724501812', 'https://www.naukri.com/job-listings-data-scientist-tiger-analytics-hyderabad-chennai-bengaluru-4-to-7-years-130624007820', 'https://www.naukri.com/job-listings-data-scientist-glaxosmithkline-pharmaceuticals-limited-bengaluru-5-to-7-years-100724501897', 'https://www.naukri.com/job-listings-data-scientist-clarivate-analytics-bengaluru-5-to-10-years-100724501116', 'https://www.naukri.com/job-listings-data-scientist-tiger-analytics-hyderabad-chennai-bengaluru-4-to-9-years-100724004688', 'https://www.naukri.com/job-listings-data-scientist-ltimindtree-pune-bangalore-rural-mumbai-all-areas-5-to-8-years-110724011780', 'https://www.naukri.com/job-listings-data-scientist-cai-bangalore-rural-3-to-5-years-110724004769', 'https://www.naukri.com/job-listings-data-scientist-cai-bangalore-rural-3-to-6-years-100724004865', 'https://www.naukri.com/job-listings-data-scientist-codvo-ai-mumbai-delhi-ncr-bengaluru-2-to-5-years-110724909191', 'https://www.naukri.com/job-listings-data-scientist-sykatiya-technologies-pune-bangalore-rural-bengaluru-8-to-13-years-110724005789', 'https://www.naukri.com/job-listings-data-scientist-python-ginger-partners-bengaluru-3-to-6-years-110724911268', 'https://www.naukri.com/job-listings-data-scientist-preceptors-it-and-business-solutions-kolkata-mumbai-new-delhi-hyderabad-pune-chennai-bengaluru-3-to-6-years-110724502488', 'https://www.naukri.com/job-listings-data-scientist-nityo-infotech-kolkata-mumbai-new-delhi-hyderabad-pune-chennai-bengaluru-3-to-7-years-100724500919', 'https://www.naukri.com/job-listings-data-scientist-movate-technologies-bengaluru-4-to-9-years-100724008639', 'https://www.naukri.com/job-listings-data-scientist-krg-technologies-pune-bengaluru-delhi-ncr-3-to-7-years-100724009320']\n"
     ]
    }
   ],
   "source": [
    "len(job_opening_url)\n",
    "print(job_opening_url)"
   ]
  },
  {
   "cell_type": "code",
   "execution_count": 7,
   "id": "ed089f97",
   "metadata": {},
   "outputs": [
    {
     "name": "stdout",
     "output_type": "stream",
     "text": [
      "40\n",
      "['Job description', 'Job description', 'No Present', 'Job description', 'Job description', 'Job description', 'Job description', 'Job description', 'No Present', 'Job description', 'Job description', 'Job description', 'Job description', 'Job description', 'Job description', 'Job description', 'Job description', 'Job description', 'Job description', 'Job description', 'Job description', 'Job description', 'No Present', 'Job description', 'Job description', 'Job description', 'Job description', 'Job description', 'Job description', 'Job description', 'Job description', 'Job description', 'Job description', 'Job description', 'Job description', 'Job description', 'Job description', 'Job description', 'Job description', 'Job description']\n"
     ]
    }
   ],
   "source": [
    "job_description=[]\n",
    "for i in job_opening_url: # iterate each and every url to fetch job detail \n",
    "    driver.get(i)          #taking each url one by one\n",
    "    time.sleep(5)\n",
    "    try:\n",
    "        description=driver.find_element(By.XPATH,'/html/body/div/div/main/div[1]/div[1]/section[2]/div[1]')\n",
    "        job_description.append(description.text)\n",
    "    except NoSuchElementException as e:\n",
    "        job_description.append('No Present')\n",
    "\n",
    "print(len(job_description))\n",
    "print(job_description)       \n",
    "        \n",
    "    \n",
    "    "
   ]
  },
  {
   "cell_type": "code",
   "execution_count": 8,
   "id": "ce1f3982",
   "metadata": {},
   "outputs": [
    {
     "name": "stdout",
     "output_type": "stream",
     "text": [
      "40\n",
      "['Job description\\nA career in IBM Software means youll be part of a team that transforms our customers challenges into solutions.\\nSeeking new possibilities and always staying curious, we are a team dedicated to creating the worlds leading AI-powered, cloud-native software solutions for our customers. Our renowned legacy creates endless global opportunities for our IBMers, so the door is always open for those who want to grow their career.\\nIBMs product and technology landscape includes Research, Software, and Infrastructure. Entering this domain positions you at the heart of IBM, where growth and innovation thrive\\n\\nYour Role and Responsibilities\\nThe Data Scientist role requires a highly analytical individual proficient in Python programming, database management, and data science methodologies. Youll focus on extracting insights from data, developing and implementing machine learning models, managing big data infrastructure, and supporting AI-driven product development.\\nKey Responsibilities:\\nData Collection and Cleansing: Collect and cleanse data from diverse sources to ensure high-quality datasets for decision-making.\\nData Exploration and Visualization: Explore and visualize data using advanced techniques to uncover insights and trends.\\nStatistical Analysis: Apply statistical and mathematical techniques to provide robust analytical foundations for predictive modelling.\\nMachine Learning and Deep Learning: Develop and implement machine learning and deep learning models to address business challenges.\\nML-Ops AI-Ops: Demonstrate expertise in ML-Ops AI-Ops practices to ensure efficient model deployment and management.\\nBig Data Management: Manage big data infrastructure and execute data engineering tasks for efficient data processing.\\nVersion Control and Collaboration: Utilize version control systems like Git for maintaining codebase integrity and fostering collaboration.\\nAI-Driven Product Development: Design, create, and support AI-driven products to deliver impactful solutions aligned with user needs and business objectives.\\n\\n\\nRequired Technical and Professional Expertise\\nIndustry Experience: Minimum 8+ years of experience in the IT industry. 2 years of experience in developing AI/ML solutions in Python\\nTechnical Proficiency: Proficient in Python programming, Java, Go, Node.js, JavaScript, TypeScript, React. Coding for Data Science: Ensures robust & reproducible implementation of algorithms and experiments. Deep experience with python libraries.\\nDatabase Management: Strong understanding of database concepts and experience working with Postgres relational database, OpenSearch documentation database.\\nData Science Skills: Strong background in data science, statistics, mathematics, and analytical techniques.\\nMachine Learning Expertise: Expertise in machine learning and deep learning methodologies, including foundation models. Statistics, Machine Learning, and AI: Builds expertise in tools & techniques to evaluate trust and transparency. Masters use of data science platforms and tools\\nBig Data Technologies: Familiarity with big data technologies and data engineering practices.\\nVersion Control Systems: Experience with version control systems, particularly Git, and proficiency with GitHub for code collaboration.\\n\\n\\nPreferred Technical and Professional Expertise\\nExperience with DevOps and Cloud computing Docker, Kuberenetes, Openshift\\nAgile Application Development & Scrum methodologies.\\nFamiliarity with z/OS and mainframe technologies.\\nExperience with Continuous Integration Continuous Delivery (CI/CD) methodologies\\nFamiliar with cloud-based platforms and services\\n\\nRole: Full Stack Data Scientist\\nIndustry Type: IT Services & Consulting\\nDepartment: Data Science & Analytics\\nEmployment Type: Full Time, Permanent\\nRole Category: Data Science & Machine Learning\\nEducation\\nUG: Any Graduate\\nPG: Any Postgraduate\\nKey Skills\\nSkills highlighted with ‘‘ are preferred keyskills\\npythongolangdatabase managementnodejava\\ngithubmachine learningjavascriptartificial intelligencereact.jsdeep learningnode.jsopsdata sciencepostgresqldatabase creationpredictive modelingtypescriptbig datastatisticsml', 'Job description\\nYour Role and Responsibilities\\nWork with broader team to build, analyze and improve the AI solutions.\\nYou will also work with our software developers in consuming different enterprise applications.\\n\\n\\nRequired Technical and Professional Expertise\\nResource should have 5-7 years of experience. Sound knowledge of Python and should know how to use the ML related services.\\nProficient in Python with focus on Data Analytics Packages. Strategy Analyse large, complex data sets and provide actionable insights to inform business decisions. Strategy\\nDesign and implementing data models that help in identifying patterns and trends. Collaboration Work with data engineers to optimize and maintain data pipelines.\\nPerform quantitative analyses that translate data into actionable insights and provide analytical, data-driven decision-making. Identify and recommend process improvements to enhance the efficiency of the data platform. Develop and maintain data models, algorithms, and statistical models.\\n\\n\\nPreferred Technical and Professional Expertise\\nExperience with conversation analytics. Experience with cloud technologies\\nExperience with data exploration tools such as Tableu\\n\\nRole: Data Scientist\\nIndustry Type: IT Services & Consulting\\nDepartment: Data Science & Analytics\\nEmployment Type: Full Time, Permanent\\nRole Category: Data Science & Machine Learning\\nEducation\\nUG: Any Graduate\\nPG: Any Postgraduate\\nKey Skills\\nSkills highlighted with ‘‘ are preferred keyskills\\npythondata analyticsartificial intelligencetableauml\\nhivealgorithmsdata analysisnatural language processingpysparkpower bimachine learningsqlpandasdeep learningdata sciencesparkkafkadata visualizationhadoopawsbig dataetl', 'No Present', 'Job description\\nKey Responsibilities\\nSupports the design and development of program methods, processes and systems to consolidate and analyze structured and unstructured, diverse \"big data\" sources\\nSupports ad-hoc statistical and data mining analysis, using statistical tools like R, SAS and MATlab\\nInterfaces with internal customers for requirements analysis and compiles data for scheduled or special reports and analysis\\nSupports project teams to develop analytical models, algorithms and automated processes, applying SQL understanding and PHP or Python programming, to cleanse, integrate and evaluate large datasets.\\nSupports the timely development of products for manufacturing and process information by applying sophisticated data analytics\\nQualification:\\n4 - 7 years of experience as data scientist\\nDemonstrated experience in applying AI / ML models to solve business issues\\nRequired technical skills in SQL, Hadoop (preferred), Python, AI / ML models (NLP / LLM / ARIMA / etc)\\nExperience in Supply Chain domain and Tableau\\nFunctional Knowledge\\nDemonstrates expanded conceptual knowledge in own discipline and broadens capabilities\\nBusiness Expertise\\nUnderstands key business drivers; uses this understanding to accomplish own work\\nLeadership\\nNo supervisory responsibilities but provides informal guidance to new team members\\nProblem Solving\\nSolves problems in straightforward situations; analyzes possible solutions using technical experience and judgment and precedents\\nImpact\\nImpacts quality of own work and the work of others on the team; works within guidelines and policies\\nInterpersonal Skills\\nExplains complex information to others in straightforward situations\\nRole: Full Stack Data Scientist\\nIndustry Type: Electronic Components / Semiconductors\\nDepartment: Data Science & Analytics\\nEmployment Type: Full Time, Permanent\\nRole Category: Data Science & Machine Learning\\nEducation\\nUG: Any Graduate\\nPG: LLM in Law\\nKey Skills\\nSkills highlighted with ‘‘ are preferred keyskills\\nSQL\\nRNLPSASARIMAHadoopTableauLLMMATlabPython', 'Job description\\nJob Responsibility:\\n\\n• We are looking for a data scientist who will help us discover the\\ninformation hidden in vast amounts of data, and help us make\\nsmarter decisions to deliver AI/ML based Enterprise Software\\nProducts.\\n• Develop solutions related to machine learning, natural language\\nprocessing and deep learning & Generative AI to address business\\nneeds.\\n• Your primary focus will be in applying Language/Vision\\ntechniques, developing llm based applications and building high\\nquality prediction systems.\\n• Analyze Data: Collaborate with cross-functional teams to\\n\\nunderstand data requirements and identify relevant data sources.\\nAnalyze and preprocess data to extract valuable insights and ensure\\ndata quality.\\n• Evaluation and Optimization: Evaluate model performance using\\nappropriate metrics and iterate on solutions to enhance performance\\nand accuracy. Continuously optimize algorithms and models to\\nadapt to evolving business requirements.\\n• Documentation and Reporting: Document methodologies, findings,\\nand outcomes in clear and concise reports. Communicate results\\neffectively to technical and non-technical stakeholders.\\nWork experience background required:\\n• Experience building software from the ground up in a corporate or\\nstartup environment.\\nEssential skillsets required:\\n• 3-6 years experience in software development\\n• Educational Background: Strong computer science and\\nMath/Statistics\\n• Experience with Open Source LLM and Langchain Framework and\\nand designing efficient prompt for LLMs.\\n• Proven ability with NLP and text-based extraction techniques.\\n• Experience in Generative AI technologies, such as diffusion and/or\\nlanguage models.\\n• Excellent understanding of machine learning techniques and\\nalgorithms, such as k-NN, Naive Bayes, SVM, Decision Forests,\\netc.\\n• Familiarity with cloud computing platforms such as GCP or AWS.\\nExperience to deploy and monitor model in cloud environment.\\n• Experience with common data science toolkits, such as NumPy,\\nPandas etc\\n• Proficiency in using query languages such as SQL\\n• Good applied statistics skills, such as distributions, statistical\\ntesting, regression, etc.\\n• Experience working with large data sets along with data modeling,\\nlanguage development, and database technologies\\n• Knowledge in Machine Learning and Deep Learning frameworks\\n(e.g., TensorFlow, Keras, Scikit-Learn, CNTK, or PyTorch), NLP,\\nRecommender systems, personalization, Segmentation,\\nmicroservices architecture and API development.\\n• Ability to adapt to a fast-paced, dynamic work environment and\\nlearn new technologies quickly.\\n• Excellent verbal and written communication skills\\nRole: Data Scientist\\nIndustry Type: IT Services & Consulting\\nDepartment: Data Science & Analytics\\nEmployment Type: Full Time, Permanent\\nRole Category: Data Science & Machine Learning\\nEducation\\nUG: Any Graduate\\nKey Skills\\nSkills highlighted with ‘‘ are preferred keyskills\\nData ScienceArtificial IntelligenceMachine Learning', 'Job description\\nIn the airline organization, Revenue Management and Dynamic Pricing are very strategic areas.\\nRevenue Management has greatly evolved during the past 20 years, from the early days of leg-based optimization to todays complex network Revenue Management and bid-price control. It will remain a strategic area of investment for the years to come. In a very competitive market, state of the art revenue management capabilities is a key differentiator and significantly contribute to airline profitability. In addition, the shift of the industry towards NDC and the offer/order distribution models, is putting ahead yet another Offer optimization challenge and tremendous amount of new scientific complexity.\\nDynamic Pricing is a young and promising product to optimize in real time the price returned during a shopping session, depending on the customer segmentation and the competition environment, with airlines eager to pilot and benefit from those extra revenues.\\nCombined with our latest algorithms proven through advanced modelling on up-to-date airline business scenarios, and the unbeatable advantages of tight integration with Inventory and the entire Alt a Suite, Amadeus proposes one of the airline industry s best revenue management and dynamic pricing solutions.\\nThis science is powered by a big amount of data and needs to be controlled by the end users with efficient interfaces and workflows.\\nDynamic Pricing context\\nThis position consists specifically in developing the models of the Dynamic Pricing application executed in real time to perform price optimization.\\nAccountabilities\\nAnalyze specifications, help to define user requirements for the development of software solutions.\\nDesign and development.\\nDesign technical solutions and perform feasibility studies.\\nPropose viable technical solutions.\\nDevelop software according to Amadeus standards.\\nData Science activities\\nML Model training.\\nML Model calibration for different customers\\nKPI definition and measurements.\\nData mining, data analysis\\nResearch\\nDesign new algorithms / models. Enhance the exiting ones.\\nIndustrialize and implement new prototypes.\\nTest and support\\nConduct unit, package and performance tests and ensure a level of quality in line with the Amadeus guidelines.\\nParticipate in the validation phase of the product cycle, fine-tuning when necessary to finalize the product.\\nSupport the customer, perform investigation about the model result and behavior.\\nDocumentation\\nSkills\\n- Python/Java/Scala.\\n- Applied ML experience (PyTorch, Tensorflow )\\n- SQL\\n- Tableau / PowerBI\\n- Interest in Mathematics and Modelling.\\n- Big Data: Hadooop-Spark-Scala basic knowledge.\\n- Knowledge on Cloud/Azure/Databricks is a plus.\\nRole: Data Scientist\\nIndustry Type: IT Services & Consulting\\nDepartment: Data Science & Analytics\\nEmployment Type: Full Time, Permanent\\nRole Category: Data Science & Machine Learning\\nEducation\\nUG: Any Graduate\\nPG: Any Postgraduate\\nKey Skills\\nData analysisdata scienceSCALARevenue managementData miningbig dataSoftware solutionsSQLPythonAmadeus', \"Job description\\nAbout the role :As a Data Scientist, you will be at the forefront of driving innovation through cutting-edge data analytics and machine learning applications across diverse industries. On a typical day, immerse yourself in the following:\\nAnalytical Translation: Translate complex business problems into sophisticated analytical structures, conceptualizing solutions anchored in statistical and machine learning methodologies.\\nProblem Solving: While technical proficiency in data manipulation, statistical modelling, and machine learning is crucial, the ability to apply these skills to solve real-world business problems is equally vital.\\nClient Engagement: Establish a deep understanding of clients' business contexts, working closely to unravel intricate challenges and opportunities.\\nAlgorithmic Expertise: Develop and refine algorithms and models, sculpting them into powerful tools to surmount intricate business challenges.\\nQuantitative Mastery: Conduct in-depth quantitative analyses, navigating vast datasets to extract meaningful insights that drive informed decision-making.\\nCross-Functional Collaboration: Collaborate seamlessly with multiple teams, including Consulting and Engineering, fostering relationships with diverse stakeholders to meet deadlines and bring Analytical Solutions to life.\\nDesired Skills and Experience :\\n4 -7 years of Relevant Data Science Experience, with demonstrated proficiency and hands-on experience navigating data science complexities.\\nGood communication skills, both verbal and written.\\nExhibit a fervor for crafting modular, scalable, and bug-free Python code.\\nComfortable in SQL with additional proficiency in office tools like Excel & PowerPoint.\\nExperience in production engineering best practices (e.g. Git versioning, Docker).\\nFamiliarity or experience with working on large data sets and distributed computing (e.g. Hive, Hadoop, Spark)\\nWorking knowledge of Cloud platforms (e.g. AWS, Azure, GCP).\\nExcitement to collaborate with diverse stakeholders across the organization.\\nIn-depth understanding of various data science approaches, machine learning algorithms, and statistical methods.\\nHunger to learn new technologies and embrace the change.\\nProficiency in foundational concepts and algorithms in machine learning, encompassing regression and classification techniques, and a keen awareness of their assumptions, strengths, and limitations.\\nMust-Have Skills: Regression/Classification/Optimization/ Python Proficiency in these key skills is crucial to thriving in this role.\\nKindly share your updated resume to this Mail ID\\nhari.chandana@tigeranalytics.com\\n\\nRegards,\\nHari Chandana\\n\\nRole: Data Scientist\\nIndustry Type: Analytics / KPO / Research\\nDepartment: Data Science & Analytics\\nEmployment Type: Full Time, Permanent\\nRole Category: Data Science & Machine Learning\\nEducation\\nUG: Any Graduate\\nKey Skills\\nSkills highlighted with ‘‘ are preferred keyskills\\nRegressionModel Building\\nLogistic RegressionMarket Mix ModellingMarketing AnalyticsLinear RegressionTime Series AnalysisClassificationTime SeriesStatistical ModelingMachine Learning AlgorithmsPredictive AnalyticsPython\", 'Job description\\nThis role will provide YOU the opportunity to lead key activities to progress YOUR career. These responsibilities include some of the following:\\nImplements robust data governance processes, maintaining well-documented and current business rules.\\nIdentifies opportunities for enhancing data processes and access, optimizing analytics applications.\\nDevelops and upholds efficient data access procedures, ensuring data is maximized for analysis methods and advanced analytics applications.\\nEstablishes ongoing data quality metrics, enabling early detection of data issues in ingestion and curation, ensuring accuracy and reliability for analytics.\\nImplements effective data quality controls, building confidence among key users and stakeholders, including data scientists.\\nWe are looking for professionals with these required skills to achieve our goals:\\nMust have:\\nTotal IT experience required 5-7 years.\\n2+ years of experience working with unstructured data analysis/text analytics/natural language processing.\\n2 + Experience in machine learning, NLP, python and/or R\\n2+ years preferred experience with SQL or other programming/database manipulation methods and tools to collect, integrate, and manipulate data for analytics usage and reporting.\\nDemonstrate proficiency in Python programming, SQL, Statistics, data pipelines and data story telling through visualization methods e.g., PowerBI, PowerPoint, Excel etc.\\nWorking knowledge of cloud based and local data science frameworks and toolkits. Experience in Azure / Databricks is preferred but GCP / AWS would be considered.\\nGood to have:\\nWorking with, integrating, and using healthcare data preferred.\\nBe able to compile, integrate and analyze data from multiple sources to answer business questions and ad-hoc analysis requests.\\nShould be able to independently drive stakeholder discussions and project delivery.\\nRole: Data Scientist\\nIndustry Type: Pharmaceutical & Life Sciences\\nDepartment: Data Science & Analytics\\nEmployment Type: Full Time, Permanent\\nRole Category: Data Science & Machine Learning\\nEducation\\nUG: Any Graduate\\nPG: Any Postgraduate\\nKey Skills\\nProcurementData analysisGCPHealthcareOncologyhealthcare analyticsData qualityAnalyticsSQLPython', 'Job description\\nWe are looking for a highly motivated real world evidence (RWE) data scientist who has experience in generating insights/evidence from claims and EHR real world data (RWD) to join our growing Bangalore-based RWE analytics team at Clarivate.\\n\\nWhat will you be doing in this role?\\nYou will support the execution and delivery of custom analytics solutions for customers and work with our internal teams on next generation RWE solutions. Specifically, you will:\\nServe as a biostatistics and modeling resource on Clarivate s customer-facing RWE custom analytics project teams\\nProvide statistical and modeling support on observational research, HEOR, and RWE studies for Clarivate s pharma, medtech and biotechnology clients\\nContribute to the development of machine learning and other advanced analytics solutions for improving RWD-based analytics and evidence/insight generation\\nContribute to the analytics infrastructure build of RWE insights managed service offerings for our clients\\nFollow organizational processes & best practices, ensuring client satisfaction throughout engagements\\nMinimum experience, education, skills\\nGraduate/ postgraduate degree in epidemiology, biostatistics, health informatics, economics, data science, or equivalent quantitative field.\\nAt least 5 years of industry experience utilizing RWD (US healthcare claims, EHR, registries etc.) for observational research studies and evidence/insights generation or experience in applied biostatistics, epidemiology or equivalent, especially in observational research, HEOR, and RWE generation.\\nTraining or coursework in experimental / clinical / epidemiologic study design\\nExperience and/or training/coursework in data visualization and data storytelling\\nSkilled in SQL and Python. R is a plus\\nExperience with git version control and related tools (e.g. Bitbucket)\\nIt would be great if you also had..\\nMasters or PhD\\nTraining or coursework in machine learning and other advanced analytics methods\\nSome experience in dev ops, ML ops, and building scalable analytics workflows\\nFamiliarity with common pharma/medtech product commercialization use cases, including market access, commercial targeting, and patient journey/LOT among others.\\nRole: Data Scientist\\nIndustry Type: Analytics / KPO / Research\\nDepartment: Data Science & Analytics\\nEmployment Type: Full Time, Permanent\\nRole Category: Data Science & Machine Learning\\nEducation\\nUG: Any Graduate\\nPG: Any Postgraduate\\nKey Skills\\nTrainingClaimsPharmaMachine learningdata visualizationUS healthcareEpidemiologyAnalyticsSQLPython', \"Job description\\nTiger Analytics is a global AI and analytics consulting firm. With data and technology at the core of our solutions, our 3900+ tribe is solving problems that eventually impact the lives of millions globally. Our culture is modeled around expertise and respect with a team-first mindset. Headquartered in Silicon Valley, youll find our delivery centers across the globe and offices in multiple cities across India, the US, UK, Canada, and Singapore, including a substantial remote global workforce.\\nWere Great Place to Work-Certified. Working at Tiger Analytics, youll be at the heart of an AI revolution. Youll work with teams that push the boundaries of what is possible and build solutions that energize and inspire.\\n\\nAbout the role :As a Data Scientist, you will be at the forefront of driving innovation through cutting-edge data analytics and machine learning applications across diverse industries. On a typical day, immerse yourself in the following:\\n\\nAnalytical Translation: Translate complex business problems into sophisticated analytical structures, conceptualising solutions anchored in statistical and machine learning methodologies.\\nProblem Solving: While technical proficiency in data manipulation, statistical modelling, and machine learning is crucial, the ability to apply these skills to solve real-world business problems is equally vital.\\nClient Engagement: Establish a deep understanding of clients' business contexts, working closely to unravel intricate challenges and opportunities.\\nAlgorithmic Expertise: Develop and refine algorithms and models, sculpting them into powerful tools to surmount intricate business challenges.\\nQuantitative Mastery: Conduct in-depth quantitative analyses, navigating vast datasets to extract meaningful insights that drive informed decision-making.\\nCross-Functional Collaboration:Collaborate seamlessly with multiple teams, including Consulting and Engineering, fostering relationships with diverse stakeholders to meet deadlines and bring Analytical Solutions to life.\\n\\nDesired Skills and Experience :\\n4 -9 years of Relevant Data Science Experience, with demonstrated proficiency and hands-on experience navigating data science complexities.\\nGood communication skills, both verbal and written.\\nExhibit a fervour for crafting modular, scalable, and bug-free Python code.\\nComfortable in SQL with additional proficiency in office tools like Excel & PowerPoint.\\nExperience in production engineering best practices (e.g. Git versioning, Docker).\\nFamiliarity or experience with working on large data sets and distributed computing (e.g. Hive, Hadoop, Spark)\\nWorking knowledge of Cloud platforms (e.g. AWS, Azure, GCP).\\nExcitement to collaborate with diverse stakeholders across the organisation.\\nIn-depth understanding of various data science approaches, machine learning algorithms, and statistical methods.\\nHunger to learn new technologies and embrace the change.\\nProficiency in foundational concepts and algorithms in machine learning, encompassing regression and classification techniques, and a keen awareness of their assumptions, strengths, and limitations.\\nMust-Have Skills: Regression/Classification/Optimization/ Python Proficiency in these key skills is crucial to thriving in this role.\\n\\nNote: The designation will be commensurate with expertise and experience. Compensation packages are among the best in the industry.\\n\\n\\nRole: Data Scientist\\nIndustry Type: IT Services & Consulting\\nDepartment: Data Science & Analytics\\nEmployment Type: Full Time, Permanent\\nRole Category: Data Science & Machine Learning\\nEducation\\nUG: Any Graduate\\nKey Skills\\nSkills highlighted with ‘‘ are preferred keyskills\\nClassificationModel BuildingRegression ModelingPython\\nPredictive ModelingMachine Learning Algorithms\", 'Job description\\nStrong engineering mindset\\nMust have basic Computer Science degree\\nShould be a Java Full Stack Engineer + hands on Data engg expertise (designing , developing, Oracle /MongoDB Data WareHouse, worked on optimization for data extraction and analytics) + Python\\nAi/ML will be a pls for Scientist role\\n\\nIf interested please share resume on Darshana.Potdukhe@ltimindtree.com.\\nRole: Data Scientist\\nIndustry Type: IT Services & Consulting\\nDepartment: Data Science & Analytics\\nEmployment Type: Full Time, Permanent\\nRole Category: Data Science & Machine Learning\\nEducation\\nUG: Any Graduate\\nKey Skills\\nSkills highlighted with ‘‘ are preferred keyskills\\nData EngineeringData Scientist\\nData ScienceJavaoracleAIFull StackMongo DBML', \"Job description\\nData Scientist\\nReq number:\\nR3008\\nEmployment type:\\nFull time\\nWorksite flexibility:\\nHybridWho we are\\nCAI is a global technology services firm with over 8,500 associates worldwide and a yearly revenue of $1 billion+. We have over 40 years of excellence in uniting talent and technology to power the possible for our clients, colleagues, and communities. As a privately held company, we have the freedom and focus to do what is right—whatever it takes. Our tailor-made solutions create lasting results across the public and commercial sectors, and we are trailblazers in bringing neurodiversity to the enterprise.\\nJob Summary\\nWe are looking for a Senior Data Scientist to key need is to work with various business units to understand their challenges in manufacturing analytics, Revenue Forecasting, Predictive Maintenance, Spend Analytics etc. and collect available data points to prepare analytics model and insights which would help business to take decisions. This position will be full-time and Hybrid.\\nJob Description\\nWhat You’ll Do\\nExpertise in Forecasting Techniques, Regression Techniques, Anomaly detection.\\nUnderstand business challenges and convert it to Analytical Solutions and present to management.\\nPrimary focus will be in applying data mining techniques, Hypothesis testing, doing statistical analysis, and building high quality prediction systems using AI/ML Algorithms\\nUse predictive modelling to increase and optimize Customer experiences, Revenue generation, Cost reduction, Transportation optimization etc.\\nMine and analyze data from on-prim/cloud database to drive optimization and process improvement.\\nWhat You'll Need\\nRequired:\\nExperience with common data science toolkits, such as PYCARET, TensorFlow, Keras, NumPy, Sci-Kit, Flask, Pandas, NLP and Advance libraries etc.\\nWorked in Supply chain domain or Manufacturing domain and executed projects on Forecasting, Optimization, Anomaly Detection, Image Classification, Clustering, Sentiment Analysis etc.\\nProficiency in using query languages such as SQL, Data Lakes, Data Factory, Kubernetes etc.\\nPreferably hands-on in Model development and deployment in Azure using CI/CD pipeline.\\nExpertise in Statistical model building and Machine Learning.\\nGood knowledge on Data extraction, Data Cleansing, Data preparation, Model Development, and deployment for models.\\nGood hands-on experience in data visualization tools like ggplot, matplotlib, Tableau, PowerBI.\\nHands on expertise in Model development and deployment using CI/CD, Docker etc.\\nProficient in Statistical tools like Python, Azure Machine Learning, Auto ML tools.\\nGood knowledge on Tableau or Power BI.\\nEnd to End analytical project implementation on Azure /AWS.\\nAccountability and work with minimum supervision.\\nHigh work quality and innovative thinking.\\nKnowledge of new tool/techniques in Analytical field.\\nPreferred:\\n6-8 Years’ experience Model Development and Deployment\\nPython, Azure/AWS\\nMaster’s degree (preferably in Statistics) or B.Tech /B.E\\nPrior experience with EMEA business\\nMust be willing to work on Flexible shifts (12 PM – 9PM)\\nExperience in working with Team Collaboration & Cloud tools\\nAlgorithm building and deployment using Azure/AWS platform\\nPhysical Demands\\nSedentary work that involves sitting or remaining stationary most of the time with occasional need to move around the office to attend meetings, etc.\\nAbility to conduct repetitive tasks on a computer, utilizing a mouse, keyboard, and monitor\\nReasonable accommodation statement\\nIf you require a reasonable accommodation in completing this application, interviewing, completing any pre-employment testing, or otherwise participating in the employment selection process, please direct your inquiries to application.accommodations@cai.io or (888) 824 – 8111.\\nRole: Full Stack Data Scientist\\nIndustry Type: IT Services & Consulting\\nDepartment: Data Science & Analytics\\nEmployment Type: Full Time, Permanent\\nRole Category: Data Science & Machine Learning\\nEducation\\nUG: B.Tech/B.E. in Any Specialization\\nPG: Any Postgraduate\\nKey Skills\\nhypothesis testingnatural language processingscikit-learnforecastingdata miningstatistical toolsanomaly detectionmodel buildingrandom forestmachine learningartificial intelligencesqltensorflowmanagementregressionkerasmodel developmentquery writing\", \"Job description\\nData Scientist\\nReq number:\\nR3009\\nEmployment type:\\nFull time\\nWorksite flexibility:\\nHybridWho we are\\nCAI is a global technology services firm with over 8,500 associates worldwide and a yearly revenue of $1 billion+. We have over 40 years of excellence in uniting talent and technology to power the possible for our clients, colleagues, and communities. As a privately held company, we have the freedom and focus to do what is right—whatever it takes. Our tailor-made solutions create lasting results across the public and commercial sectors, and we are trailblazers in bringing neurodiversity to the enterprise.\\nJob Summary\\n• We are looking for a Senior Data Scientist to key need is to work with various business units to understand their challenges in manufacturing analytics, Revenue Forecasting, Predictive Maintenance, Spend Analytics, Customer service etc. and collect available data points to prepare analytics model and insights which would help business to take decisions. This position will be full-time and Hybrid.\\nJob Description\\nWhat You’ll Do\\nDemonstrate expertise in natural language processing (NLP), text analytics, and generative AI by utilizing advanced AI/ML algorithms.\\nUse pretrained models from Hugging Face and fine-tune large language models (LLM).\\nApply deep learning techniques for text analytics, including transformers, neural network architectures, vector databases, and embeddings.\\nLeverage generative AI frameworks and tools such as Lang Chain, Llama Index, and agentic methodologies like CREWAI and Auto Gen.\\nApply data mining methods and statistical analysis to construct predictive systems aimed at improving customer experiences, revenue generation, cost reduction, and transportation optimization.\\nDevelop and implement forecasting techniques, regression models, and text analytics solutions.\\nUtilize data science toolkits, including AWS, Azure ML, TensorFlow, Keras, NumPy, Sci-Kit Learn, Flask, Pandas, and Py Caret. Create visualizations using tools such as ggplot, matplotlib, Tableau, and PowerBI.\\nUse query languages like SQL and work with data lakes, data factories, and Kubernetes.\\nDevelop and deploy models in Azure and AWS, leveraging CI/CD pipelines.\\nPresent data-driven insights to management effectively.\\nWhat You'll Need\\nRequired:\\nExpertise in Statistical model building and Machine Learning.\\nGood knowledge on Data extraction, Data Cleansing, Data preparation, Model Development, and deployment for models.\\nMine and analyze data from on-prim/cloud database to drive optimization and process improvement.\\nGood understanding of Model development, CI/CD, Docker etc.\\nProficient in Statistical tools like Python, Azure Machine Learning, Auto ML tools.\\nEnd to End analytical project implementation on Azure /AWS.\\nAccountability and work with minimum supervision.\\nHigh work quality and innovative thinking.\\nKnowledge of new tool/techniques in Analytical field.\\nPreferred:\\n4-6 Years’ experience Model Development and Deployment.\\nPython, Azure ML, AWS Sagemaker.\\nMaster’s degree (preferably in Computer Science) or B.Tech /B.E.\\nPrior experience with EMEA business.\\nMust be willing to work on Flexible shifts.\\nExperience in working with Team Collaboration & Cloud tools.\\nAlgorithm building and deployment using Azure/AWS platform.\\nPhysical Demands\\nSedentary work that involves sitting or remaining stationary most of the time with occasional need to move around the office to attend meetings, etc.\\nAbility to conduct repetitive tasks on a computer, utilizing a mouse, keyboard, and monitor\\nReasonable accommodation statement\\nIf you require a reasonable accommodation in completing this application, interviewing, completing any pre-employment testing, or otherwise participating in the employment selection process, please direct your inquiries to application.accommodations@cai.io or (888) 824 – 8111.\\nRole: Full Stack Data Scientist\\nIndustry Type: IT Services & Consulting\\nDepartment: Data Science & Analytics\\nEmployment Type: Full Time, Permanent\\nRole Category: Data Science & Machine Learning\\nEducation\\nUG: B.Tech/B.E. in Any Specialization\\nPG: LLM in Any Specialization, Any Postgraduate\\nKey Skills\\nnatural language processingindexingazure machine learningstatistical toolsmicrosoft azurepower bimodel buildingrandom forestnumpymachine learningartificial intelligenceazure devopstext analyticssqldockerpandastensorflowmatplotlibscikerasawsflask\", 'Job description\\nRequired Skills (Technical):-\\n\\nAdvanced knowledge of statistical techniques, NLP, machine learning algorithms and deep learning frameworks like TensorFlow, Theano, Keras, Pytorch.\\n\\nKnowledge of work with Pyspark is a must. (Working with Azure Databricks platform is preferred)\\n\\nAdvanced knowledge in handling Time Series Data and modelling it with time series algorithms.\\n\\nKnowledge of working with Geospatial data would be preferable.\\n\\nProficiency with modern statistical modelling (regression, boosting trees, random forests, etc.), machine learning (text mining, neural network, NLP, etc.), optimization (linear optimization, nonlinear optimization, stochastic optimization, etc.) methodologies.\\n\\nBuild complex predictive models using ML and DL techniques with production quality code and jointly own complex data science workflows with the Data Engineering team.\\n\\nFamiliar with modern data analytics architecture and data engineering technologies (SQL and No-SQL databases).\\n\\nKnowledge of REST APIs and Web Services 6. Experience with Python, R, sh/bash\\n\\nRequired Skills (Non-Technical):-\\n\\nFluent in English Communication (Spoken and verbal)\\n\\nShould be a team player\\n\\nShould have a learning aptitude\\n\\nDetail-oriented, analytically.\\n\\nExtremely organized with strong time-management skills\\n\\nProblem Solving & Critical Thinking Require\\n\\nWork Location :Remote , hyderabad,ahmedabad,pune,chennai,kolkata.\\n\\nWork Timing : 2:30 PM to 11:30 PM IST\\nRole: Data Scientist\\nIndustry Type: IT Services & Consulting\\nDepartment: Data Science & Analytics\\nEmployment Type: Full Time, Permanent\\nRole Category: Data Science & Machine Learning\\nEducation\\nUG: B.Tech/B.E. in Any Specialization\\nPG: MCA in Any Specialization\\nDoctorate: Doctorate Not Required\\nKey Skills\\nSkills highlighted with ‘‘ are preferred keyskills\\nNLPMachine LearningDeep Learning\\nPytorchTheanoPysparkdata scienceAzure Databricksstatistical modellingKerasTensorFlow', \"Job description\\nRole & responsibilities\\n\\nAbout Company\\nSykatiya Technology Pvt Ltd is a leading Semiconductor Industry innovator committed to leveraging cutting-edge technology to solve complex problems. We seek a highly skilled and motivated Data Scientist to join our dynamic team and contribute to our mission of driving innovation through data-driven insights.\\n\\nJob Summary:\\n\\nAs a Lead Data Scientist and Machine Learning Engineer at Sykatiya Technology Pvt Ltd, you will be responsible for analyzing large datasets to uncover patterns, develop predictive models, and implement AI/ML solutions. You will work on projects involving neural networks, deep learning, data mining, and natural language processing (NLP) to drive business value and improve our products and services.\\n\\nKey Responsibilities:\\n\\n1. Lead the design and implementation of machine learning models and algorithms to solve complex business problems.\\n2. Apply deep learning techniques to enhance neural network models and improve prediction accuracy.\\n3. Perform data mining and analysis to uncover actionable insights from structured and unstructured data.\\n4. Utilize natural language processing (NLP) techniques for advanced text analytics.\\n5 . Develop and maintain end-to-end data pipelines, ensuring data integrity and reliability.\\n6. Collaborate with cross-functional teams to understand business requirements and deliver data-driven solutions.\\n7. Mentor and guide junior data scientists and engineers in best practices and advanced techniques.\\n8. Stay abreast of the latest advancements in AI/ML, neural networks, deep learning, data mining, and NLP.\\n\\nTechnical Skills:\\n\\n1. Proficiency in Python and its libraries (e.g., NumPy, pandas, sci-kit-learn, TensorFlow, Keras, PyTorch).\\n2. Strong understanding of machine learning algorithms and techniques.\\n3. Extensive experience with neural networks and deep learning frameworks.\\n4. Hands-on experience with data mining and analysis techniques.\\n5. Proficiency in natural language processing (NLP) tools and libraries (e.g., NLTK, spaCy, transformers).\\n6. Big Data Technologies: Proficiency in Sqoop, Hadoop, HDFS, Hive, PySpark.\\n7. Cloud Platforms: Experience with AWS services (e.g., S3, Step Functions, EventBridge, Athena, RDS, Lambda, Glue).\\n8. Database Management: Strong knowledge of SQL, Teradata, MySQL, PostgreSQL, and Snowflake.\\n9. Other Tools: Experience with ExactTarget, Marketo, SAP BO, Agile, and JIRA.\\n10. Analytical Skills: Ability to analyze large datasets and derive actionable insights.\\n11. Problem-Solving Skills: Strong problem-solving skills with the ability to think critically and creatively.\\n12. Communication Skills: Excellent communication and teamwork skills to collaborate with different stakeholders.\\n\\nExperience: At least 8 to 12 years of experience in a similar role.\\n\\nEducational Background: Bachelor's or Master's degree in Computer Science, Data Science, Statistics, Mathematics, or a related field.\\n\\n\\nPreferred candidate profile\\n\\n\\nPerks and benefits\\n\\n\\nRole: Data Scientist\\nIndustry Type: Emerging Technologies (AI/ML)\\nDepartment: Data Science & Analytics\\nEmployment Type: Full Time, Permanent\\nRole Category: Data Science & Machine Learning\\nEducation\\nUG: B.Tech/B.E. in Any Specialization, BCA in Any Specialization\\nPG: MCA in Any Specialization, M.Tech in Any Specialization\\nKey Skills\\nSkills highlighted with ‘‘ are preferred keyskills\\nData ScienceNatural Language ProcessingAimlNeural NetworksPython\\nArtificial IntelligenceData MiningData AnalyticsMachine LearningDeep Learning\", \"Job description\\nAs a data scientist at wakefit, you will be an integral contributor to our research-focused team, tasked with leveraging data science to advance the development of intelligent products.\\n\\nThis role entails assuming responsibility for initiatives, guiding them from inception to fruition, and interfacing with cross-functional teams.\\n\\n- You will synthesize complex data insights, applying them to enhance our smart product offerings while collaborating with product management, software engineering, and customer success to ensure a unified approach to innovation.\\n\\n- Your expertise will be vital in maintaining wakefit's commitment to leading-edge solutions in the sleep wellness and home comfort sectors.\\n\\nResponsibilities :\\n\\n- Employ advanced analytical techniques such as machine learning, deep learning, and digital signal processing on iot data to extract and interpret meaningful patterns.\\n\\n- Utilize statistical modeling and machine learning algorithms to derive insights that inform product development strategies.\\n\\n- Review current research and literature to guide model development and concept validation.\\n\\n- Develop and maintain comprehensive data pipelines from problem identification to model.\\n\\n- Deployment, ensuring scalability and efficacy.\\n\\nRequirements :\\n\\n- A minimum of 2-3 years of experience in python/matlab, with a focus on data science and applied statistics.\\n\\n- Bachelor's or master's degree in engineering, statistics, or applied mathematics, demonstrating a strong analytical skill set.\\n\\n- Proficiency in python data science libraries such as pandas, numpy, matplotlib, scikit-learn, opencv, tensorflow, keras, etc.\\n\\n- Significant experience in time-series data analysis.\\n\\n- Effective problem-solving skills and the ability to methodically address complex, analytical challenges.\\n\\n- Clear and concise communication skills are essential for articulating complex data insights to both technical and non-technical audiences.\\n\\n- Previous experience with iot devices.\\n\\nGood to haves :\\n\\n- Previous experience in digital signal processing.\\n\\n- Experience in processing physiological signals and familiarity with relevant techniques.\\n\\n- Experience in handling image and audio data processing in python/matlab.\\nRole: Full Stack Data Scientist\\nIndustry Type: IT Services & Consulting\\nDepartment: Data Science & Analytics\\nEmployment Type: Full Time, Permanent\\nRole Category: Data Science & Machine Learning\\nEducation\\nUG: B.Tech/B.E. in Production/Industrial, Any Graduate\\nPG: M.Tech in Electronics/Telecommunication\\nDoctorate: Doctorate Not Required\\nKey Skills\\nSkills highlighted with ‘‘ are preferred keyskills\\nPython\\nData ScienceOpenCVData ScientistData ManagementMATLABMachine LearningNumpyDeep LearningSignal Processing\", 'Job description\\nPreceptors IT and Business Solutions is looking for Data Scientist to join our dynamic team and embark on a rewarding career journey\\nUndertaking data collection, preprocessing and analysis\\nBuilding models to address business problems\\nPresenting information using data visualization techniques\\nIdentify valuable data sources and automate collection processes\\nUndertake preprocessing of structured and unstructured data\\nAnalyze large amounts of information to discover trends and patterns\\nBuild predictive models and machine-learning algorithms\\nCombine models through ensemble modeling\\nPresent information using data visualization techniques\\nPropose solutions and strategies to business challenges\\nCollaborate with engineering and product development teams\\nRole: Data Scientist\\nIndustry Type: IT Services & Consulting\\nDepartment: Data Science & Analytics\\nEmployment Type: Full Time, Permanent\\nRole Category: Data Science & Machine Learning\\nEducation\\nUG: Any Graduate\\nPG: Any Postgraduate\\nKey Skills\\nalgorithmspythonproject managementmodelingdata analysisdata analyticspreventive maintenancebusiness solutionspredictivebusiness analysismachine learningdata collectiontableaurproduct developmentdata visualizationstatistics', 'Job description\\nDeveloping prediction systems and machine learning algorithms9\\nContinuously refine and optimize models for performance, scalability, and efficiency\\nDeploy models into production environments and monitor their performance\\nExplore and experiment with generative AI models (text and image generation models) suitable for the given requirements\\nTrain and evaluate generative models, fine-tuning parameters for desired outputs\\nIntegrate generative models into production workflows or applications\\nWork with senior da scientists to implement solutions for business problemsRequirements1\\nExperience: 3-4 years of proven experience in data science, AI/ML field\\nEducation: Bachelor s degree/ master s degree in computer science, Statistics, Applied Math, or related field\\nProgramming Skills: Mastery in Python and database query languages like SQL\\nFamiliarity with R, Java, C++ is an added advantage\\nStatistics: Good applied statistical skills, including knowledge of statistical tests, distributions, regression, maximum likelihood estimators, etc\\nMachine Learning: good knowledge of machine learning methods like k-Nearest Neighbors, Naive Bayes, SVM, Decision Tree, time series predictions, Deep neural networks, recommendation systems, collaborative filtering etc\\nGenerative AI: Good experience of Gen AI frameworks and components like Langchain, vector databases, text/image generation models from Huggingface, Ollama, Open AI etc\\nDeep learning/machine learning tools: Hands on experience with data science tools such as TensorFlow, Keras, Scikit-learn, PyTorch9\\nStrong Math Skills (Multivariable Calculus and Linear Algebra): understanding the fundamentals of Multivariable Calculus and Linear Algebra is important as they form the basis of a lot of predictive performance or algorithm optimization techniques\\nData Wrangling: proficiency in handling imperfections in data is an important aspect of a data scientist job description\\nExperience with Data Visualization Tools like matplotlib, seaborn, ggplot, d3js\\n, Power BI, Tableau that help to visually encode data\\nExcellent Communication Skills:\\nStrong Software Engineering Background\\nProblem-solving aptitude\\nAnalytical mind and great business sense\\nRole: Data Scientist\\nIndustry Type: Recruitment / Staffing\\nDepartment: Data Science & Analytics\\nEmployment Type: Full Time, Permanent\\nRole Category: Data Science & Machine Learning\\nEducation\\nUG: Any Graduate\\nPG: Any Postgraduate\\nKey Skills\\nComputer scienceC++Neural networksAnalyticalMachine learningData collectiondata visualizationData miningSQLPython', 'Job description\\nRole : Sr. Data Science Engineer\\nExperience : 4 -10 Years\\nLocation : Bangalore(WFO)\\nShift : General\\nRequired Skills: NLP, GenAI, Python, Machine Learning, Deep Learning, GIT, LLM\\nJob Description:\\nExperience with NLP, GenAi Machine Learning fundamentals, with working knowledge of Python and experience with Deep Learning frameworks such as Pytorch, TensorFlow, JAX or MXNet\\nRequired hands-on experience with design and implementation of applications using Large Language Models (LLM).\\nMore specifically:\\nSubstantial prior programming experience in languages such as R, Python, SPARK, SQL. Comfort with professional software development process and GitHub.\\nGoogle PaLM, OpenAI GPT, LLaMA, or similar models.\\nLangChain, LlamaIndex, or similar frameworks.\\nAdvanced prompt engineering.\\nRetrieval Augmented Generation (RAG).\\nVector databases (GCP Vector Search, ChromaDB, Pinecone, pgvector, or similar).\\nExperiences related to AWS services such as SageMaker, Bedrock, and similar.\\n\\nRole: Data Scientist\\nIndustry Type: IT Services & Consulting\\nDepartment: Data Science & Analytics\\nEmployment Type: Full Time, Permanent\\nRole Category: Data Science & Machine Learning\\nEducation\\nUG: Any Graduate\\nKey Skills\\nSkills highlighted with ‘‘ are preferred keyskills\\nGenAINatural Language ProcessingMachine LearningDeep LearningPython\\nPytorchTensorflowGITRAGLLMAWS', 'Job description\\n\\nRole & responsibilities\\nExperience:3-5 years\\nMandatory Skills: Data Science, Dataiku\\nLocation: Bangalore/Pune/Kolkata/Gurgaon/Remote.\\nNotice period-Immediate-15 Days\\n\\n\\nJob Description\\n\\nLeading a team of data engineers and data scientists to design, develop, and implement data solutions using the Dataiku platform.\\nTechnical expertise, mentorship, and guidance to team members, fostering a culture of innovation and continuous improvement.\\nProficiency in Dataiku and other relevant technologies.\\nLeading a team of data scientists and AI engineers, defining project objectives, and architecting AI models and algorithms to address business challenges.\\nCollaborate with cross-functional teams to gather requirements, conduct feasibility studies, and deliver scalable AI solutions that drive business value.\\n\\n\\n\\n\\nRole: Data Scientist\\nIndustry Type: IT Services & Consulting\\nDepartment: Data Science & Analytics\\nEmployment Type: Full Time, Permanent\\nRole Category: Data Science & Machine Learning\\nEducation\\nUG: Any Graduate\\nKey Skills\\nSkills highlighted with ‘‘ are preferred keyskills\\nData ScienceDataiku\\nDevelopAlgorithmsDesigning', 'Job description\\nA career in IBM Software means youll be part of a team that transforms our customers challenges into solutions.\\nSeeking new possibilities and always staying curious, we are a team dedicated to creating the worlds leading AI-powered, cloud-native software solutions for our customers. Our renowned legacy creates endless global opportunities for our IBMers, so the door is always open for those who want to grow their career.\\nIBMs product and technology landscape includes Research, Software, and Infrastructure. Entering this domain positions you at the heart of IBM, where growth and innovation thrive\\n\\nYour Role and Responsibilities\\nThe Data Scientist role requires a highly analytical individual proficient in Python programming, database management, and data science methodologies. Youll focus on extracting insights from data, developing and implementing machine learning models, managing big data infrastructure, and supporting AI-driven product development.\\nKey Responsibilities:\\nData Collection and Cleansing: Collect and cleanse data from diverse sources to ensure high-quality datasets for decision-making.\\nData Exploration and Visualization: Explore and visualize data using advanced techniques to uncover insights and trends.\\nStatistical Analysis: Apply statistical and mathematical techniques to provide robust analytical foundations for predictive modelling.\\nMachine Learning and Deep Learning: Develop and implement machine learning and deep learning models to address business challenges.\\nML-Ops AI-Ops: Demonstrate expertise in ML-Ops AI-Ops practices to ensure efficient model deployment and management.\\nBig Data Management: Manage big data infrastructure and execute data engineering tasks for efficient data processing.\\nVersion Control and Collaboration: Utilize version control systems like Git for maintaining codebase integrity and fostering collaboration.\\nAI-Driven Product Development: Design, create, and support AI-driven products to deliver impactful solutions aligned with user needs and business objectives.\\n\\n\\nRequired Technical and Professional Expertise\\nIndustry Experience: Minimum 8+ years of experience in the IT industry. 2 years of experience in developing AI/ML solutions in Python\\nTechnical Proficiency: Proficient in Python programming, Java, Go, Node.js, JavaScript, TypeScript, React. Coding for Data Science: Ensures robust & reproducible implementation of algorithms and experiments. Deep experience with python libraries.\\nDatabase Management: Strong understanding of database concepts and experience working with Postgres relational database, OpenSearch documentation database.\\nData Science Skills: Strong background in data science, statistics, mathematics, and analytical techniques.\\nMachine Learning Expertise: Expertise in machine learning and deep learning methodologies, including foundation models. Statistics, Machine Learning, and AI: Builds expertise in tools & techniques to evaluate trust and transparency. Masters use of data science platforms and tools\\nBig Data Technologies: Familiarity with big data technologies and data engineering practices.\\nVersion Control Systems: Experience with version control systems, particularly Git, and proficiency with GitHub for code collaboration.\\n\\n\\nPreferred Technical and Professional Expertise\\nExperience with DevOps and Cloud computing Docker, Kuberenetes, Openshift\\nAgile Application Development & Scrum methodologies.\\nFamiliarity with z/OS and mainframe technologies.\\nExperience with Continuous Integration Continuous Delivery (CI/CD) methodologies\\nFamiliar with cloud-based platforms and services\\n\\nRole: Full Stack Data Scientist\\nIndustry Type: IT Services & Consulting\\nDepartment: Data Science & Analytics\\nEmployment Type: Full Time, Permanent\\nRole Category: Data Science & Machine Learning\\nEducation\\nUG: Any Graduate\\nPG: Any Postgraduate\\nKey Skills\\nSkills highlighted with ‘‘ are preferred keyskills\\npythongolangdatabase managementnodejava\\ngithubmachine learningjavascriptartificial intelligencereact.jsdeep learningnode.jsopsdata sciencepostgresqldatabase creationpredictive modelingtypescriptbig datastatisticsml', 'Job description\\nYour Role and Responsibilities\\nWork with broader team to build, analyze and improve the AI solutions.\\nYou will also work with our software developers in consuming different enterprise applications.\\n\\n\\nRequired Technical and Professional Expertise\\nResource should have 5-7 years of experience. Sound knowledge of Python and should know how to use the ML related services.\\nProficient in Python with focus on Data Analytics Packages. Strategy Analyse large, complex data sets and provide actionable insights to inform business decisions. Strategy\\nDesign and implementing data models that help in identifying patterns and trends. Collaboration Work with data engineers to optimize and maintain data pipelines.\\nPerform quantitative analyses that translate data into actionable insights and provide analytical, data-driven decision-making. Identify and recommend process improvements to enhance the efficiency of the data platform. Develop and maintain data models, algorithms, and statistical models.\\n\\n\\nPreferred Technical and Professional Expertise\\nExperience with conversation analytics. Experience with cloud technologies\\nExperience with data exploration tools such as Tableu\\n\\nRole: Data Scientist\\nIndustry Type: IT Services & Consulting\\nDepartment: Data Science & Analytics\\nEmployment Type: Full Time, Permanent\\nRole Category: Data Science & Machine Learning\\nEducation\\nUG: Any Graduate\\nPG: Any Postgraduate\\nKey Skills\\nSkills highlighted with ‘‘ are preferred keyskills\\npythondata analyticsartificial intelligencetableauml\\nhivealgorithmsdata analysisnatural language processingpysparkpower bimachine learningsqlpandasdeep learningdata sciencesparkkafkadata visualizationhadoopawsbig dataetl', 'No Present', 'Job description\\nKey Responsibilities\\nSupports the design and development of program methods, processes and systems to consolidate and analyze structured and unstructured, diverse \"big data\" sources\\nSupports ad-hoc statistical and data mining analysis, using statistical tools like R, SAS and MATlab\\nInterfaces with internal customers for requirements analysis and compiles data for scheduled or special reports and analysis\\nSupports project teams to develop analytical models, algorithms and automated processes, applying SQL understanding and PHP or Python programming, to cleanse, integrate and evaluate large datasets.\\nSupports the timely development of products for manufacturing and process information by applying sophisticated data analytics\\nQualification:\\n4 - 7 years of experience as data scientist\\nDemonstrated experience in applying AI / ML models to solve business issues\\nRequired technical skills in SQL, Hadoop (preferred), Python, AI / ML models (NLP / LLM / ARIMA / etc)\\nExperience in Supply Chain domain and Tableau\\nFunctional Knowledge\\nDemonstrates expanded conceptual knowledge in own discipline and broadens capabilities\\nBusiness Expertise\\nUnderstands key business drivers; uses this understanding to accomplish own work\\nLeadership\\nNo supervisory responsibilities but provides informal guidance to new team members\\nProblem Solving\\nSolves problems in straightforward situations; analyzes possible solutions using technical experience and judgment and precedents\\nImpact\\nImpacts quality of own work and the work of others on the team; works within guidelines and policies\\nInterpersonal Skills\\nExplains complex information to others in straightforward situations\\nRole: Full Stack Data Scientist\\nIndustry Type: Electronic Components / Semiconductors\\nDepartment: Data Science & Analytics\\nEmployment Type: Full Time, Permanent\\nRole Category: Data Science & Machine Learning\\nEducation\\nUG: Any Graduate\\nPG: LLM in Law\\nKey Skills\\nSkills highlighted with ‘‘ are preferred keyskills\\nSQL\\nRNLPSASARIMAHadoopTableauLLMMATlabPython', 'Job description\\nJob Responsibility:\\n\\n• We are looking for a data scientist who will help us discover the\\ninformation hidden in vast amounts of data, and help us make\\nsmarter decisions to deliver AI/ML based Enterprise Software\\nProducts.\\n• Develop solutions related to machine learning, natural language\\nprocessing and deep learning & Generative AI to address business\\nneeds.\\n• Your primary focus will be in applying Language/Vision\\ntechniques, developing llm based applications and building high\\nquality prediction systems.\\n• Analyze Data: Collaborate with cross-functional teams to\\n\\nunderstand data requirements and identify relevant data sources.\\nAnalyze and preprocess data to extract valuable insights and ensure\\ndata quality.\\n• Evaluation and Optimization: Evaluate model performance using\\nappropriate metrics and iterate on solutions to enhance performance\\nand accuracy. Continuously optimize algorithms and models to\\nadapt to evolving business requirements.\\n• Documentation and Reporting: Document methodologies, findings,\\nand outcomes in clear and concise reports. Communicate results\\neffectively to technical and non-technical stakeholders.\\nWork experience background required:\\n• Experience building software from the ground up in a corporate or\\nstartup environment.\\nEssential skillsets required:\\n• 3-6 years experience in software development\\n• Educational Background: Strong computer science and\\nMath/Statistics\\n• Experience with Open Source LLM and Langchain Framework and\\nand designing efficient prompt for LLMs.\\n• Proven ability with NLP and text-based extraction techniques.\\n• Experience in Generative AI technologies, such as diffusion and/or\\nlanguage models.\\n• Excellent understanding of machine learning techniques and\\nalgorithms, such as k-NN, Naive Bayes, SVM, Decision Forests,\\netc.\\n• Familiarity with cloud computing platforms such as GCP or AWS.\\nExperience to deploy and monitor model in cloud environment.\\n• Experience with common data science toolkits, such as NumPy,\\nPandas etc\\n• Proficiency in using query languages such as SQL\\n• Good applied statistics skills, such as distributions, statistical\\ntesting, regression, etc.\\n• Experience working with large data sets along with data modeling,\\nlanguage development, and database technologies\\n• Knowledge in Machine Learning and Deep Learning frameworks\\n(e.g., TensorFlow, Keras, Scikit-Learn, CNTK, or PyTorch), NLP,\\nRecommender systems, personalization, Segmentation,\\nmicroservices architecture and API development.\\n• Ability to adapt to a fast-paced, dynamic work environment and\\nlearn new technologies quickly.\\n• Excellent verbal and written communication skills\\nRole: Data Scientist\\nIndustry Type: IT Services & Consulting\\nDepartment: Data Science & Analytics\\nEmployment Type: Full Time, Permanent\\nRole Category: Data Science & Machine Learning\\nEducation\\nUG: Any Graduate\\nKey Skills\\nSkills highlighted with ‘‘ are preferred keyskills\\nData ScienceArtificial IntelligenceMachine Learning', 'Job description\\nIn the airline organization, Revenue Management and Dynamic Pricing are very strategic areas.\\nRevenue Management has greatly evolved during the past 20 years, from the early days of leg-based optimization to todays complex network Revenue Management and bid-price control. It will remain a strategic area of investment for the years to come. In a very competitive market, state of the art revenue management capabilities is a key differentiator and significantly contribute to airline profitability. In addition, the shift of the industry towards NDC and the offer/order distribution models, is putting ahead yet another Offer optimization challenge and tremendous amount of new scientific complexity.\\nDynamic Pricing is a young and promising product to optimize in real time the price returned during a shopping session, depending on the customer segmentation and the competition environment, with airlines eager to pilot and benefit from those extra revenues.\\nCombined with our latest algorithms proven through advanced modelling on up-to-date airline business scenarios, and the unbeatable advantages of tight integration with Inventory and the entire Alt a Suite, Amadeus proposes one of the airline industry s best revenue management and dynamic pricing solutions.\\nThis science is powered by a big amount of data and needs to be controlled by the end users with efficient interfaces and workflows.\\nDynamic Pricing context\\nThis position consists specifically in developing the models of the Dynamic Pricing application executed in real time to perform price optimization.\\nAccountabilities\\nAnalyze specifications, help to define user requirements for the development of software solutions.\\nDesign and development.\\nDesign technical solutions and perform feasibility studies.\\nPropose viable technical solutions.\\nDevelop software according to Amadeus standards.\\nData Science activities\\nML Model training.\\nML Model calibration for different customers\\nKPI definition and measurements.\\nData mining, data analysis\\nResearch\\nDesign new algorithms / models. Enhance the exiting ones.\\nIndustrialize and implement new prototypes.\\nTest and support\\nConduct unit, package and performance tests and ensure a level of quality in line with the Amadeus guidelines.\\nParticipate in the validation phase of the product cycle, fine-tuning when necessary to finalize the product.\\nSupport the customer, perform investigation about the model result and behavior.\\nDocumentation\\nSkills\\n- Python/Java/Scala.\\n- Applied ML experience (PyTorch, Tensorflow )\\n- SQL\\n- Tableau / PowerBI\\n- Interest in Mathematics and Modelling.\\n- Big Data: Hadooop-Spark-Scala basic knowledge.\\n- Knowledge on Cloud/Azure/Databricks is a plus.\\nRole: Data Scientist\\nIndustry Type: IT Services & Consulting\\nDepartment: Data Science & Analytics\\nEmployment Type: Full Time, Permanent\\nRole Category: Data Science & Machine Learning\\nEducation\\nUG: Any Graduate\\nPG: Any Postgraduate\\nKey Skills\\nData analysisdata scienceSCALARevenue managementData miningbig dataSoftware solutionsSQLPythonAmadeus', \"Job description\\nAbout the role :As a Data Scientist, you will be at the forefront of driving innovation through cutting-edge data analytics and machine learning applications across diverse industries. On a typical day, immerse yourself in the following:\\nAnalytical Translation: Translate complex business problems into sophisticated analytical structures, conceptualizing solutions anchored in statistical and machine learning methodologies.\\nProblem Solving: While technical proficiency in data manipulation, statistical modelling, and machine learning is crucial, the ability to apply these skills to solve real-world business problems is equally vital.\\nClient Engagement: Establish a deep understanding of clients' business contexts, working closely to unravel intricate challenges and opportunities.\\nAlgorithmic Expertise: Develop and refine algorithms and models, sculpting them into powerful tools to surmount intricate business challenges.\\nQuantitative Mastery: Conduct in-depth quantitative analyses, navigating vast datasets to extract meaningful insights that drive informed decision-making.\\nCross-Functional Collaboration: Collaborate seamlessly with multiple teams, including Consulting and Engineering, fostering relationships with diverse stakeholders to meet deadlines and bring Analytical Solutions to life.\\nDesired Skills and Experience :\\n4 -7 years of Relevant Data Science Experience, with demonstrated proficiency and hands-on experience navigating data science complexities.\\nGood communication skills, both verbal and written.\\nExhibit a fervor for crafting modular, scalable, and bug-free Python code.\\nComfortable in SQL with additional proficiency in office tools like Excel & PowerPoint.\\nExperience in production engineering best practices (e.g. Git versioning, Docker).\\nFamiliarity or experience with working on large data sets and distributed computing (e.g. Hive, Hadoop, Spark)\\nWorking knowledge of Cloud platforms (e.g. AWS, Azure, GCP).\\nExcitement to collaborate with diverse stakeholders across the organization.\\nIn-depth understanding of various data science approaches, machine learning algorithms, and statistical methods.\\nHunger to learn new technologies and embrace the change.\\nProficiency in foundational concepts and algorithms in machine learning, encompassing regression and classification techniques, and a keen awareness of their assumptions, strengths, and limitations.\\nMust-Have Skills: Regression/Classification/Optimization/ Python Proficiency in these key skills is crucial to thriving in this role.\\nKindly share your updated resume to this Mail ID\\nhari.chandana@tigeranalytics.com\\n\\nRegards,\\nHari Chandana\\n\\nRole: Data Scientist\\nIndustry Type: Analytics / KPO / Research\\nDepartment: Data Science & Analytics\\nEmployment Type: Full Time, Permanent\\nRole Category: Data Science & Machine Learning\\nEducation\\nUG: Any Graduate\\nKey Skills\\nSkills highlighted with ‘‘ are preferred keyskills\\nRegressionModel Building\\nLogistic RegressionMarket Mix ModellingMarketing AnalyticsLinear RegressionTime Series AnalysisClassificationTime SeriesStatistical ModelingMachine Learning AlgorithmsPredictive AnalyticsPython\", 'Job description\\nThis role will provide YOU the opportunity to lead key activities to progress YOUR career. These responsibilities include some of the following:\\nImplements robust data governance processes, maintaining well-documented and current business rules.\\nIdentifies opportunities for enhancing data processes and access, optimizing analytics applications.\\nDevelops and upholds efficient data access procedures, ensuring data is maximized for analysis methods and advanced analytics applications.\\nEstablishes ongoing data quality metrics, enabling early detection of data issues in ingestion and curation, ensuring accuracy and reliability for analytics.\\nImplements effective data quality controls, building confidence among key users and stakeholders, including data scientists.\\nWe are looking for professionals with these required skills to achieve our goals:\\nMust have:\\nTotal IT experience required 5-7 years.\\n2+ years of experience working with unstructured data analysis/text analytics/natural language processing.\\n2 + Experience in machine learning, NLP, python and/or R\\n2+ years preferred experience with SQL or other programming/database manipulation methods and tools to collect, integrate, and manipulate data for analytics usage and reporting.\\nDemonstrate proficiency in Python programming, SQL, Statistics, data pipelines and data story telling through visualization methods e.g., PowerBI, PowerPoint, Excel etc.\\nWorking knowledge of cloud based and local data science frameworks and toolkits. Experience in Azure / Databricks is preferred but GCP / AWS would be considered.\\nGood to have:\\nWorking with, integrating, and using healthcare data preferred.\\nBe able to compile, integrate and analyze data from multiple sources to answer business questions and ad-hoc analysis requests.\\nShould be able to independently drive stakeholder discussions and project delivery.\\nRole: Data Scientist\\nIndustry Type: Pharmaceutical & Life Sciences\\nDepartment: Data Science & Analytics\\nEmployment Type: Full Time, Permanent\\nRole Category: Data Science & Machine Learning\\nEducation\\nUG: Any Graduate\\nPG: Any Postgraduate\\nKey Skills\\nProcurementData analysisGCPHealthcareOncologyhealthcare analyticsData qualityAnalyticsSQLPython', 'Job description\\nWe are looking for a highly motivated real world evidence (RWE) data scientist who has experience in generating insights/evidence from claims and EHR real world data (RWD) to join our growing Bangalore-based RWE analytics team at Clarivate.\\n\\nWhat will you be doing in this role?\\nYou will support the execution and delivery of custom analytics solutions for customers and work with our internal teams on next generation RWE solutions. Specifically, you will:\\nServe as a biostatistics and modeling resource on Clarivate s customer-facing RWE custom analytics project teams\\nProvide statistical and modeling support on observational research, HEOR, and RWE studies for Clarivate s pharma, medtech and biotechnology clients\\nContribute to the development of machine learning and other advanced analytics solutions for improving RWD-based analytics and evidence/insight generation\\nContribute to the analytics infrastructure build of RWE insights managed service offerings for our clients\\nFollow organizational processes & best practices, ensuring client satisfaction throughout engagements\\nMinimum experience, education, skills\\nGraduate/ postgraduate degree in epidemiology, biostatistics, health informatics, economics, data science, or equivalent quantitative field.\\nAt least 5 years of industry experience utilizing RWD (US healthcare claims, EHR, registries etc.) for observational research studies and evidence/insights generation or experience in applied biostatistics, epidemiology or equivalent, especially in observational research, HEOR, and RWE generation.\\nTraining or coursework in experimental / clinical / epidemiologic study design\\nExperience and/or training/coursework in data visualization and data storytelling\\nSkilled in SQL and Python. R is a plus\\nExperience with git version control and related tools (e.g. Bitbucket)\\nIt would be great if you also had..\\nMasters or PhD\\nTraining or coursework in machine learning and other advanced analytics methods\\nSome experience in dev ops, ML ops, and building scalable analytics workflows\\nFamiliarity with common pharma/medtech product commercialization use cases, including market access, commercial targeting, and patient journey/LOT among others.\\nRole: Data Scientist\\nIndustry Type: Analytics / KPO / Research\\nDepartment: Data Science & Analytics\\nEmployment Type: Full Time, Permanent\\nRole Category: Data Science & Machine Learning\\nEducation\\nUG: Any Graduate\\nPG: Any Postgraduate\\nKey Skills\\nTrainingClaimsPharmaMachine learningdata visualizationUS healthcareEpidemiologyAnalyticsSQLPython', \"Job description\\nTiger Analytics is a global AI and analytics consulting firm. With data and technology at the core of our solutions, our 3900+ tribe is solving problems that eventually impact the lives of millions globally. Our culture is modeled around expertise and respect with a team-first mindset. Headquartered in Silicon Valley, youll find our delivery centers across the globe and offices in multiple cities across India, the US, UK, Canada, and Singapore, including a substantial remote global workforce.\\nWere Great Place to Work-Certified. Working at Tiger Analytics, youll be at the heart of an AI revolution. Youll work with teams that push the boundaries of what is possible and build solutions that energize and inspire.\\n\\nAbout the role :As a Data Scientist, you will be at the forefront of driving innovation through cutting-edge data analytics and machine learning applications across diverse industries. On a typical day, immerse yourself in the following:\\n\\nAnalytical Translation: Translate complex business problems into sophisticated analytical structures, conceptualising solutions anchored in statistical and machine learning methodologies.\\nProblem Solving: While technical proficiency in data manipulation, statistical modelling, and machine learning is crucial, the ability to apply these skills to solve real-world business problems is equally vital.\\nClient Engagement: Establish a deep understanding of clients' business contexts, working closely to unravel intricate challenges and opportunities.\\nAlgorithmic Expertise: Develop and refine algorithms and models, sculpting them into powerful tools to surmount intricate business challenges.\\nQuantitative Mastery: Conduct in-depth quantitative analyses, navigating vast datasets to extract meaningful insights that drive informed decision-making.\\nCross-Functional Collaboration:Collaborate seamlessly with multiple teams, including Consulting and Engineering, fostering relationships with diverse stakeholders to meet deadlines and bring Analytical Solutions to life.\\n\\nDesired Skills and Experience :\\n4 -9 years of Relevant Data Science Experience, with demonstrated proficiency and hands-on experience navigating data science complexities.\\nGood communication skills, both verbal and written.\\nExhibit a fervour for crafting modular, scalable, and bug-free Python code.\\nComfortable in SQL with additional proficiency in office tools like Excel & PowerPoint.\\nExperience in production engineering best practices (e.g. Git versioning, Docker).\\nFamiliarity or experience with working on large data sets and distributed computing (e.g. Hive, Hadoop, Spark)\\nWorking knowledge of Cloud platforms (e.g. AWS, Azure, GCP).\\nExcitement to collaborate with diverse stakeholders across the organisation.\\nIn-depth understanding of various data science approaches, machine learning algorithms, and statistical methods.\\nHunger to learn new technologies and embrace the change.\\nProficiency in foundational concepts and algorithms in machine learning, encompassing regression and classification techniques, and a keen awareness of their assumptions, strengths, and limitations.\\nMust-Have Skills: Regression/Classification/Optimization/ Python Proficiency in these key skills is crucial to thriving in this role.\\n\\nNote: The designation will be commensurate with expertise and experience. Compensation packages are among the best in the industry.\\n\\n\\nRole: Data Scientist\\nIndustry Type: IT Services & Consulting\\nDepartment: Data Science & Analytics\\nEmployment Type: Full Time, Permanent\\nRole Category: Data Science & Machine Learning\\nEducation\\nUG: Any Graduate\\nKey Skills\\nSkills highlighted with ‘‘ are preferred keyskills\\nClassificationModel BuildingRegression ModelingPython\\nPredictive ModelingMachine Learning Algorithms\", 'Job description\\nStrong engineering mindset\\nMust have basic Computer Science degree\\nShould be a Java Full Stack Engineer + hands on Data engg expertise (designing , developing, Oracle /MongoDB Data WareHouse, worked on optimization for data extraction and analytics) + Python\\nAi/ML will be a pls for Scientist role\\n\\nIf interested please share resume on Darshana.Potdukhe@ltimindtree.com.\\nRole: Data Scientist\\nIndustry Type: IT Services & Consulting\\nDepartment: Data Science & Analytics\\nEmployment Type: Full Time, Permanent\\nRole Category: Data Science & Machine Learning\\nEducation\\nUG: Any Graduate\\nKey Skills\\nSkills highlighted with ‘‘ are preferred keyskills\\nData EngineeringData Scientist\\nData ScienceJavaoracleAIFull StackMongo DBML', \"Job description\\nData Scientist\\nReq number:\\nR3008\\nEmployment type:\\nFull time\\nWorksite flexibility:\\nHybridWho we are\\nCAI is a global technology services firm with over 8,500 associates worldwide and a yearly revenue of $1 billion+. We have over 40 years of excellence in uniting talent and technology to power the possible for our clients, colleagues, and communities. As a privately held company, we have the freedom and focus to do what is right—whatever it takes. Our tailor-made solutions create lasting results across the public and commercial sectors, and we are trailblazers in bringing neurodiversity to the enterprise.\\nJob Summary\\nWe are looking for a Senior Data Scientist to key need is to work with various business units to understand their challenges in manufacturing analytics, Revenue Forecasting, Predictive Maintenance, Spend Analytics etc. and collect available data points to prepare analytics model and insights which would help business to take decisions. This position will be full-time and Hybrid.\\nJob Description\\nWhat You’ll Do\\nExpertise in Forecasting Techniques, Regression Techniques, Anomaly detection.\\nUnderstand business challenges and convert it to Analytical Solutions and present to management.\\nPrimary focus will be in applying data mining techniques, Hypothesis testing, doing statistical analysis, and building high quality prediction systems using AI/ML Algorithms\\nUse predictive modelling to increase and optimize Customer experiences, Revenue generation, Cost reduction, Transportation optimization etc.\\nMine and analyze data from on-prim/cloud database to drive optimization and process improvement.\\nWhat You'll Need\\nRequired:\\nExperience with common data science toolkits, such as PYCARET, TensorFlow, Keras, NumPy, Sci-Kit, Flask, Pandas, NLP and Advance libraries etc.\\nWorked in Supply chain domain or Manufacturing domain and executed projects on Forecasting, Optimization, Anomaly Detection, Image Classification, Clustering, Sentiment Analysis etc.\\nProficiency in using query languages such as SQL, Data Lakes, Data Factory, Kubernetes etc.\\nPreferably hands-on in Model development and deployment in Azure using CI/CD pipeline.\\nExpertise in Statistical model building and Machine Learning.\\nGood knowledge on Data extraction, Data Cleansing, Data preparation, Model Development, and deployment for models.\\nGood hands-on experience in data visualization tools like ggplot, matplotlib, Tableau, PowerBI.\\nHands on expertise in Model development and deployment using CI/CD, Docker etc.\\nProficient in Statistical tools like Python, Azure Machine Learning, Auto ML tools.\\nGood knowledge on Tableau or Power BI.\\nEnd to End analytical project implementation on Azure /AWS.\\nAccountability and work with minimum supervision.\\nHigh work quality and innovative thinking.\\nKnowledge of new tool/techniques in Analytical field.\\nPreferred:\\n6-8 Years’ experience Model Development and Deployment\\nPython, Azure/AWS\\nMaster’s degree (preferably in Statistics) or B.Tech /B.E\\nPrior experience with EMEA business\\nMust be willing to work on Flexible shifts (12 PM – 9PM)\\nExperience in working with Team Collaboration & Cloud tools\\nAlgorithm building and deployment using Azure/AWS platform\\nPhysical Demands\\nSedentary work that involves sitting or remaining stationary most of the time with occasional need to move around the office to attend meetings, etc.\\nAbility to conduct repetitive tasks on a computer, utilizing a mouse, keyboard, and monitor\\nReasonable accommodation statement\\nIf you require a reasonable accommodation in completing this application, interviewing, completing any pre-employment testing, or otherwise participating in the employment selection process, please direct your inquiries to application.accommodations@cai.io or (888) 824 – 8111.\\nRole: Full Stack Data Scientist\\nIndustry Type: IT Services & Consulting\\nDepartment: Data Science & Analytics\\nEmployment Type: Full Time, Permanent\\nRole Category: Data Science & Machine Learning\\nEducation\\nUG: B.Tech/B.E. in Any Specialization\\nPG: Any Postgraduate\\nKey Skills\\nhypothesis testingnatural language processingscikit-learnforecastingdata miningstatistical toolsanomaly detectionmodel buildingrandom forestmachine learningartificial intelligencesqltensorflowmanagementregressionkerasmodel developmentquery writing\", \"Job description\\nData Scientist\\nReq number:\\nR3009\\nEmployment type:\\nFull time\\nWorksite flexibility:\\nHybridWho we are\\nCAI is a global technology services firm with over 8,500 associates worldwide and a yearly revenue of $1 billion+. We have over 40 years of excellence in uniting talent and technology to power the possible for our clients, colleagues, and communities. As a privately held company, we have the freedom and focus to do what is right—whatever it takes. Our tailor-made solutions create lasting results across the public and commercial sectors, and we are trailblazers in bringing neurodiversity to the enterprise.\\nJob Summary\\n• We are looking for a Senior Data Scientist to key need is to work with various business units to understand their challenges in manufacturing analytics, Revenue Forecasting, Predictive Maintenance, Spend Analytics, Customer service etc. and collect available data points to prepare analytics model and insights which would help business to take decisions. This position will be full-time and Hybrid.\\nJob Description\\nWhat You’ll Do\\nDemonstrate expertise in natural language processing (NLP), text analytics, and generative AI by utilizing advanced AI/ML algorithms.\\nUse pretrained models from Hugging Face and fine-tune large language models (LLM).\\nApply deep learning techniques for text analytics, including transformers, neural network architectures, vector databases, and embeddings.\\nLeverage generative AI frameworks and tools such as Lang Chain, Llama Index, and agentic methodologies like CREWAI and Auto Gen.\\nApply data mining methods and statistical analysis to construct predictive systems aimed at improving customer experiences, revenue generation, cost reduction, and transportation optimization.\\nDevelop and implement forecasting techniques, regression models, and text analytics solutions.\\nUtilize data science toolkits, including AWS, Azure ML, TensorFlow, Keras, NumPy, Sci-Kit Learn, Flask, Pandas, and Py Caret. Create visualizations using tools such as ggplot, matplotlib, Tableau, and PowerBI.\\nUse query languages like SQL and work with data lakes, data factories, and Kubernetes.\\nDevelop and deploy models in Azure and AWS, leveraging CI/CD pipelines.\\nPresent data-driven insights to management effectively.\\nWhat You'll Need\\nRequired:\\nExpertise in Statistical model building and Machine Learning.\\nGood knowledge on Data extraction, Data Cleansing, Data preparation, Model Development, and deployment for models.\\nMine and analyze data from on-prim/cloud database to drive optimization and process improvement.\\nGood understanding of Model development, CI/CD, Docker etc.\\nProficient in Statistical tools like Python, Azure Machine Learning, Auto ML tools.\\nEnd to End analytical project implementation on Azure /AWS.\\nAccountability and work with minimum supervision.\\nHigh work quality and innovative thinking.\\nKnowledge of new tool/techniques in Analytical field.\\nPreferred:\\n4-6 Years’ experience Model Development and Deployment.\\nPython, Azure ML, AWS Sagemaker.\\nMaster’s degree (preferably in Computer Science) or B.Tech /B.E.\\nPrior experience with EMEA business.\\nMust be willing to work on Flexible shifts.\\nExperience in working with Team Collaboration & Cloud tools.\\nAlgorithm building and deployment using Azure/AWS platform.\\nPhysical Demands\\nSedentary work that involves sitting or remaining stationary most of the time with occasional need to move around the office to attend meetings, etc.\\nAbility to conduct repetitive tasks on a computer, utilizing a mouse, keyboard, and monitor\\nReasonable accommodation statement\\nIf you require a reasonable accommodation in completing this application, interviewing, completing any pre-employment testing, or otherwise participating in the employment selection process, please direct your inquiries to application.accommodations@cai.io or (888) 824 – 8111.\\nRole: Full Stack Data Scientist\\nIndustry Type: IT Services & Consulting\\nDepartment: Data Science & Analytics\\nEmployment Type: Full Time, Permanent\\nRole Category: Data Science & Machine Learning\\nEducation\\nUG: B.Tech/B.E. in Any Specialization\\nPG: LLM in Any Specialization, Any Postgraduate\\nKey Skills\\nnatural language processingindexingazure machine learningstatistical toolsmicrosoft azurepower bimodel buildingrandom forestnumpymachine learningartificial intelligenceazure devopstext analyticssqldockerpandastensorflowmatplotlibscikerasawsflask\", 'Job description\\nRequired Skills (Technical):-\\n\\nAdvanced knowledge of statistical techniques, NLP, machine learning algorithms and deep learning frameworks like TensorFlow, Theano, Keras, Pytorch.\\n\\nKnowledge of work with Pyspark is a must. (Working with Azure Databricks platform is preferred)\\n\\nAdvanced knowledge in handling Time Series Data and modelling it with time series algorithms.\\n\\nKnowledge of working with Geospatial data would be preferable.\\n\\nProficiency with modern statistical modelling (regression, boosting trees, random forests, etc.), machine learning (text mining, neural network, NLP, etc.), optimization (linear optimization, nonlinear optimization, stochastic optimization, etc.) methodologies.\\n\\nBuild complex predictive models using ML and DL techniques with production quality code and jointly own complex data science workflows with the Data Engineering team.\\n\\nFamiliar with modern data analytics architecture and data engineering technologies (SQL and No-SQL databases).\\n\\nKnowledge of REST APIs and Web Services 6. Experience with Python, R, sh/bash\\n\\nRequired Skills (Non-Technical):-\\n\\nFluent in English Communication (Spoken and verbal)\\n\\nShould be a team player\\n\\nShould have a learning aptitude\\n\\nDetail-oriented, analytically.\\n\\nExtremely organized with strong time-management skills\\n\\nProblem Solving & Critical Thinking Require\\n\\nWork Location :Remote , hyderabad,ahmedabad,pune,chennai,kolkata.\\n\\nWork Timing : 2:30 PM to 11:30 PM IST\\nRole: Data Scientist\\nIndustry Type: IT Services & Consulting\\nDepartment: Data Science & Analytics\\nEmployment Type: Full Time, Permanent\\nRole Category: Data Science & Machine Learning\\nEducation\\nUG: B.Tech/B.E. in Any Specialization\\nPG: MCA in Any Specialization\\nDoctorate: Doctorate Not Required\\nKey Skills\\nSkills highlighted with ‘‘ are preferred keyskills\\nNLPMachine LearningDeep Learning\\nPytorchTheanoPysparkdata scienceAzure Databricksstatistical modellingKerasTensorFlow', \"Job description\\nRole & responsibilities\\n\\nAbout Company\\nSykatiya Technology Pvt Ltd is a leading Semiconductor Industry innovator committed to leveraging cutting-edge technology to solve complex problems. We seek a highly skilled and motivated Data Scientist to join our dynamic team and contribute to our mission of driving innovation through data-driven insights.\\n\\nJob Summary:\\n\\nAs a Lead Data Scientist and Machine Learning Engineer at Sykatiya Technology Pvt Ltd, you will be responsible for analyzing large datasets to uncover patterns, develop predictive models, and implement AI/ML solutions. You will work on projects involving neural networks, deep learning, data mining, and natural language processing (NLP) to drive business value and improve our products and services.\\n\\nKey Responsibilities:\\n\\n1. Lead the design and implementation of machine learning models and algorithms to solve complex business problems.\\n2. Apply deep learning techniques to enhance neural network models and improve prediction accuracy.\\n3. Perform data mining and analysis to uncover actionable insights from structured and unstructured data.\\n4. Utilize natural language processing (NLP) techniques for advanced text analytics.\\n5 . Develop and maintain end-to-end data pipelines, ensuring data integrity and reliability.\\n6. Collaborate with cross-functional teams to understand business requirements and deliver data-driven solutions.\\n7. Mentor and guide junior data scientists and engineers in best practices and advanced techniques.\\n8. Stay abreast of the latest advancements in AI/ML, neural networks, deep learning, data mining, and NLP.\\n\\nTechnical Skills:\\n\\n1. Proficiency in Python and its libraries (e.g., NumPy, pandas, sci-kit-learn, TensorFlow, Keras, PyTorch).\\n2. Strong understanding of machine learning algorithms and techniques.\\n3. Extensive experience with neural networks and deep learning frameworks.\\n4. Hands-on experience with data mining and analysis techniques.\\n5. Proficiency in natural language processing (NLP) tools and libraries (e.g., NLTK, spaCy, transformers).\\n6. Big Data Technologies: Proficiency in Sqoop, Hadoop, HDFS, Hive, PySpark.\\n7. Cloud Platforms: Experience with AWS services (e.g., S3, Step Functions, EventBridge, Athena, RDS, Lambda, Glue).\\n8. Database Management: Strong knowledge of SQL, Teradata, MySQL, PostgreSQL, and Snowflake.\\n9. Other Tools: Experience with ExactTarget, Marketo, SAP BO, Agile, and JIRA.\\n10. Analytical Skills: Ability to analyze large datasets and derive actionable insights.\\n11. Problem-Solving Skills: Strong problem-solving skills with the ability to think critically and creatively.\\n12. Communication Skills: Excellent communication and teamwork skills to collaborate with different stakeholders.\\n\\nExperience: At least 8 to 12 years of experience in a similar role.\\n\\nEducational Background: Bachelor's or Master's degree in Computer Science, Data Science, Statistics, Mathematics, or a related field.\\n\\n\\nPreferred candidate profile\\n\\n\\nPerks and benefits\\n\\n\\nRole: Data Scientist\\nIndustry Type: Emerging Technologies (AI/ML)\\nDepartment: Data Science & Analytics\\nEmployment Type: Full Time, Permanent\\nRole Category: Data Science & Machine Learning\\nEducation\\nUG: B.Tech/B.E. in Any Specialization, BCA in Any Specialization\\nPG: MCA in Any Specialization, M.Tech in Any Specialization\\nKey Skills\\nSkills highlighted with ‘‘ are preferred keyskills\\nData ScienceNatural Language ProcessingAimlNeural NetworksPython\\nArtificial IntelligenceData MiningData AnalyticsMachine LearningDeep Learning\", \"Job description\\nAs a data scientist at wakefit, you will be an integral contributor to our research-focused team, tasked with leveraging data science to advance the development of intelligent products.\\n\\nThis role entails assuming responsibility for initiatives, guiding them from inception to fruition, and interfacing with cross-functional teams.\\n\\n- You will synthesize complex data insights, applying them to enhance our smart product offerings while collaborating with product management, software engineering, and customer success to ensure a unified approach to innovation.\\n\\n- Your expertise will be vital in maintaining wakefit's commitment to leading-edge solutions in the sleep wellness and home comfort sectors.\\n\\nResponsibilities :\\n\\n- Employ advanced analytical techniques such as machine learning, deep learning, and digital signal processing on iot data to extract and interpret meaningful patterns.\\n\\n- Utilize statistical modeling and machine learning algorithms to derive insights that inform product development strategies.\\n\\n- Review current research and literature to guide model development and concept validation.\\n\\n- Develop and maintain comprehensive data pipelines from problem identification to model.\\n\\n- Deployment, ensuring scalability and efficacy.\\n\\nRequirements :\\n\\n- A minimum of 2-3 years of experience in python/matlab, with a focus on data science and applied statistics.\\n\\n- Bachelor's or master's degree in engineering, statistics, or applied mathematics, demonstrating a strong analytical skill set.\\n\\n- Proficiency in python data science libraries such as pandas, numpy, matplotlib, scikit-learn, opencv, tensorflow, keras, etc.\\n\\n- Significant experience in time-series data analysis.\\n\\n- Effective problem-solving skills and the ability to methodically address complex, analytical challenges.\\n\\n- Clear and concise communication skills are essential for articulating complex data insights to both technical and non-technical audiences.\\n\\n- Previous experience with iot devices.\\n\\nGood to haves :\\n\\n- Previous experience in digital signal processing.\\n\\n- Experience in processing physiological signals and familiarity with relevant techniques.\\n\\n- Experience in handling image and audio data processing in python/matlab.\\nRole: Full Stack Data Scientist\\nIndustry Type: IT Services & Consulting\\nDepartment: Data Science & Analytics\\nEmployment Type: Full Time, Permanent\\nRole Category: Data Science & Machine Learning\\nEducation\\nUG: B.Tech/B.E. in Production/Industrial, Any Graduate\\nPG: M.Tech in Electronics/Telecommunication\\nDoctorate: Doctorate Not Required\\nKey Skills\\nSkills highlighted with ‘‘ are preferred keyskills\\nPython\\nData ScienceOpenCVData ScientistData ManagementMATLABMachine LearningNumpyDeep LearningSignal Processing\", 'Job description\\nPreceptors IT and Business Solutions is looking for Data Scientist to join our dynamic team and embark on a rewarding career journey\\nUndertaking data collection, preprocessing and analysis\\nBuilding models to address business problems\\nPresenting information using data visualization techniques\\nIdentify valuable data sources and automate collection processes\\nUndertake preprocessing of structured and unstructured data\\nAnalyze large amounts of information to discover trends and patterns\\nBuild predictive models and machine-learning algorithms\\nCombine models through ensemble modeling\\nPresent information using data visualization techniques\\nPropose solutions and strategies to business challenges\\nCollaborate with engineering and product development teams\\nRole: Data Scientist\\nIndustry Type: IT Services & Consulting\\nDepartment: Data Science & Analytics\\nEmployment Type: Full Time, Permanent\\nRole Category: Data Science & Machine Learning\\nEducation\\nUG: Any Graduate\\nPG: Any Postgraduate\\nKey Skills\\nalgorithmspythonproject managementmodelingdata analysisdata analyticspreventive maintenancebusiness solutionspredictivebusiness analysismachine learningdata collectiontableaurproduct developmentdata visualizationstatistics', 'Job description\\nDeveloping prediction systems and machine learning algorithms9\\nContinuously refine and optimize models for performance, scalability, and efficiency\\nDeploy models into production environments and monitor their performance\\nExplore and experiment with generative AI models (text and image generation models) suitable for the given requirements\\nTrain and evaluate generative models, fine-tuning parameters for desired outputs\\nIntegrate generative models into production workflows or applications\\nWork with senior da scientists to implement solutions for business problemsRequirements1\\nExperience: 3-4 years of proven experience in data science, AI/ML field\\nEducation: Bachelor s degree/ master s degree in computer science, Statistics, Applied Math, or related field\\nProgramming Skills: Mastery in Python and database query languages like SQL\\nFamiliarity with R, Java, C++ is an added advantage\\nStatistics: Good applied statistical skills, including knowledge of statistical tests, distributions, regression, maximum likelihood estimators, etc\\nMachine Learning: good knowledge of machine learning methods like k-Nearest Neighbors, Naive Bayes, SVM, Decision Tree, time series predictions, Deep neural networks, recommendation systems, collaborative filtering etc\\nGenerative AI: Good experience of Gen AI frameworks and components like Langchain, vector databases, text/image generation models from Huggingface, Ollama, Open AI etc\\nDeep learning/machine learning tools: Hands on experience with data science tools such as TensorFlow, Keras, Scikit-learn, PyTorch9\\nStrong Math Skills (Multivariable Calculus and Linear Algebra): understanding the fundamentals of Multivariable Calculus and Linear Algebra is important as they form the basis of a lot of predictive performance or algorithm optimization techniques\\nData Wrangling: proficiency in handling imperfections in data is an important aspect of a data scientist job description\\nExperience with Data Visualization Tools like matplotlib, seaborn, ggplot, d3js\\n, Power BI, Tableau that help to visually encode data\\nExcellent Communication Skills:\\nStrong Software Engineering Background\\nProblem-solving aptitude\\nAnalytical mind and great business sense\\nRole: Data Scientist\\nIndustry Type: Recruitment / Staffing\\nDepartment: Data Science & Analytics\\nEmployment Type: Full Time, Permanent\\nRole Category: Data Science & Machine Learning\\nEducation\\nUG: Any Graduate\\nPG: Any Postgraduate\\nKey Skills\\nComputer scienceC++Neural networksAnalyticalMachine learningData collectiondata visualizationData miningSQLPython', 'Job description\\nRole : Sr. Data Science Engineer\\nExperience : 4 -10 Years\\nLocation : Bangalore(WFO)\\nShift : General\\nRequired Skills: NLP, GenAI, Python, Machine Learning, Deep Learning, GIT, LLM\\nJob Description:\\nExperience with NLP, GenAi Machine Learning fundamentals, with working knowledge of Python and experience with Deep Learning frameworks such as Pytorch, TensorFlow, JAX or MXNet\\nRequired hands-on experience with design and implementation of applications using Large Language Models (LLM).\\nMore specifically:\\nSubstantial prior programming experience in languages such as R, Python, SPARK, SQL. Comfort with professional software development process and GitHub.\\nGoogle PaLM, OpenAI GPT, LLaMA, or similar models.\\nLangChain, LlamaIndex, or similar frameworks.\\nAdvanced prompt engineering.\\nRetrieval Augmented Generation (RAG).\\nVector databases (GCP Vector Search, ChromaDB, Pinecone, pgvector, or similar).\\nExperiences related to AWS services such as SageMaker, Bedrock, and similar.\\n\\nRole: Data Scientist\\nIndustry Type: IT Services & Consulting\\nDepartment: Data Science & Analytics\\nEmployment Type: Full Time, Permanent\\nRole Category: Data Science & Machine Learning\\nEducation\\nUG: Any Graduate\\nKey Skills\\nSkills highlighted with ‘‘ are preferred keyskills\\nGenAINatural Language ProcessingMachine LearningDeep LearningPython\\nPytorchTensorflowGITRAGLLMAWS', 'Job description\\n\\nRole & responsibilities\\nExperience:3-5 years\\nMandatory Skills: Data Science, Dataiku\\nLocation: Bangalore/Pune/Kolkata/Gurgaon/Remote.\\nNotice period-Immediate-15 Days\\n\\n\\nJob Description\\n\\nLeading a team of data engineers and data scientists to design, develop, and implement data solutions using the Dataiku platform.\\nTechnical expertise, mentorship, and guidance to team members, fostering a culture of innovation and continuous improvement.\\nProficiency in Dataiku and other relevant technologies.\\nLeading a team of data scientists and AI engineers, defining project objectives, and architecting AI models and algorithms to address business challenges.\\nCollaborate with cross-functional teams to gather requirements, conduct feasibility studies, and deliver scalable AI solutions that drive business value.\\n\\n\\n\\n\\nRole: Data Scientist\\nIndustry Type: IT Services & Consulting\\nDepartment: Data Science & Analytics\\nEmployment Type: Full Time, Permanent\\nRole Category: Data Science & Machine Learning\\nEducation\\nUG: Any Graduate\\nKey Skills\\nSkills highlighted with ‘‘ are preferred keyskills\\nData ScienceDataiku\\nDevelopAlgorithmsDesigning']\n"
     ]
    }
   ],
   "source": [
    "job_description=[]\n",
    "for i in job_opening_url: # iterate each and every url to fetch job detail \n",
    "    driver.get(i)          #taking each url one by one\n",
    "    time.sleep(5)\n",
    "    try:\n",
    "        description=driver.find_element(By.XPATH,'/html/body/div/div/main/div[1]/div[1]/section[2]')\n",
    "        job_description.append(description.text)\n",
    "    except NoSuchElementException as e:\n",
    "        job_description.append('No Present')\n",
    "\n",
    "print(len(job_description))\n",
    "print(job_description) "
   ]
  },
  {
   "cell_type": "code",
   "execution_count": 10,
   "id": "7a7fbc0f",
   "metadata": {},
   "outputs": [
    {
     "data": {
      "text/html": [
       "<div>\n",
       "<style scoped>\n",
       "    .dataframe tbody tr th:only-of-type {\n",
       "        vertical-align: middle;\n",
       "    }\n",
       "\n",
       "    .dataframe tbody tr th {\n",
       "        vertical-align: top;\n",
       "    }\n",
       "\n",
       "    .dataframe thead th {\n",
       "        text-align: right;\n",
       "    }\n",
       "</style>\n",
       "<table border=\"1\" class=\"dataframe\">\n",
       "  <thead>\n",
       "    <tr style=\"text-align: right;\">\n",
       "      <th></th>\n",
       "      <th>0</th>\n",
       "    </tr>\n",
       "  </thead>\n",
       "  <tbody>\n",
       "    <tr>\n",
       "      <th>0</th>\n",
       "      <td>Job description\\nA career in IBM Software mean...</td>\n",
       "    </tr>\n",
       "    <tr>\n",
       "      <th>1</th>\n",
       "      <td>Job description\\nYour Role and Responsibilitie...</td>\n",
       "    </tr>\n",
       "    <tr>\n",
       "      <th>2</th>\n",
       "      <td>No Present</td>\n",
       "    </tr>\n",
       "    <tr>\n",
       "      <th>3</th>\n",
       "      <td>Job description\\nKey Responsibilities\\nSupport...</td>\n",
       "    </tr>\n",
       "    <tr>\n",
       "      <th>4</th>\n",
       "      <td>Job description\\nJob Responsibility:\\n\\n• We a...</td>\n",
       "    </tr>\n",
       "    <tr>\n",
       "      <th>5</th>\n",
       "      <td>Job description\\nIn the airline organization, ...</td>\n",
       "    </tr>\n",
       "    <tr>\n",
       "      <th>6</th>\n",
       "      <td>Job description\\nAbout the role :As a Data Sci...</td>\n",
       "    </tr>\n",
       "    <tr>\n",
       "      <th>7</th>\n",
       "      <td>Job description\\nThis role will provide YOU th...</td>\n",
       "    </tr>\n",
       "    <tr>\n",
       "      <th>8</th>\n",
       "      <td>Job description\\nWe are looking for a highly m...</td>\n",
       "    </tr>\n",
       "    <tr>\n",
       "      <th>9</th>\n",
       "      <td>Job description\\nTiger Analytics is a global A...</td>\n",
       "    </tr>\n",
       "    <tr>\n",
       "      <th>10</th>\n",
       "      <td>Job description\\nStrong engineering mindset\\nM...</td>\n",
       "    </tr>\n",
       "    <tr>\n",
       "      <th>11</th>\n",
       "      <td>Job description\\nData Scientist\\nReq number:\\n...</td>\n",
       "    </tr>\n",
       "    <tr>\n",
       "      <th>12</th>\n",
       "      <td>Job description\\nData Scientist\\nReq number:\\n...</td>\n",
       "    </tr>\n",
       "    <tr>\n",
       "      <th>13</th>\n",
       "      <td>Job description\\nRequired Skills (Technical):-...</td>\n",
       "    </tr>\n",
       "    <tr>\n",
       "      <th>14</th>\n",
       "      <td>Job description\\nRole &amp; responsibilities\\n\\nAb...</td>\n",
       "    </tr>\n",
       "    <tr>\n",
       "      <th>15</th>\n",
       "      <td>Job description\\nAs a data scientist at wakefi...</td>\n",
       "    </tr>\n",
       "    <tr>\n",
       "      <th>16</th>\n",
       "      <td>Job description\\nPreceptors IT and Business So...</td>\n",
       "    </tr>\n",
       "    <tr>\n",
       "      <th>17</th>\n",
       "      <td>Job description\\nDeveloping prediction systems...</td>\n",
       "    </tr>\n",
       "    <tr>\n",
       "      <th>18</th>\n",
       "      <td>Job description\\nRole : Sr. Data Science Engin...</td>\n",
       "    </tr>\n",
       "    <tr>\n",
       "      <th>19</th>\n",
       "      <td>Job description\\n\\nRole &amp; responsibilities\\nEx...</td>\n",
       "    </tr>\n",
       "    <tr>\n",
       "      <th>20</th>\n",
       "      <td>Job description\\nA career in IBM Software mean...</td>\n",
       "    </tr>\n",
       "    <tr>\n",
       "      <th>21</th>\n",
       "      <td>Job description\\nYour Role and Responsibilitie...</td>\n",
       "    </tr>\n",
       "    <tr>\n",
       "      <th>22</th>\n",
       "      <td>No Present</td>\n",
       "    </tr>\n",
       "    <tr>\n",
       "      <th>23</th>\n",
       "      <td>Job description\\nKey Responsibilities\\nSupport...</td>\n",
       "    </tr>\n",
       "    <tr>\n",
       "      <th>24</th>\n",
       "      <td>Job description\\nJob Responsibility:\\n\\n• We a...</td>\n",
       "    </tr>\n",
       "    <tr>\n",
       "      <th>25</th>\n",
       "      <td>Job description\\nIn the airline organization, ...</td>\n",
       "    </tr>\n",
       "    <tr>\n",
       "      <th>26</th>\n",
       "      <td>Job description\\nAbout the role :As a Data Sci...</td>\n",
       "    </tr>\n",
       "    <tr>\n",
       "      <th>27</th>\n",
       "      <td>Job description\\nThis role will provide YOU th...</td>\n",
       "    </tr>\n",
       "    <tr>\n",
       "      <th>28</th>\n",
       "      <td>Job description\\nWe are looking for a highly m...</td>\n",
       "    </tr>\n",
       "    <tr>\n",
       "      <th>29</th>\n",
       "      <td>Job description\\nTiger Analytics is a global A...</td>\n",
       "    </tr>\n",
       "    <tr>\n",
       "      <th>30</th>\n",
       "      <td>Job description\\nStrong engineering mindset\\nM...</td>\n",
       "    </tr>\n",
       "    <tr>\n",
       "      <th>31</th>\n",
       "      <td>Job description\\nData Scientist\\nReq number:\\n...</td>\n",
       "    </tr>\n",
       "    <tr>\n",
       "      <th>32</th>\n",
       "      <td>Job description\\nData Scientist\\nReq number:\\n...</td>\n",
       "    </tr>\n",
       "    <tr>\n",
       "      <th>33</th>\n",
       "      <td>Job description\\nRequired Skills (Technical):-...</td>\n",
       "    </tr>\n",
       "    <tr>\n",
       "      <th>34</th>\n",
       "      <td>Job description\\nRole &amp; responsibilities\\n\\nAb...</td>\n",
       "    </tr>\n",
       "    <tr>\n",
       "      <th>35</th>\n",
       "      <td>Job description\\nAs a data scientist at wakefi...</td>\n",
       "    </tr>\n",
       "    <tr>\n",
       "      <th>36</th>\n",
       "      <td>Job description\\nPreceptors IT and Business So...</td>\n",
       "    </tr>\n",
       "    <tr>\n",
       "      <th>37</th>\n",
       "      <td>Job description\\nDeveloping prediction systems...</td>\n",
       "    </tr>\n",
       "    <tr>\n",
       "      <th>38</th>\n",
       "      <td>Job description\\nRole : Sr. Data Science Engin...</td>\n",
       "    </tr>\n",
       "    <tr>\n",
       "      <th>39</th>\n",
       "      <td>Job description\\n\\nRole &amp; responsibilities\\nEx...</td>\n",
       "    </tr>\n",
       "  </tbody>\n",
       "</table>\n",
       "</div>"
      ],
      "text/plain": [
       "                                                    0\n",
       "0   Job description\\nA career in IBM Software mean...\n",
       "1   Job description\\nYour Role and Responsibilitie...\n",
       "2                                          No Present\n",
       "3   Job description\\nKey Responsibilities\\nSupport...\n",
       "4   Job description\\nJob Responsibility:\\n\\n• We a...\n",
       "5   Job description\\nIn the airline organization, ...\n",
       "6   Job description\\nAbout the role :As a Data Sci...\n",
       "7   Job description\\nThis role will provide YOU th...\n",
       "8   Job description\\nWe are looking for a highly m...\n",
       "9   Job description\\nTiger Analytics is a global A...\n",
       "10  Job description\\nStrong engineering mindset\\nM...\n",
       "11  Job description\\nData Scientist\\nReq number:\\n...\n",
       "12  Job description\\nData Scientist\\nReq number:\\n...\n",
       "13  Job description\\nRequired Skills (Technical):-...\n",
       "14  Job description\\nRole & responsibilities\\n\\nAb...\n",
       "15  Job description\\nAs a data scientist at wakefi...\n",
       "16  Job description\\nPreceptors IT and Business So...\n",
       "17  Job description\\nDeveloping prediction systems...\n",
       "18  Job description\\nRole : Sr. Data Science Engin...\n",
       "19  Job description\\n\\nRole & responsibilities\\nEx...\n",
       "20  Job description\\nA career in IBM Software mean...\n",
       "21  Job description\\nYour Role and Responsibilitie...\n",
       "22                                         No Present\n",
       "23  Job description\\nKey Responsibilities\\nSupport...\n",
       "24  Job description\\nJob Responsibility:\\n\\n• We a...\n",
       "25  Job description\\nIn the airline organization, ...\n",
       "26  Job description\\nAbout the role :As a Data Sci...\n",
       "27  Job description\\nThis role will provide YOU th...\n",
       "28  Job description\\nWe are looking for a highly m...\n",
       "29  Job description\\nTiger Analytics is a global A...\n",
       "30  Job description\\nStrong engineering mindset\\nM...\n",
       "31  Job description\\nData Scientist\\nReq number:\\n...\n",
       "32  Job description\\nData Scientist\\nReq number:\\n...\n",
       "33  Job description\\nRequired Skills (Technical):-...\n",
       "34  Job description\\nRole & responsibilities\\n\\nAb...\n",
       "35  Job description\\nAs a data scientist at wakefi...\n",
       "36  Job description\\nPreceptors IT and Business So...\n",
       "37  Job description\\nDeveloping prediction systems...\n",
       "38  Job description\\nRole : Sr. Data Science Engin...\n",
       "39  Job description\\n\\nRole & responsibilities\\nEx..."
      ]
     },
     "execution_count": 10,
     "metadata": {},
     "output_type": "execute_result"
    }
   ],
   "source": [
    "job_description=pd.DataFrame(job_description)\n",
    "job_description"
   ]
  },
  {
   "cell_type": "code",
   "execution_count": null,
   "id": "b3343eac",
   "metadata": {},
   "outputs": [],
   "source": []
  }
 ],
 "metadata": {
  "kernelspec": {
   "display_name": "Python 3 (ipykernel)",
   "language": "python",
   "name": "python3"
  },
  "language_info": {
   "codemirror_mode": {
    "name": "ipython",
    "version": 3
   },
   "file_extension": ".py",
   "mimetype": "text/x-python",
   "name": "python",
   "nbconvert_exporter": "python",
   "pygments_lexer": "ipython3",
   "version": "3.11.5"
  }
 },
 "nbformat": 4,
 "nbformat_minor": 5
}

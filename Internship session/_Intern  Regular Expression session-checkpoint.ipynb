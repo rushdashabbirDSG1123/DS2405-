{
 "cells": [
  {
   "cell_type": "markdown",
   "id": "e8c83981",
   "metadata": {},
   "source": [
    "# Regular Expression"
   ]
  },
  {
   "cell_type": "code",
   "execution_count": 1,
   "id": "dab7070d",
   "metadata": {},
   "outputs": [],
   "source": [
    "import re"
   ]
  },
  {
   "cell_type": "code",
   "execution_count": 2,
   "id": "5770c4a3",
   "metadata": {},
   "outputs": [],
   "source": [
    "import regex as re"
   ]
  },
  {
   "cell_type": "code",
   "execution_count": 3,
   "id": "9417c805",
   "metadata": {},
   "outputs": [
    {
     "name": "stdout",
     "output_type": "stream",
     "text": [
      "Help on package regex:\n",
      "\n",
      "NAME\n",
      "    regex - Support for regular expressions (RE).\n",
      "\n",
      "DESCRIPTION\n",
      "    This module provides regular expression matching operations similar to those\n",
      "    found in Perl. It supports both 8-bit and Unicode strings; both the pattern and\n",
      "    the strings being processed can contain null bytes and characters outside the\n",
      "    US ASCII range.\n",
      "    \n",
      "    Regular expressions can contain both special and ordinary characters. Most\n",
      "    ordinary characters, like \"A\", \"a\", or \"0\", are the simplest regular\n",
      "    expressions; they simply match themselves. You can concatenate ordinary\n",
      "    characters, so last matches the string 'last'.\n",
      "    \n",
      "    There are a few differences between the old (legacy) behaviour and the new\n",
      "    (enhanced) behaviour, which are indicated by VERSION0 or VERSION1.\n",
      "    \n",
      "    The special characters are:\n",
      "        \".\"                 Matches any character except a newline.\n",
      "        \"^\"                 Matches the start of the string.\n",
      "        \"$\"                 Matches the end of the string or just before the\n",
      "                            newline at the end of the string.\n",
      "        \"*\"                 Matches 0 or more (greedy) repetitions of the preceding\n",
      "                            RE. Greedy means that it will match as many repetitions\n",
      "                            as possible.\n",
      "        \"+\"                 Matches 1 or more (greedy) repetitions of the preceding\n",
      "                            RE.\n",
      "        \"?\"                 Matches 0 or 1 (greedy) of the preceding RE.\n",
      "        *?,+?,??            Non-greedy versions of the previous three special\n",
      "                            characters.\n",
      "        *+,++,?+            Possessive versions of the previous three special\n",
      "                            characters.\n",
      "        {m,n}               Matches from m to n repetitions of the preceding RE.\n",
      "        {m,n}?              Non-greedy version of the above.\n",
      "        {m,n}+              Possessive version of the above.\n",
      "        {...}               Fuzzy matching constraints.\n",
      "        \"\\\\\"                Either escapes special characters or signals a special\n",
      "                            sequence.\n",
      "        [...]               Indicates a set of characters. A \"^\" as the first\n",
      "                            character indicates a complementing set.\n",
      "        \"|\"                 A|B, creates an RE that will match either A or B.\n",
      "        (...)               Matches the RE inside the parentheses. The contents are\n",
      "                            captured and can be retrieved or matched later in the\n",
      "                            string.\n",
      "        (?flags-flags)      VERSION1: Sets/clears the flags for the remainder of\n",
      "                            the group or pattern; VERSION0: Sets the flags for the\n",
      "                            entire pattern.\n",
      "        (?:...)             Non-capturing version of regular parentheses.\n",
      "        (?>...)             Atomic non-capturing version of regular parentheses.\n",
      "        (?flags-flags:...)  Non-capturing version of regular parentheses with local\n",
      "                            flags.\n",
      "        (?P<name>...)       The substring matched by the group is accessible by\n",
      "                            name.\n",
      "        (?<name>...)        The substring matched by the group is accessible by\n",
      "                            name.\n",
      "        (?P=name)           Matches the text matched earlier by the group named\n",
      "                            name.\n",
      "        (?#...)             A comment; ignored.\n",
      "        (?=...)             Matches if ... matches next, but doesn't consume the\n",
      "                            string.\n",
      "        (?!...)             Matches if ... doesn't match next.\n",
      "        (?<=...)            Matches if preceded by ....\n",
      "        (?<!...)            Matches if not preceded by ....\n",
      "        (?(id)yes|no)       Matches yes pattern if group id matched, the (optional)\n",
      "                            no pattern otherwise.\n",
      "        (?(DEFINE)...)      If there's no group called \"DEFINE\", then ... will be\n",
      "                            ignored, but any group definitions will be available.\n",
      "        (?|...|...)         (?|A|B), creates an RE that will match either A or B,\n",
      "                            but reuses capture group numbers across the\n",
      "                            alternatives.\n",
      "        (*FAIL)             Forces matching to fail, which means immediate\n",
      "                            backtracking.\n",
      "        (*F)                Abbreviation for (*FAIL).\n",
      "        (*PRUNE)            Discards the current backtracking information. Its\n",
      "                            effect doesn't extend outside an atomic group or a\n",
      "                            lookaround.\n",
      "        (*SKIP)             Similar to (*PRUNE), except that it also sets where in\n",
      "                            the text the next attempt at matching the entire\n",
      "                            pattern will start. Its effect doesn't extend outside\n",
      "                            an atomic group or a lookaround.\n",
      "    \n",
      "    The fuzzy matching constraints are: \"i\" to permit insertions, \"d\" to permit\n",
      "    deletions, \"s\" to permit substitutions, \"e\" to permit any of these. Limits are\n",
      "    optional with \"<=\" and \"<\". If any type of error is provided then any type not\n",
      "    provided is not permitted.\n",
      "    \n",
      "    A cost equation may be provided.\n",
      "    \n",
      "    Examples:\n",
      "        (?:fuzzy){i<=2}\n",
      "        (?:fuzzy){i<=1,s<=2,d<=1,1i+1s+1d<3}\n",
      "    \n",
      "    VERSION1: Set operators are supported, and a set can include nested sets. The\n",
      "    set operators, in order of increasing precedence, are:\n",
      "        ||  Set union (\"x||y\" means \"x or y\").\n",
      "        ~~  (double tilde) Symmetric set difference (\"x~~y\" means \"x or y, but not\n",
      "            both\").\n",
      "        &&  Set intersection (\"x&&y\" means \"x and y\").\n",
      "        --  (double dash) Set difference (\"x--y\" means \"x but not y\").\n",
      "    \n",
      "    Implicit union, ie, simple juxtaposition like in [ab], has the highest\n",
      "    precedence.\n",
      "    \n",
      "    VERSION0 and VERSION1:\n",
      "    The special sequences consist of \"\\\\\" and a character from the list below. If\n",
      "    the ordinary character is not on the list, then the resulting RE will match the\n",
      "    second character.\n",
      "        \\number         Matches the contents of the group of the same number if\n",
      "                        number is no more than 2 digits, otherwise the character\n",
      "                        with the 3-digit octal code.\n",
      "        \\a              Matches the bell character.\n",
      "        \\A              Matches only at the start of the string.\n",
      "        \\b              Matches the empty string, but only at the start or end of a\n",
      "                        word.\n",
      "        \\B              Matches the empty string, but not at the start or end of a\n",
      "                        word.\n",
      "        \\d              Matches any decimal digit; equivalent to the set [0-9] when\n",
      "                        matching a bytestring or a Unicode string with the ASCII\n",
      "                        flag, or the whole range of Unicode digits when matching a\n",
      "                        Unicode string.\n",
      "        \\D              Matches any non-digit character; equivalent to [^\\d].\n",
      "        \\f              Matches the formfeed character.\n",
      "        \\g<name>        Matches the text matched by the group named name.\n",
      "        \\G              Matches the empty string, but only at the position where\n",
      "                        the search started.\n",
      "        \\h              Matches horizontal whitespace.\n",
      "        \\K              Keeps only what follows for the entire match.\n",
      "        \\L<name>        Named list. The list is provided as a keyword argument.\n",
      "        \\m              Matches the empty string, but only at the start of a word.\n",
      "        \\M              Matches the empty string, but only at the end of a word.\n",
      "        \\n              Matches the newline character.\n",
      "        \\N{name}        Matches the named character.\n",
      "        \\p{name=value}  Matches the character if its property has the specified\n",
      "                        value.\n",
      "        \\P{name=value}  Matches the character if its property hasn't the specified\n",
      "                        value.\n",
      "        \\r              Matches the carriage-return character.\n",
      "        \\s              Matches any whitespace character; equivalent to\n",
      "                        [ \\t\\n\\r\\f\\v].\n",
      "        \\S              Matches any non-whitespace character; equivalent to [^\\s].\n",
      "        \\t              Matches the tab character.\n",
      "        \\uXXXX          Matches the Unicode codepoint with 4-digit hex code XXXX.\n",
      "        \\UXXXXXXXX      Matches the Unicode codepoint with 8-digit hex code\n",
      "                        XXXXXXXX.\n",
      "        \\v              Matches the vertical tab character.\n",
      "        \\w              Matches any alphanumeric character; equivalent to\n",
      "                        [a-zA-Z0-9_] when matching a bytestring or a Unicode string\n",
      "                        with the ASCII flag, or the whole range of Unicode\n",
      "                        alphanumeric characters (letters plus digits plus\n",
      "                        underscore) when matching a Unicode string. With LOCALE, it\n",
      "                        will match the set [0-9_] plus characters defined as\n",
      "                        letters for the current locale.\n",
      "        \\W              Matches the complement of \\w; equivalent to [^\\w].\n",
      "        \\xXX            Matches the character with 2-digit hex code XX.\n",
      "        \\X              Matches a grapheme.\n",
      "        \\Z              Matches only at the end of the string.\n",
      "        \\\\              Matches a literal backslash.\n",
      "    \n",
      "    This module exports the following functions:\n",
      "        match      Match a regular expression pattern at the beginning of a string.\n",
      "        fullmatch  Match a regular expression pattern against all of a string.\n",
      "        search     Search a string for the presence of a pattern.\n",
      "        sub        Substitute occurrences of a pattern found in a string using a\n",
      "                   template string.\n",
      "        subf       Substitute occurrences of a pattern found in a string using a\n",
      "                   format string.\n",
      "        subn       Same as sub, but also return the number of substitutions made.\n",
      "        subfn      Same as subf, but also return the number of substitutions made.\n",
      "        split      Split a string by the occurrences of a pattern. VERSION1: will\n",
      "                   split at zero-width match; VERSION0: won't split at zero-width\n",
      "                   match.\n",
      "        splititer  Return an iterator yielding the parts of a split string.\n",
      "        findall    Find all occurrences of a pattern in a string.\n",
      "        finditer   Return an iterator yielding a match object for each match.\n",
      "        compile    Compile a pattern into a Pattern object.\n",
      "        purge      Clear the regular expression cache.\n",
      "        escape     Backslash all non-alphanumerics or special characters in a\n",
      "                   string.\n",
      "    \n",
      "    Most of the functions support a concurrent parameter: if True, the GIL will be\n",
      "    released during matching, allowing other Python threads to run concurrently. If\n",
      "    the string changes during matching, the behaviour is undefined. This parameter\n",
      "    is not needed when working on the builtin (immutable) string classes.\n",
      "    \n",
      "    Some of the functions in this module take flags as optional parameters. Most of\n",
      "    these flags can also be set within an RE:\n",
      "        A   a   ASCII         Make \\w, \\W, \\b, \\B, \\d, and \\D match the\n",
      "                              corresponding ASCII character categories. Default\n",
      "                              when matching a bytestring.\n",
      "        B   b   BESTMATCH     Find the best fuzzy match (default is first).\n",
      "        D       DEBUG         Print the parsed pattern.\n",
      "        E   e   ENHANCEMATCH  Attempt to improve the fit after finding the first\n",
      "                              fuzzy match.\n",
      "        F   f   FULLCASE      Use full case-folding when performing\n",
      "                              case-insensitive matching in Unicode.\n",
      "        I   i   IGNORECASE    Perform case-insensitive matching.\n",
      "        L   L   LOCALE        Make \\w, \\W, \\b, \\B, \\d, and \\D dependent on the\n",
      "                              current locale. (One byte per character only.)\n",
      "        M   m   MULTILINE     \"^\" matches the beginning of lines (after a newline)\n",
      "                              as well as the string. \"$\" matches the end of lines\n",
      "                              (before a newline) as well as the end of the string.\n",
      "        P   p   POSIX         Perform POSIX-standard matching (leftmost longest).\n",
      "        R   r   REVERSE       Searches backwards.\n",
      "        S   s   DOTALL        \".\" matches any character at all, including the\n",
      "                              newline.\n",
      "        U   u   UNICODE       Make \\w, \\W, \\b, \\B, \\d, and \\D dependent on the\n",
      "                              Unicode locale. Default when matching a Unicode\n",
      "                              string.\n",
      "        V0  V0  VERSION0      Turn on the old legacy behaviour.\n",
      "        V1  V1  VERSION1      Turn on the new enhanced behaviour. This flag\n",
      "                              includes the FULLCASE flag.\n",
      "        W   w   WORD          Make \\b and \\B work with default Unicode word breaks\n",
      "                              and make \".\", \"^\" and \"$\" work with Unicode line\n",
      "                              breaks.\n",
      "        X   x   VERBOSE       Ignore whitespace and comments for nicer looking REs.\n",
      "    \n",
      "    This module also defines an exception 'error'.\n",
      "\n",
      "PACKAGE CONTENTS\n",
      "    _regex\n",
      "    _regex_core\n",
      "    regex\n",
      "    test_regex\n",
      "\n",
      "CLASSES\n",
      "    builtins.Exception(builtins.BaseException)\n",
      "        regex._regex_core.error\n",
      "    builtins.object\n",
      "        _regex.Match\n",
      "        _regex.Pattern\n",
      "        regex._regex_core.Scanner\n",
      "    enum.IntFlag(builtins.int, enum.ReprEnum, enum.Flag)\n",
      "        regex._regex_core.RegexFlag\n",
      "    \n",
      "    class Match(builtins.object)\n",
      "     |  Match object\n",
      "     |  \n",
      "     |  Methods defined here:\n",
      "     |  \n",
      "     |  __copy__(...)\n",
      "     |  \n",
      "     |  __deepcopy__(...)\n",
      "     |  \n",
      "     |  __getitem__(...)\n",
      "     |  \n",
      "     |  __len__(self, /)\n",
      "     |      Return len(self).\n",
      "     |  \n",
      "     |  __repr__(self, /)\n",
      "     |      Return repr(self).\n",
      "     |  \n",
      "     |  captures(...)\n",
      "     |      captures([group1, ...]) --> list of strings or tuple of list of strings.\n",
      "     |      Return the captures of one or more subgroups of the match.  If there is a\n",
      "     |      single argument, the result is a list of strings; if there are multiple\n",
      "     |      arguments, the result is a tuple of lists with one item per argument; if\n",
      "     |      there are no arguments, the captures of the whole match is returned.  Group\n",
      "     |      0 is the whole match.\n",
      "     |  \n",
      "     |  capturesdict(...)\n",
      "     |      capturesdict() --> dict.\n",
      "     |      Return a dictionary containing the captures of all the named subgroups of the\n",
      "     |      match, keyed by the subgroup name.\n",
      "     |  \n",
      "     |  detach_string(...)\n",
      "     |      detach_string()\n",
      "     |      Detaches the target string from the match object. The 'string' attribute\n",
      "     |      will become None.\n",
      "     |  \n",
      "     |  end(...)\n",
      "     |      end([group1, ...]) --> int or tuple of ints.\n",
      "     |      Return the index of the end of one or more subgroups of the match.  If there\n",
      "     |      is a single argument, the result is an index, or -1 if the group did not\n",
      "     |      contribute to the match; if there are multiple arguments, the result is a\n",
      "     |      tuple with one item per argument; if there are no arguments, the index of\n",
      "     |      the end of the whole match is returned.  Group 0 is the whole match.\n",
      "     |  \n",
      "     |  ends(...)\n",
      "     |      ends([group1, ...]) --> list of ints or tuple of list of ints.\n",
      "     |      Return the indices of the ends of the captures of one or more subgroups of\n",
      "     |      the match.  If there is a single argument, the result is a list of indices;\n",
      "     |      if there are multiple arguments, the result is a tuple of lists with one\n",
      "     |      item per argument; if there are no arguments, the indices of the ends of the\n",
      "     |      captures of the whole match is returned.  Group 0 is the whole match.\n",
      "     |  \n",
      "     |  expand(...)\n",
      "     |      expand(template) --> string.\n",
      "     |      Return the string obtained by doing backslash substitution on the template,\n",
      "     |      as done by the sub() method.\n",
      "     |  \n",
      "     |  expandf(...)\n",
      "     |      expandf(format) --> string.\n",
      "     |      Return the string obtained by using the format, as done by the subf()\n",
      "     |      method.\n",
      "     |  \n",
      "     |  group(...)\n",
      "     |      group([group1, ...]) --> string or tuple of strings.\n",
      "     |      Return one or more subgroups of the match.  If there is a single argument,\n",
      "     |      the result is a single string, or None if the group did not contribute to\n",
      "     |      the match; if there are multiple arguments, the result is a tuple with one\n",
      "     |      item per argument; if there are no arguments, the whole match is returned.\n",
      "     |      Group 0 is the whole match.\n",
      "     |  \n",
      "     |  groupdict(...)\n",
      "     |      groupdict(default=None) --> dict.\n",
      "     |      Return a dictionary containing all the named subgroups of the match, keyed\n",
      "     |      by the subgroup name.  The argument is the value to be given for groups that\n",
      "     |      did not participate in the match.\n",
      "     |  \n",
      "     |  groups(...)\n",
      "     |      groups(default=None) --> tuple of strings.\n",
      "     |      Return a tuple containing all the subgroups of the match.  The argument is\n",
      "     |      the default for groups that did not participate in the match.\n",
      "     |  \n",
      "     |  span(...)\n",
      "     |      span([group1, ...]) --> 2-tuple of int or tuple of 2-tuple of ints.\n",
      "     |      Return the span (a 2-tuple of the indices of the start and end) of one or\n",
      "     |      more subgroups of the match.  If there is a single argument, the result is a\n",
      "     |      span, or (-1, -1) if the group did not contribute to the match; if there are\n",
      "     |      multiple arguments, the result is a tuple with one item per argument; if\n",
      "     |      there are no arguments, the span of the whole match is returned.  Group 0 is\n",
      "     |      the whole match.\n",
      "     |  \n",
      "     |  spans(...)\n",
      "     |      spans([group1, ...]) --> list of 2-tuple of ints or tuple of list of 2-tuple of ints.\n",
      "     |      Return the spans (a 2-tuple of the indices of the start and end) of the\n",
      "     |      captures of one or more subgroups of the match.  If there is a single\n",
      "     |      argument, the result is a list of spans; if there are multiple arguments,\n",
      "     |      the result is a tuple of lists with one item per argument; if there are no\n",
      "     |      arguments, the spans of the captures of the whole match is returned.  Group\n",
      "     |      0 is the whole match.\n",
      "     |  \n",
      "     |  start(...)\n",
      "     |      start([group1, ...]) --> int or tuple of ints.\n",
      "     |      Return the index of the start of one or more subgroups of the match.  If\n",
      "     |      there is a single argument, the result is an index, or -1 if the group did\n",
      "     |      not contribute to the match; if there are multiple arguments, the result is\n",
      "     |      a tuple with one item per argument; if there are no arguments, the index of\n",
      "     |      the start of the whole match is returned.  Group 0 is the whole match.\n",
      "     |  \n",
      "     |  starts(...)\n",
      "     |      starts([group1, ...]) --> list of ints or tuple of list of ints.\n",
      "     |      Return the indices of the starts of the captures of one or more subgroups of\n",
      "     |      the match.  If there is a single argument, the result is a list of indices;\n",
      "     |      if there are multiple arguments, the result is a tuple of lists with one\n",
      "     |      item per argument; if there are no arguments, the indices of the starts of\n",
      "     |      the captures of the whole match is returned.  Group 0 is the whole match.\n",
      "     |  \n",
      "     |  ----------------------------------------------------------------------\n",
      "     |  Class methods defined here:\n",
      "     |  \n",
      "     |  __class_getitem__(...) from builtins.type\n",
      "     |      See PEP 585\n",
      "     |  \n",
      "     |  ----------------------------------------------------------------------\n",
      "     |  Data descriptors defined here:\n",
      "     |  \n",
      "     |  endpos\n",
      "     |      The final position beyond which the regex engine won't search.\n",
      "     |  \n",
      "     |  fuzzy_changes\n",
      "     |      A tuple of the positions of the substitutions, insertions and deletions.\n",
      "     |  \n",
      "     |  fuzzy_counts\n",
      "     |      A tuple of the number of substitutions, insertions and deletions.\n",
      "     |  \n",
      "     |  lastgroup\n",
      "     |      The name of the last matched capturing group, or None.\n",
      "     |  \n",
      "     |  lastindex\n",
      "     |      The group number of the last matched capturing group, or None.\n",
      "     |  \n",
      "     |  partial\n",
      "     |      Whether it's a partial match.\n",
      "     |  \n",
      "     |  pos\n",
      "     |      The position at which the regex engine starting searching.\n",
      "     |  \n",
      "     |  re\n",
      "     |      The regex object that produced this match object.\n",
      "     |  \n",
      "     |  regs\n",
      "     |      A tuple of the spans of the capturing groups.\n",
      "     |  \n",
      "     |  string\n",
      "     |      The string that was searched, or None if it has been detached.\n",
      "    \n",
      "    class Pattern(builtins.object)\n",
      "     |  Compiled regex object\n",
      "     |  \n",
      "     |  Methods defined here:\n",
      "     |  \n",
      "     |  __copy__(...)\n",
      "     |  \n",
      "     |  __deepcopy__(...)\n",
      "     |  \n",
      "     |  __repr__(self, /)\n",
      "     |      Return repr(self).\n",
      "     |  \n",
      "     |  __sizeof__(...)\n",
      "     |      Size of object in memory, in bytes.\n",
      "     |  \n",
      "     |  findall(...)\n",
      "     |      findall(string, pos=None, endpos=None, overlapped=False, concurrent=None, timeout=None) --> list.\n",
      "     |      Return a list of all matches of pattern in string.  The matches may be\n",
      "     |      overlapped if overlapped is True.\n",
      "     |  \n",
      "     |  finditer(...)\n",
      "     |      finditer(string, pos=None, endpos=None, overlapped=False, concurrent=None, timeout=None) --> iterator.\n",
      "     |      Return an iterator over all matches for the RE pattern in string.  The\n",
      "     |      matches may be overlapped if overlapped is True.  For each match, the\n",
      "     |      iterator returns a MatchObject.\n",
      "     |  \n",
      "     |  fullmatch(...)\n",
      "     |      fullmatch(string, pos=None, endpos=None, concurrent=None, timeout=None) --> MatchObject or None.\n",
      "     |      Match zero or more characters against all of the string.\n",
      "     |  \n",
      "     |  match(...)\n",
      "     |      match(string, pos=None, endpos=None, concurrent=None, timeout=None) --> MatchObject or None.\n",
      "     |      Match zero or more characters at the beginning of the string.\n",
      "     |  \n",
      "     |  scanner(...)\n",
      "     |      scanner(string, pos=None, endpos=None, overlapped=False, concurrent=None, timeout=None) --> scanner.\n",
      "     |      Return an scanner for the RE pattern in string.  The matches may be overlapped\n",
      "     |      if overlapped is True.\n",
      "     |  \n",
      "     |  search(...)\n",
      "     |      search(string, pos=None, endpos=None, concurrent=None, timeout=None) --> MatchObject or None.\n",
      "     |      Search through string looking for a match, and return a corresponding\n",
      "     |      match object instance.  Return None if no match is found.\n",
      "     |  \n",
      "     |  split(...)\n",
      "     |      split(string, maxsplit=0, concurrent=None, timeout=None) --> list.\n",
      "     |      Split string by the occurrences of pattern.\n",
      "     |  \n",
      "     |  splititer(...)\n",
      "     |      splititer(string, maxsplit=0, concurrent=None, timeout=None) --> iterator.\n",
      "     |      Return an iterator yielding the parts of a split string.\n",
      "     |  \n",
      "     |  sub(...)\n",
      "     |      sub(repl, string, count=0, flags=0, pos=None, endpos=None, concurrent=None, timeout=None) --> newstring\n",
      "     |      Return the string obtained by replacing the leftmost (or rightmost with a\n",
      "     |      reverse pattern) non-overlapping occurrences of pattern in string by the\n",
      "     |      replacement repl.\n",
      "     |  \n",
      "     |  subf(...)\n",
      "     |      subf(format, string, count=0, flags=0, pos=None, endpos=None, concurrent=None, timeout=None) --> newstring\n",
      "     |      Return the string obtained by replacing the leftmost (or rightmost with a\n",
      "     |      reverse pattern) non-overlapping occurrences of pattern in string by the\n",
      "     |      replacement format.\n",
      "     |  \n",
      "     |  subfn(...)\n",
      "     |      subfn(format, string, count=0, flags=0, pos=None, endpos=None, concurrent=None, timeout=None) --> (newstring, number of subs)\n",
      "     |      Return the tuple (new_string, number_of_subs_made) found by replacing the\n",
      "     |      leftmost (or rightmost with a reverse pattern) non-overlapping occurrences\n",
      "     |      of pattern with the replacement format.\n",
      "     |  \n",
      "     |  subn(...)\n",
      "     |      subn(repl, string, count=0, flags=0, pos=None, endpos=None, concurrent=None, timeout=None) --> (newstring, number of subs)\n",
      "     |      Return the tuple (new_string, number_of_subs_made) found by replacing the\n",
      "     |      leftmost (or rightmost with a reverse pattern) non-overlapping occurrences\n",
      "     |      of pattern with the replacement repl.\n",
      "     |  \n",
      "     |  ----------------------------------------------------------------------\n",
      "     |  Class methods defined here:\n",
      "     |  \n",
      "     |  __class_getitem__(...) from builtins.type\n",
      "     |      See PEP 585\n",
      "     |  \n",
      "     |  ----------------------------------------------------------------------\n",
      "     |  Data descriptors defined here:\n",
      "     |  \n",
      "     |  flags\n",
      "     |      The regex matching flags.\n",
      "     |  \n",
      "     |  groupindex\n",
      "     |      A dictionary mapping group names to group numbers.\n",
      "     |  \n",
      "     |  groups\n",
      "     |      The number of capturing groups in the pattern.\n",
      "     |  \n",
      "     |  named_lists\n",
      "     |      The named lists used by the regex.\n",
      "     |  \n",
      "     |  pattern\n",
      "     |      The pattern string from which the regex object was compiled.\n",
      "    \n",
      "    class RegexFlag(enum.IntFlag)\n",
      "     |  RegexFlag(value, names=None, *, module=None, qualname=None, type=None, start=1, boundary=None)\n",
      "     |  \n",
      "     |  # Flags.\n",
      "     |  \n",
      "     |  Method resolution order:\n",
      "     |      RegexFlag\n",
      "     |      enum.IntFlag\n",
      "     |      builtins.int\n",
      "     |      enum.ReprEnum\n",
      "     |      enum.Flag\n",
      "     |      enum.Enum\n",
      "     |      builtins.object\n",
      "     |  \n",
      "     |  Methods defined here:\n",
      "     |  \n",
      "     |  __and__(self, other)\n",
      "     |  \n",
      "     |  __format__(self, format_spec, /)\n",
      "     |      Default object formatter.\n",
      "     |  \n",
      "     |  __invert__(self)\n",
      "     |  \n",
      "     |  __new__(cls, value)\n",
      "     |      Create and return a new object.  See help(type) for accurate signature.\n",
      "     |  \n",
      "     |  __or__(self, other)\n",
      "     |      Return self|value.\n",
      "     |  \n",
      "     |  __rand__ = __and__(self, other)\n",
      "     |  \n",
      "     |  __repr__(self)\n",
      "     |      Return repr(self).\n",
      "     |  \n",
      "     |  __ror__ = __or__(self, other)\n",
      "     |  \n",
      "     |  __rxor__ = __xor__(self, other)\n",
      "     |  \n",
      "     |  __str__(self, /)\n",
      "     |      Return str(self).\n",
      "     |  \n",
      "     |  __xor__(self, other)\n",
      "     |  \n",
      "     |  ----------------------------------------------------------------------\n",
      "     |  Data and other attributes defined here:\n",
      "     |  \n",
      "     |  A = regex.A\n",
      "     |  \n",
      "     |  B = regex.B\n",
      "     |  \n",
      "     |  D = regex.D\n",
      "     |  \n",
      "     |  E = regex.E\n",
      "     |  \n",
      "     |  F = regex.F\n",
      "     |  \n",
      "     |  I = regex.I\n",
      "     |  \n",
      "     |  L = regex.L\n",
      "     |  \n",
      "     |  M = regex.M\n",
      "     |  \n",
      "     |  P = regex.P\n",
      "     |  \n",
      "     |  R = regex.R\n",
      "     |  \n",
      "     |  S = regex.S\n",
      "     |  \n",
      "     |  T = regex.T\n",
      "     |  \n",
      "     |  U = regex.U\n",
      "     |  \n",
      "     |  V0 = regex.V0\n",
      "     |  \n",
      "     |  V1 = regex.V1\n",
      "     |  \n",
      "     |  W = regex.W\n",
      "     |  \n",
      "     |  X = regex.X\n",
      "     |  \n",
      "     |  ----------------------------------------------------------------------\n",
      "     |  Methods inherited from builtins.int:\n",
      "     |  \n",
      "     |  __abs__(self, /)\n",
      "     |      abs(self)\n",
      "     |  \n",
      "     |  __add__(self, value, /)\n",
      "     |      Return self+value.\n",
      "     |  \n",
      "     |  __bool__(self, /)\n",
      "     |      True if self else False\n",
      "     |  \n",
      "     |  __ceil__(...)\n",
      "     |      Ceiling of an Integral returns itself.\n",
      "     |  \n",
      "     |  __divmod__(self, value, /)\n",
      "     |      Return divmod(self, value).\n",
      "     |  \n",
      "     |  __eq__(self, value, /)\n",
      "     |      Return self==value.\n",
      "     |  \n",
      "     |  __float__(self, /)\n",
      "     |      float(self)\n",
      "     |  \n",
      "     |  __floor__(...)\n",
      "     |      Flooring an Integral returns itself.\n",
      "     |  \n",
      "     |  __floordiv__(self, value, /)\n",
      "     |      Return self//value.\n",
      "     |  \n",
      "     |  __ge__(self, value, /)\n",
      "     |      Return self>=value.\n",
      "     |  \n",
      "     |  __getattribute__(self, name, /)\n",
      "     |      Return getattr(self, name).\n",
      "     |  \n",
      "     |  __getnewargs__(self, /)\n",
      "     |  \n",
      "     |  __gt__(self, value, /)\n",
      "     |      Return self>value.\n",
      "     |  \n",
      "     |  __hash__(self, /)\n",
      "     |      Return hash(self).\n",
      "     |  \n",
      "     |  __index__(self, /)\n",
      "     |      Return self converted to an integer, if self is suitable for use as an index into a list.\n",
      "     |  \n",
      "     |  __int__(self, /)\n",
      "     |      int(self)\n",
      "     |  \n",
      "     |  __le__(self, value, /)\n",
      "     |      Return self<=value.\n",
      "     |  \n",
      "     |  __lshift__(self, value, /)\n",
      "     |      Return self<<value.\n",
      "     |  \n",
      "     |  __lt__(self, value, /)\n",
      "     |      Return self<value.\n",
      "     |  \n",
      "     |  __mod__(self, value, /)\n",
      "     |      Return self%value.\n",
      "     |  \n",
      "     |  __mul__(self, value, /)\n",
      "     |      Return self*value.\n",
      "     |  \n",
      "     |  __ne__(self, value, /)\n",
      "     |      Return self!=value.\n",
      "     |  \n",
      "     |  __neg__(self, /)\n",
      "     |      -self\n",
      "     |  \n",
      "     |  __pos__(self, /)\n",
      "     |      +self\n",
      "     |  \n",
      "     |  __pow__(self, value, mod=None, /)\n",
      "     |      Return pow(self, value, mod).\n",
      "     |  \n",
      "     |  __radd__(self, value, /)\n",
      "     |      Return value+self.\n",
      "     |  \n",
      "     |  __rdivmod__(self, value, /)\n",
      "     |      Return divmod(value, self).\n",
      "     |  \n",
      "     |  __rfloordiv__(self, value, /)\n",
      "     |      Return value//self.\n",
      "     |  \n",
      "     |  __rlshift__(self, value, /)\n",
      "     |      Return value<<self.\n",
      "     |  \n",
      "     |  __rmod__(self, value, /)\n",
      "     |      Return value%self.\n",
      "     |  \n",
      "     |  __rmul__(self, value, /)\n",
      "     |      Return value*self.\n",
      "     |  \n",
      "     |  __round__(...)\n",
      "     |      Rounding an Integral returns itself.\n",
      "     |      \n",
      "     |      Rounding with an ndigits argument also returns an integer.\n",
      "     |  \n",
      "     |  __rpow__(self, value, mod=None, /)\n",
      "     |      Return pow(value, self, mod).\n",
      "     |  \n",
      "     |  __rrshift__(self, value, /)\n",
      "     |      Return value>>self.\n",
      "     |  \n",
      "     |  __rshift__(self, value, /)\n",
      "     |      Return self>>value.\n",
      "     |  \n",
      "     |  __rsub__(self, value, /)\n",
      "     |      Return value-self.\n",
      "     |  \n",
      "     |  __rtruediv__(self, value, /)\n",
      "     |      Return value/self.\n",
      "     |  \n",
      "     |  __sizeof__(self, /)\n",
      "     |      Returns size in memory, in bytes.\n",
      "     |  \n",
      "     |  __sub__(self, value, /)\n",
      "     |      Return self-value.\n",
      "     |  \n",
      "     |  __truediv__(self, value, /)\n",
      "     |      Return self/value.\n",
      "     |  \n",
      "     |  __trunc__(...)\n",
      "     |      Truncating an Integral returns itself.\n",
      "     |  \n",
      "     |  as_integer_ratio(self, /)\n",
      "     |      Return integer ratio.\n",
      "     |      \n",
      "     |      Return a pair of integers, whose ratio is exactly equal to the original int\n",
      "     |      and with a positive denominator.\n",
      "     |      \n",
      "     |      >>> (10).as_integer_ratio()\n",
      "     |      (10, 1)\n",
      "     |      >>> (-10).as_integer_ratio()\n",
      "     |      (-10, 1)\n",
      "     |      >>> (0).as_integer_ratio()\n",
      "     |      (0, 1)\n",
      "     |  \n",
      "     |  bit_count(self, /)\n",
      "     |      Number of ones in the binary representation of the absolute value of self.\n",
      "     |      \n",
      "     |      Also known as the population count.\n",
      "     |      \n",
      "     |      >>> bin(13)\n",
      "     |      '0b1101'\n",
      "     |      >>> (13).bit_count()\n",
      "     |      3\n",
      "     |  \n",
      "     |  bit_length(self, /)\n",
      "     |      Number of bits necessary to represent self in binary.\n",
      "     |      \n",
      "     |      >>> bin(37)\n",
      "     |      '0b100101'\n",
      "     |      >>> (37).bit_length()\n",
      "     |      6\n",
      "     |  \n",
      "     |  conjugate(...)\n",
      "     |      Returns self, the complex conjugate of any int.\n",
      "     |  \n",
      "     |  to_bytes(self, /, length=1, byteorder='big', *, signed=False)\n",
      "     |      Return an array of bytes representing an integer.\n",
      "     |      \n",
      "     |      length\n",
      "     |        Length of bytes object to use.  An OverflowError is raised if the\n",
      "     |        integer is not representable with the given number of bytes.  Default\n",
      "     |        is length 1.\n",
      "     |      byteorder\n",
      "     |        The byte order used to represent the integer.  If byteorder is 'big',\n",
      "     |        the most significant byte is at the beginning of the byte array.  If\n",
      "     |        byteorder is 'little', the most significant byte is at the end of the\n",
      "     |        byte array.  To request the native byte order of the host system, use\n",
      "     |        `sys.byteorder' as the byte order value.  Default is to use 'big'.\n",
      "     |      signed\n",
      "     |        Determines whether two's complement is used to represent the integer.\n",
      "     |        If signed is False and a negative integer is given, an OverflowError\n",
      "     |        is raised.\n",
      "     |  \n",
      "     |  ----------------------------------------------------------------------\n",
      "     |  Class methods inherited from builtins.int:\n",
      "     |  \n",
      "     |  from_bytes(bytes, byteorder='big', *, signed=False) from enum.EnumType\n",
      "     |      Return the integer represented by the given array of bytes.\n",
      "     |      \n",
      "     |      bytes\n",
      "     |        Holds the array of bytes to convert.  The argument must either\n",
      "     |        support the buffer protocol or be an iterable object producing bytes.\n",
      "     |        Bytes and bytearray are examples of built-in objects that support the\n",
      "     |        buffer protocol.\n",
      "     |      byteorder\n",
      "     |        The byte order used to represent the integer.  If byteorder is 'big',\n",
      "     |        the most significant byte is at the beginning of the byte array.  If\n",
      "     |        byteorder is 'little', the most significant byte is at the end of the\n",
      "     |        byte array.  To request the native byte order of the host system, use\n",
      "     |        `sys.byteorder' as the byte order value.  Default is to use 'big'.\n",
      "     |      signed\n",
      "     |        Indicates whether two's complement is used to represent the integer.\n",
      "     |  \n",
      "     |  ----------------------------------------------------------------------\n",
      "     |  Data descriptors inherited from builtins.int:\n",
      "     |  \n",
      "     |  denominator\n",
      "     |      the denominator of a rational number in lowest terms\n",
      "     |  \n",
      "     |  imag\n",
      "     |      the imaginary part of a complex number\n",
      "     |  \n",
      "     |  numerator\n",
      "     |      the numerator of a rational number in lowest terms\n",
      "     |  \n",
      "     |  real\n",
      "     |      the real part of a complex number\n",
      "     |  \n",
      "     |  ----------------------------------------------------------------------\n",
      "     |  Methods inherited from enum.Flag:\n",
      "     |  \n",
      "     |  __contains__(self, other)\n",
      "     |      Returns True if self has at least the same flags set as other.\n",
      "     |  \n",
      "     |  __iter__(self)\n",
      "     |      Returns flags in definition order.\n",
      "     |  \n",
      "     |  __len__(self)\n",
      "     |      Return the number of members (no aliases)\n",
      "     |  \n",
      "     |  ----------------------------------------------------------------------\n",
      "     |  Methods inherited from enum.Enum:\n",
      "     |  \n",
      "     |  __dir__(self)\n",
      "     |      Returns all members and all public methods\n",
      "     |  \n",
      "     |  __init__(self, *args, **kwds)\n",
      "     |      Initialize self.  See help(type(self)) for accurate signature.\n",
      "     |  \n",
      "     |  __reduce_ex__(self, proto)\n",
      "     |      Helper for pickle.\n",
      "     |  \n",
      "     |  ----------------------------------------------------------------------\n",
      "     |  Data descriptors inherited from enum.Enum:\n",
      "     |  \n",
      "     |  name\n",
      "     |      The name of the Enum member.\n",
      "     |  \n",
      "     |  value\n",
      "     |      The value of the Enum member.\n",
      "     |  \n",
      "     |  ----------------------------------------------------------------------\n",
      "     |  Methods inherited from enum.EnumType:\n",
      "     |  \n",
      "     |  __getitem__(name) from enum.EnumType\n",
      "     |      Return the member matching `name`.\n",
      "     |  \n",
      "     |  ----------------------------------------------------------------------\n",
      "     |  Readonly properties inherited from enum.EnumType:\n",
      "     |  \n",
      "     |  __members__\n",
      "     |      Returns a mapping of member name->value.\n",
      "     |      \n",
      "     |      This mapping lists all enum members, including aliases. Note that this\n",
      "     |      is a read-only view of the internal mapping.\n",
      "    \n",
      "    class Scanner(builtins.object)\n",
      "     |  Scanner(lexicon, flags=0)\n",
      "     |  \n",
      "     |  Methods defined here:\n",
      "     |  \n",
      "     |  __init__(self, lexicon, flags=0)\n",
      "     |      Initialize self.  See help(type(self)) for accurate signature.\n",
      "     |  \n",
      "     |  scan(self, string)\n",
      "     |  \n",
      "     |  ----------------------------------------------------------------------\n",
      "     |  Data descriptors defined here:\n",
      "     |  \n",
      "     |  __dict__\n",
      "     |      dictionary for instance variables (if defined)\n",
      "     |  \n",
      "     |  __weakref__\n",
      "     |      list of weak references to the object (if defined)\n",
      "    \n",
      "    class error(builtins.Exception)\n",
      "     |  error(message, pattern=None, pos=None)\n",
      "     |  \n",
      "     |  Exception raised for invalid regular expressions.\n",
      "     |  \n",
      "     |  Attributes:\n",
      "     |  \n",
      "     |      msg: The unformatted error message\n",
      "     |      pattern: The regular expression pattern\n",
      "     |      pos: The position in the pattern where compilation failed, or None\n",
      "     |      lineno: The line number where compilation failed, unless pos is None\n",
      "     |      colno: The column number where compilation failed, unless pos is None\n",
      "     |  \n",
      "     |  Method resolution order:\n",
      "     |      error\n",
      "     |      builtins.Exception\n",
      "     |      builtins.BaseException\n",
      "     |      builtins.object\n",
      "     |  \n",
      "     |  Methods defined here:\n",
      "     |  \n",
      "     |  __init__(self, message, pattern=None, pos=None)\n",
      "     |      Initialize self.  See help(type(self)) for accurate signature.\n",
      "     |  \n",
      "     |  ----------------------------------------------------------------------\n",
      "     |  Data descriptors defined here:\n",
      "     |  \n",
      "     |  __weakref__\n",
      "     |      list of weak references to the object (if defined)\n",
      "     |  \n",
      "     |  ----------------------------------------------------------------------\n",
      "     |  Static methods inherited from builtins.Exception:\n",
      "     |  \n",
      "     |  __new__(*args, **kwargs) from builtins.type\n",
      "     |      Create and return a new object.  See help(type) for accurate signature.\n",
      "     |  \n",
      "     |  ----------------------------------------------------------------------\n",
      "     |  Methods inherited from builtins.BaseException:\n",
      "     |  \n",
      "     |  __delattr__(self, name, /)\n",
      "     |      Implement delattr(self, name).\n",
      "     |  \n",
      "     |  __getattribute__(self, name, /)\n",
      "     |      Return getattr(self, name).\n",
      "     |  \n",
      "     |  __reduce__(...)\n",
      "     |      Helper for pickle.\n",
      "     |  \n",
      "     |  __repr__(self, /)\n",
      "     |      Return repr(self).\n",
      "     |  \n",
      "     |  __setattr__(self, name, value, /)\n",
      "     |      Implement setattr(self, name, value).\n",
      "     |  \n",
      "     |  __setstate__(...)\n",
      "     |  \n",
      "     |  __str__(self, /)\n",
      "     |      Return str(self).\n",
      "     |  \n",
      "     |  add_note(...)\n",
      "     |      Exception.add_note(note) --\n",
      "     |      add a note to the exception\n",
      "     |  \n",
      "     |  with_traceback(...)\n",
      "     |      Exception.with_traceback(tb) --\n",
      "     |      set self.__traceback__ to tb and return self.\n",
      "     |  \n",
      "     |  ----------------------------------------------------------------------\n",
      "     |  Data descriptors inherited from builtins.BaseException:\n",
      "     |  \n",
      "     |  __cause__\n",
      "     |      exception cause\n",
      "     |  \n",
      "     |  __context__\n",
      "     |      exception context\n",
      "     |  \n",
      "     |  __dict__\n",
      "     |  \n",
      "     |  __suppress_context__\n",
      "     |  \n",
      "     |  __traceback__\n",
      "     |  \n",
      "     |  args\n",
      "\n",
      "FUNCTIONS\n",
      "    Regex = compile(pattern, flags=0, ignore_unused=False, cache_pattern=None, **kwargs)\n",
      "        Compile a regular expression pattern, returning a pattern object.\n",
      "    \n",
      "    cache_all(value=True)\n",
      "        Sets whether to cache all patterns, even those are compiled explicitly.\n",
      "        Passing None has no effect, but returns the current setting.\n",
      "    \n",
      "    compile(pattern, flags=0, ignore_unused=False, cache_pattern=None, **kwargs)\n",
      "        Compile a regular expression pattern, returning a pattern object.\n",
      "    \n",
      "    escape(pattern, special_only=True, literal_spaces=False)\n",
      "        Escape a string for use as a literal in a pattern. If special_only is\n",
      "        True, escape only special characters, else escape all non-alphanumeric\n",
      "        characters. If literal_spaces is True, don't escape spaces.\n",
      "    \n",
      "    findall(pattern, string, flags=0, pos=None, endpos=None, overlapped=False, concurrent=None, timeout=None, ignore_unused=False, **kwargs)\n",
      "        Return a list of all matches in the string. The matches may be overlapped\n",
      "        if overlapped is True. If one or more groups are present in the pattern,\n",
      "        return a list of groups; this will be a list of tuples if the pattern has\n",
      "        more than one group. Empty matches are included in the result.\n",
      "    \n",
      "    finditer(pattern, string, flags=0, pos=None, endpos=None, overlapped=False, partial=False, concurrent=None, timeout=None, ignore_unused=False, **kwargs)\n",
      "        Return an iterator over all matches in the string. The matches may be\n",
      "        overlapped if overlapped is True. For each match, the iterator returns a\n",
      "        match object. Empty matches are included in the result.\n",
      "    \n",
      "    fullmatch(pattern, string, flags=0, pos=None, endpos=None, partial=False, concurrent=None, timeout=None, ignore_unused=False, **kwargs)\n",
      "        Try to apply the pattern against all of the string, returning a match\n",
      "        object, or None if no match was found.\n",
      "    \n",
      "    match(pattern, string, flags=0, pos=None, endpos=None, partial=False, concurrent=None, timeout=None, ignore_unused=False, **kwargs)\n",
      "        Try to apply the pattern at the start of the string, returning a match\n",
      "        object, or None if no match was found.\n",
      "    \n",
      "    purge()\n",
      "        Clear the regular expression cache\n",
      "    \n",
      "    search(pattern, string, flags=0, pos=None, endpos=None, partial=False, concurrent=None, timeout=None, ignore_unused=False, **kwargs)\n",
      "        Search through string looking for a match to the pattern, returning a\n",
      "        match object, or None if no match was found.\n",
      "    \n",
      "    split(pattern, string, maxsplit=0, flags=0, concurrent=None, timeout=None, ignore_unused=False, **kwargs)\n",
      "        Split the source string by the occurrences of the pattern, returning a\n",
      "        list containing the resulting substrings.  If capturing parentheses are used\n",
      "        in pattern, then the text of all groups in the pattern are also returned as\n",
      "        part of the resulting list.  If maxsplit is nonzero, at most maxsplit splits\n",
      "        occur, and the remainder of the string is returned as the final element of\n",
      "        the list.\n",
      "    \n",
      "    splititer(pattern, string, maxsplit=0, flags=0, concurrent=None, timeout=None, ignore_unused=False, **kwargs)\n",
      "        Return an iterator yielding the parts of a split string.\n",
      "    \n",
      "    sub(pattern, repl, string, count=0, flags=0, pos=None, endpos=None, concurrent=None, timeout=None, ignore_unused=False, **kwargs)\n",
      "        Return the string obtained by replacing the leftmost (or rightmost with a\n",
      "        reverse pattern) non-overlapping occurrences of the pattern in string by the\n",
      "        replacement repl. repl can be either a string or a callable; if a string,\n",
      "        backslash escapes in it are processed; if a callable, it's passed the match\n",
      "        object and must return a replacement string to be used.\n",
      "    \n",
      "    subf(pattern, format, string, count=0, flags=0, pos=None, endpos=None, concurrent=None, timeout=None, ignore_unused=False, **kwargs)\n",
      "        Return the string obtained by replacing the leftmost (or rightmost with a\n",
      "        reverse pattern) non-overlapping occurrences of the pattern in string by the\n",
      "        replacement format. format can be either a string or a callable; if a string,\n",
      "        it's treated as a format string; if a callable, it's passed the match object\n",
      "        and must return a replacement string to be used.\n",
      "    \n",
      "    subfn(pattern, format, string, count=0, flags=0, pos=None, endpos=None, concurrent=None, timeout=None, ignore_unused=False, **kwargs)\n",
      "        Return a 2-tuple containing (new_string, number). new_string is the string\n",
      "        obtained by replacing the leftmost (or rightmost with a reverse pattern)\n",
      "        non-overlapping occurrences of the pattern in the source string by the\n",
      "        replacement format. number is the number of substitutions that were made. format\n",
      "        can be either a string or a callable; if a string, it's treated as a format\n",
      "        string; if a callable, it's passed the match object and must return a\n",
      "        replacement string to be used.\n",
      "    \n",
      "    subn(pattern, repl, string, count=0, flags=0, pos=None, endpos=None, concurrent=None, timeout=None, ignore_unused=False, **kwargs)\n",
      "        Return a 2-tuple containing (new_string, number). new_string is the string\n",
      "        obtained by replacing the leftmost (or rightmost with a reverse pattern)\n",
      "        non-overlapping occurrences of the pattern in the source string by the\n",
      "        replacement repl. number is the number of substitutions that were made. repl\n",
      "        can be either a string or a callable; if a string, backslash escapes in it\n",
      "        are processed; if a callable, it's passed the match object and must return a\n",
      "        replacement string to be used.\n",
      "    \n",
      "    template(pattern, flags=0)\n",
      "        Compile a template pattern, returning a pattern object.\n",
      "\n",
      "DATA\n",
      "    A = regex.A\n",
      "    ASCII = regex.A\n",
      "    B = regex.B\n",
      "    BESTMATCH = regex.B\n",
      "    D = regex.D\n",
      "    DEBUG = regex.D\n",
      "    DEFAULT_VERSION = regex.V0\n",
      "    DOTALL = regex.S\n",
      "    E = regex.E\n",
      "    ENHANCEMATCH = regex.E\n",
      "    F = regex.F\n",
      "    FULLCASE = regex.F\n",
      "    I = regex.I\n",
      "    IGNORECASE = regex.I\n",
      "    L = regex.L\n",
      "    LOCALE = regex.L\n",
      "    M = regex.M\n",
      "    MULTILINE = regex.M\n",
      "    P = regex.P\n",
      "    POSIX = regex.P\n",
      "    R = regex.R\n",
      "    REVERSE = regex.R\n",
      "    S = regex.S\n",
      "    T = regex.T\n",
      "    TEMPLATE = regex.T\n",
      "    U = regex.U\n",
      "    UNICODE = regex.U\n",
      "    V0 = regex.V0\n",
      "    V1 = regex.V1\n",
      "    VERBOSE = regex.X\n",
      "    VERSION0 = regex.V0\n",
      "    VERSION1 = regex.V1\n",
      "    W = regex.W\n",
      "    WORD = regex.W\n",
      "    X = regex.X\n",
      "    __all__ = ['cache_all', 'compile', 'DEFAULT_VERSION', 'escape', 'finda...\n",
      "\n",
      "VERSION\n",
      "    2.5.116\n",
      "\n",
      "FILE\n",
      "    c:\\users\\ww\\anaconda3\\lib\\site-packages\\regex\\__init__.py\n",
      "\n",
      "\n",
      "None\n"
     ]
    }
   ],
   "source": [
    "print(help(re))"
   ]
  },
  {
   "cell_type": "code",
   "execution_count": 4,
   "id": "ce8242dd",
   "metadata": {},
   "outputs": [
    {
     "name": "stdout",
     "output_type": "stream",
     "text": [
      "A , ASCII , B , BESTMATCH , D , DEBUG , DEFAULT_VERSION , DOTALL , E , ENHANCEMATCH , F , FULLCASE , I , IGNORECASE , L , LOCALE , M , MULTILINE , Match , P , POSIX , Pattern , R , REVERSE , Regex , RegexFlag , S , Scanner , T , TEMPLATE , U , UNICODE , V0 , V1 , VERBOSE , VERSION0 , VERSION1 , W , WORD , X , __all__ , __builtins__ , __cached__ , __doc__ , __file__ , __loader__ , __name__ , __package__ , __path__ , __spec__ , __version__ , _regex , _regex_core , cache_all , compile , error , escape , findall , finditer , fullmatch , match , purge , regex , search , split , splititer , sub , subf , subfn , subn , template , "
     ]
    }
   ],
   "source": [
    "# function of regex model\n",
    "for i in dir(re):\n",
    "    print(i,end=\" , \")"
   ]
  },
  {
   "cell_type": "code",
   "execution_count": 5,
   "id": "1e0177ed",
   "metadata": {},
   "outputs": [
    {
     "name": "stdout",
     "output_type": "stream",
     "text": [
      "71\n"
     ]
    }
   ],
   "source": [
    "print(len(dir(re)))"
   ]
  },
  {
   "cell_type": "code",
   "execution_count": 6,
   "id": "cfedab5c",
   "metadata": {},
   "outputs": [
    {
     "data": {
      "text/plain": [
       "1"
      ]
     },
     "execution_count": 6,
     "metadata": {},
     "output_type": "execute_result"
    }
   ],
   "source": [
    "# caret symbol performe addtion og binary no.\n",
    "#0000\n",
    "#8421\n",
    "#2-0010\n",
    "#3-0011\n",
    "#+ 0001 so here no.s of it 8421 so out is 1\n",
    "2^3"
   ]
  },
  {
   "cell_type": "code",
   "execution_count": 7,
   "id": "db9ba0cc",
   "metadata": {},
   "outputs": [
    {
     "data": {
      "text/plain": [
       "'datadatadata'"
      ]
     },
     "execution_count": 7,
     "metadata": {},
     "output_type": "execute_result"
    }
   ],
   "source": [
    "\"data\"*3"
   ]
  },
  {
   "cell_type": "markdown",
   "id": "7a542422",
   "metadata": {},
   "source": [
    "# 1. re.findall function"
   ]
  },
  {
   "cell_type": "code",
   "execution_count": 8,
   "id": "2da8fc12",
   "metadata": {},
   "outputs": [
    {
     "name": "stdout",
     "output_type": "stream",
     "text": [
      "['Data Science', 'data Science']\n"
     ]
    }
   ],
   "source": [
    "pattern=\"data Science|Data Science\"\n",
    "text=\"Data Science is a stream and it is a part of AI. You can solve many complex problems using data Science tools and techs\"\n",
    "matches=re.findall(pattern,text)\n",
    "print(matches)"
   ]
  },
  {
   "cell_type": "code",
   "execution_count": 9,
   "id": "e6a387fc",
   "metadata": {},
   "outputs": [
    {
     "name": "stdout",
     "output_type": "stream",
     "text": [
      "['Data Science']\n"
     ]
    }
   ],
   "source": [
    "pattern=\"daTa Science|Data Science\"\n",
    "text=\"Data Science is a stream and it is a part of AI. You can solve many complex problems using data Science tools and techs\"\n",
    "matches=re.findall(pattern,text)\n",
    "print(matches)\n",
    "#here 1 condition only matchs "
   ]
  },
  {
   "cell_type": "code",
   "execution_count": 10,
   "id": "559a94d6",
   "metadata": {},
   "outputs": [
    {
     "name": "stdout",
     "output_type": "stream",
     "text": [
      "['Data Science', 'stream', 'AI', 'Data Science', 'tools']\n"
     ]
    }
   ],
   "source": [
    "# here we are given 4 contion pattern=\"daTa Science|Data Science\"\n",
    "# so here pattern matching more than 1 time it will give all the output\n",
    "pattern=\"Data Science|stream|tools|AI\"\n",
    "text=\"Data Science is a stream and it is a part of AI. You can solve many complex problems using Data Science tools and techs\"\n",
    "matches=re.findall(pattern,text)\n",
    "print(matches)\n",
    "#here 1 condition only matchs "
   ]
  },
  {
   "cell_type": "markdown",
   "id": "dacc4f37",
   "metadata": {},
   "source": [
    "# Extracting digits from the string"
   ]
  },
  {
   "cell_type": "code",
   "execution_count": 11,
   "id": "e162719a",
   "metadata": {},
   "outputs": [
    {
     "name": "stdout",
     "output_type": "stream",
     "text": [
      "['4', '123', '4567']\n",
      "['4', '123', '4567']\n"
     ]
    }
   ],
   "source": [
    "text= \"there are 4 123  aplles and 4567 oranges\"\n",
    "pattern='\\d+'\n",
    "matches=re.findall(pattern,text)\n",
    "print(matches)\n",
    "# + is ussed for 1 or m ore occurances\n",
    "\n",
    "#OR\n",
    "\n",
    "# or we can fetch like this also\n",
    "text= \"there are 4 123  aplles and 4567 oranges\"\n",
    "pattern=\"[0-9]+\"\n",
    "matches=re.findall(pattern,text)\n",
    "print(matches)"
   ]
  },
  {
   "cell_type": "code",
   "execution_count": 12,
   "id": "f2c2146c",
   "metadata": {},
   "outputs": [
    {
     "name": "stdout",
     "output_type": "stream",
     "text": [
      "['4', '1', '2', '3', '4', '5', '6', '7']\n",
      "['4', '1', '2', '3', '4', '5', '6', '7']\n"
     ]
    }
   ],
   "source": [
    "text= \"there are 4 123  aplles and 4567 oranges\"\n",
    "pattern='\\d'\n",
    "matches=re.findall(pattern,text)\n",
    "print(matches)\n",
    "          \n",
    "             #OR\n",
    "text= \"there are 4 123  aplles and 4567 oranges\"\n",
    "pattern=\"[0-9]\"\n",
    "matches=re.findall(pattern,text)\n",
    "print(matches)"
   ]
  },
  {
   "cell_type": "code",
   "execution_count": 13,
   "id": "3584cc6a",
   "metadata": {},
   "outputs": [
    {
     "name": "stdout",
     "output_type": "stream",
     "text": [
      "['there are ', ' ', '  aplles and ', ' oranges. @#']\n"
     ]
    }
   ],
   "source": [
    "text= \"there are 4 123  aplles and 4567 oranges. @#\"\n",
    "pattern='\\D+'\n",
    "matches=re.findall(pattern,text)\n",
    "print(matches)\n",
    "#except digit it fetch all string by using \\D+\n",
    "#here white space also string thats why fetch it\n"
   ]
  },
  {
   "cell_type": "code",
   "execution_count": 14,
   "id": "2ea84474",
   "metadata": {},
   "outputs": [
    {
     "name": "stdout",
     "output_type": "stream",
     "text": [
      "['t', 'h', 'e', 'r', 'e', ' ', 'a', 'r', 'e', ' ', ' ', ' ', ' ', 'a', 'p', 'l', 'l', 'e', 's', ' ', 'a', 'n', 'd', ' ', ' ', 'o', 'r', 'a', 'n', 'g', 'e', 's', '.', ' ', '@', '#']\n"
     ]
    }
   ],
   "source": [
    "text= \"there are 4 123  aplles and 4567 oranges. @#\"\n",
    "pattern='\\D'\n",
    "matches=re.findall(pattern,text)\n",
    "print(matches)\n",
    "#except digit it fetch all string also fetch white space by using \\D+"
   ]
  },
  {
   "cell_type": "code",
   "execution_count": 15,
   "id": "05c106e6",
   "metadata": {},
   "outputs": [
    {
     "name": "stdout",
     "output_type": "stream",
     "text": [
      "['123', '456']\n"
     ]
    }
   ],
   "source": [
    "text= \"there are 4 123  aplles and 4567 oranges\"\n",
    "pattern='123|456'\n",
    "matches=re.findall(pattern,text)\n",
    "print(matches)"
   ]
  },
  {
   "cell_type": "code",
   "execution_count": 16,
   "id": "e4b37111",
   "metadata": {},
   "outputs": [
    {
     "name": "stdout",
     "output_type": "stream",
     "text": [
      "['001234', '456', '0']\n",
      "['001234', '456', '0']\n"
     ]
    }
   ],
   "source": [
    "# or we can fetch like this also\n",
    "text= \"abc001234xyz#456_0\"\n",
    "pattern=\"[0-9]+\"\n",
    "matches=re.findall(pattern,text)\n",
    "print(matches)\n",
    "\n",
    "\n",
    "          #OR\n",
    "\n",
    "text= \"abc001234xyz#456_0\"\n",
    "pattern=\"\\d+\"\n",
    "matches=re.findall(pattern,text)\n",
    "print(matches)"
   ]
  },
  {
   "cell_type": "code",
   "execution_count": 17,
   "id": "4272bd1d",
   "metadata": {},
   "outputs": [
    {
     "name": "stdout",
     "output_type": "stream",
     "text": [
      "['001234', '456', '0']\n"
     ]
    }
   ],
   "source": [
    "text= \"abc001234xyz#456_0\"\n",
    "pattern=\"\\d+\"\n",
    "matches=re.findall(pattern,text)\n",
    "print(matches)"
   ]
  },
  {
   "cell_type": "code",
   "execution_count": 18,
   "id": "6226b613",
   "metadata": {},
   "outputs": [
    {
     "name": "stdout",
     "output_type": "stream",
     "text": [
      "['abc', 'xyz']\n"
     ]
    }
   ],
   "source": [
    "text= \"abc001234xyz#456_0\"\n",
    "pattern=\"[a-z]+\"\n",
    "matches=re.findall(pattern,text)\n",
    "print(matches)"
   ]
  },
  {
   "cell_type": "code",
   "execution_count": 19,
   "id": "1a9ef1e5",
   "metadata": {},
   "outputs": [
    {
     "name": "stdout",
     "output_type": "stream",
     "text": [
      "['XYZ']\n"
     ]
    }
   ],
   "source": [
    "text= \"abc001234xyz#456_0XYZ\"\n",
    "pattern=\"[A-Z]+\"\n",
    "matches=re.findall(pattern,text)\n",
    "print(matches)"
   ]
  },
  {
   "cell_type": "code",
   "execution_count": 20,
   "id": "755bf264",
   "metadata": {},
   "outputs": [
    {
     "name": "stdout",
     "output_type": "stream",
     "text": [
      "[]\n"
     ]
    }
   ],
   "source": [
    "text= \"abc001234xyz#456_0XYZ\"\n",
    "pattern=\"\\a\"\n",
    "matches=re.findall(pattern,text)\n",
    "print(matches)"
   ]
  },
  {
   "cell_type": "markdown",
   "id": "adf09b50",
   "metadata": {},
   "source": [
    "# Extracting digits from the list of string"
   ]
  },
  {
   "cell_type": "code",
   "execution_count": 21,
   "id": "9a373456",
   "metadata": {},
   "outputs": [
    {
     "name": "stdout",
     "output_type": "stream",
     "text": [
      "\\d ['5', '0']\n",
      "\\d ['6', '0', '1', '2', '0']\n",
      "\\d ['1', '5', '0']\n",
      "\\d+ ['50']\n",
      "\\d+ ['60', '120']\n",
      "\\d+ ['150']\n"
     ]
    }
   ],
   "source": [
    "price=['Apple cost Rs 50',\"Rs 60 for each pineapple 120 \",\"Rs 150 per watermelon\" ]\n",
    "for msg in price:\n",
    "    matches=re.findall('\\d',msg)\n",
    "    print(\"\\d\",matches)\n",
    "    \n",
    "    \n",
    "for msg in price:\n",
    "    matches=re.findall('\\d+',msg)\n",
    "    print(\"\\d+\",matches)\n",
    "    \n",
    "    "
   ]
  },
  {
   "cell_type": "code",
   "execution_count": 22,
   "id": "d83488ec",
   "metadata": {},
   "outputs": [
    {
     "name": "stdout",
     "output_type": "stream",
     "text": [
      "\\D ['A', 'p', 'p', 'l', 'e', ' ', 'c', 'o', 's', 't', ' ', 'R', 's', ' ']\n",
      "\\D ['R', 's', ' ', ' ', 'f', 'o', 'r', ' ', 'e', 'a', 'c', 'h', ' ', 'p', 'i', 'n', 'e', 'a', 'p', 'p', 'l', 'e', ' ', ' ']\n",
      "\\D ['R', 's', ' ', ' ', 'p', 'e', 'r', ' ', 'w', 'a', 't', 'e', 'r', 'm', 'e', 'l', 'o', 'n']\n",
      "\\D+ ['Apple cost Rs ']\n",
      "\\D+ ['Rs ', ' for each pineapple ', ' ']\n",
      "\\D+ ['Rs ', ' per watermelon']\n"
     ]
    }
   ],
   "source": [
    "price=['Apple cost Rs 50',\"Rs 60 for each pineapple 120 \",\"Rs 150 per watermelon\" ]\n",
    "for msg in price:\n",
    "    matches=re.findall('\\D',msg)\n",
    "    print(\"\\D\",matches)\n",
    "    \n",
    "    \n",
    "for msg in price:\n",
    "    matches=re.findall('\\D+',msg)\n",
    "    print(\"\\D+\",matches)\n",
    "    "
   ]
  },
  {
   "cell_type": "code",
   "execution_count": 23,
   "id": "f7935718",
   "metadata": {},
   "outputs": [
    {
     "name": "stdout",
     "output_type": "stream",
     "text": [
      "Match Object: ['Indian', 'aerosp', 'scient', 'Missil', 'e12345']\n"
     ]
    }
   ],
   "source": [
    "target_string=\"APJ abdul kalam was an Indian aerospace scientist also known as the Missile12345 Man of India\"\n",
    "result=re.findall(r\"\\w{6}\",target_string)\n",
    "print(\"Match Object:\",result)\n",
    "# here means i want fetch out 6 words \\w is used for fetch all characters &{} use for give no.reputative occurances'\n",
    "# so here fetch out 6 occurance word character"
   ]
  },
  {
   "cell_type": "code",
   "execution_count": 24,
   "id": "f3ac00f8",
   "metadata": {},
   "outputs": [
    {
     "name": "stdout",
     "output_type": "stream",
     "text": [
      "Match Object: ['abdu', 'kala', 'Indi', 'aero', 'spac', 'scie', 'ntis', 'also', 'know', 'Miss', 'ile1', '2345', 'Indi']\n"
     ]
    }
   ],
   "source": [
    "target_string=\"APJ abdul kalam was an Indian aerospace scientist also known as the Missile12345 Man of India\"\n",
    "result=re.findall(r\"\\w{4}\",target_string)\n",
    "print(\"Match Object:\",result)\n",
    "#its fetching ou 4 words character of occurancess"
   ]
  },
  {
   "cell_type": "code",
   "execution_count": 25,
   "id": "a78e4df2",
   "metadata": {},
   "outputs": [
    {
     "name": "stdout",
     "output_type": "stream",
     "text": [
      "Match Object: ['abdul', 'kalam', 'Indian', 'aerosp', 'scient', 'also', 'known', 'Missil', 'e12345', 'India']\n"
     ]
    }
   ],
   "source": [
    "target_string=\"APJ abdul kalam was an Indian aerospace scientist also known as the Missile12345 Man of India\"\n",
    "result=re.findall(r\"\\w{4,6}\",target_string)\n",
    "print(\"Match Object:\",result)\n",
    "# \\w{4,6} it means we take range to fetching out words characters of occurances between 4 to 6 occurances"
   ]
  },
  {
   "cell_type": "markdown",
   "id": "f5bc4c21",
   "metadata": {},
   "source": [
    "# Extracting string which begin with a and ends with J or string begins with A ans ends l from the given string"
   ]
  },
  {
   "cell_type": "code",
   "execution_count": 26,
   "id": "6e0102c6",
   "metadata": {},
   "outputs": [
    {
     "name": "stdout",
     "output_type": "stream",
     "text": [
      "['AP12ik@J', 'Abdu12_*1']\n"
     ]
    }
   ],
   "source": [
    "string=\"AP12ik@J Abdu12_*1 kalam was an Indian aerospace scientist also known as the Missile Man of India\"\n",
    "pattern= 'A[a-zA-Z0-9@]+J|A[\\w*]+1'\n",
    "result=re.findall(pattern,string)\n",
    "print(result)"
   ]
  },
  {
   "cell_type": "markdown",
   "id": "b0d8d7ba",
   "metadata": {},
   "source": [
    "# 2. Split Function "
   ]
  },
  {
   "cell_type": "code",
   "execution_count": 27,
   "id": "ebe1f27d",
   "metadata": {},
   "outputs": [
    {
     "data": {
      "text/plain": [
       "['Twelve:', ' Eighty nine:', '.']"
      ]
     },
     "execution_count": 27,
     "metadata": {},
     "output_type": "execute_result"
    }
   ],
   "source": [
    "string='Twelve:12 Eighty nine:89.'\n",
    "pattern=\"\\d+\"\n",
    "result=re.split(pattern,string)\n",
    "result\n",
    "#here split after digit"
   ]
  },
  {
   "cell_type": "code",
   "execution_count": 28,
   "id": "c0112e5f",
   "metadata": {},
   "outputs": [
    {
     "data": {
      "text/plain": [
       "['Twelve :', ' Eighty nine : 89']"
      ]
     },
     "execution_count": 28,
     "metadata": {},
     "output_type": "execute_result"
    }
   ],
   "source": [
    "string='Twelve :12 Eighty nine : 89'\n",
    "pattern=\"\\d+\"\n",
    "result=re.split(pattern,string,1)\n",
    "result\n",
    "#here after 12 it is devided but 89 not devided becz we are passed here restriction 1 thats why its split 1 occurence where pattern match"
   ]
  },
  {
   "cell_type": "code",
   "execution_count": 29,
   "id": "18c70730",
   "metadata": {},
   "outputs": [
    {
     "data": {
      "text/plain": [
       "['Twelve :', ' Eighty nine : ', '']"
      ]
     },
     "execution_count": 29,
     "metadata": {},
     "output_type": "execute_result"
    }
   ],
   "source": [
    "string='Twelve :12 Eighty nine : 89'\n",
    "pattern=\"\\d+\"\n",
    "result=re.split(pattern,string,2)\n",
    "result"
   ]
  },
  {
   "cell_type": "code",
   "execution_count": 30,
   "id": "65532000",
   "metadata": {},
   "outputs": [
    {
     "name": "stdout",
     "output_type": "stream",
     "text": [
      "['India', 'is', 'a', 'beutiful', 'country']\n",
      "['India', 'is', 'a', 'beutiful country']\n",
      "['India', 'is', 'a beutiful country']\n"
     ]
    }
   ],
   "source": [
    "# split each white space character (\\s is split by space)\n",
    "text='India is a beutiful country'\n",
    "x=re.split('\\s',text)\n",
    "print(x)\n",
    "\n",
    "text='India is a beutiful country'\n",
    "x=re.split('\\s',text,3)\n",
    "print(x)\n",
    "\n",
    "text='India is a beutiful country'\n",
    "x=re.split('\\s',text,2)\n",
    "print(x)"
   ]
  },
  {
   "cell_type": "code",
   "execution_count": 31,
   "id": "9ec212f4",
   "metadata": {},
   "outputs": [
    {
     "name": "stdout",
     "output_type": "stream",
     "text": [
      "['How', 'is', 'this', 'Posible Data Science python']\n"
     ]
    }
   ],
   "source": [
    "#split by position\n",
    "split_by_position=\"How is this Posible Data Science python\"\n",
    "x=re.split(\"\\s\",split_by_position,3)\n",
    "print(x)"
   ]
  },
  {
   "cell_type": "code",
   "execution_count": 32,
   "id": "c25162f7",
   "metadata": {},
   "outputs": [
    {
     "name": "stdout",
     "output_type": "stream",
     "text": [
      "['12', '45+78', '85', '17', '89', '45']\n"
     ]
    }
   ],
   "source": [
    "#split string by the delimeters\n",
    "target_string=\"12,45+78,85-17,89:45\"\n",
    "x=re.split(\"-|,|:\",target_string)\n",
    "print(x)"
   ]
  },
  {
   "cell_type": "code",
   "execution_count": 33,
   "id": "9cd608c6",
   "metadata": {},
   "outputs": [
    {
     "name": "stdout",
     "output_type": "stream",
     "text": [
      "['12', '45+78', '85', '17', '89', '45']\n"
     ]
    }
   ],
   "source": [
    "target_string=\"12,45+78,85-17,89:45\"\n",
    "x=re.split(\"-|,|:\",target_string)\n",
    "print(x)"
   ]
  },
  {
   "cell_type": "code",
   "execution_count": 34,
   "id": "4c54b07d",
   "metadata": {},
   "outputs": [
    {
     "name": "stdout",
     "output_type": "stream",
     "text": [
      "['12', '45', '78', '85', '17', '89', '45', '']\n"
     ]
    }
   ],
   "source": [
    "target_string=\"12,45+78,85-17,89:45 How is this Posible\"\n",
    "x=re.split(\"\\D+\",target_string)\n",
    "print(x)"
   ]
  },
  {
   "cell_type": "markdown",
   "id": "6f5d98ec",
   "metadata": {},
   "source": [
    "# limit the no. Split\n"
   ]
  },
  {
   "cell_type": "code",
   "execution_count": 35,
   "id": "02cf8d2e",
   "metadata": {},
   "outputs": [
    {
     "name": "stdout",
     "output_type": "stream",
     "text": [
      "['12', '45+78']\n"
     ]
    }
   ],
   "source": [
    "t=\"12-45+78\"\n",
    "result=re.split(\"\\D\",t,maxsplit=1)\n",
    "#split only on the 1st occurence \n",
    "print(result)"
   ]
  },
  {
   "cell_type": "code",
   "execution_count": 36,
   "id": "58803450",
   "metadata": {},
   "outputs": [
    {
     "name": "stdout",
     "output_type": "stream",
     "text": [
      "['12', '45', '78']\n"
     ]
    }
   ],
   "source": [
    "t=\"12-45+78\"\n",
    "result=re.split(\"\\D\",t,maxsplit=2)\n",
    "#split only on the 1st occurence \n",
    "print(result)"
   ]
  },
  {
   "cell_type": "markdown",
   "id": "cde0ce65",
   "metadata": {},
   "source": [
    "# 3.Sub Function"
   ]
  },
  {
   "cell_type": "code",
   "execution_count": 37,
   "id": "1e3b616e",
   "metadata": {},
   "outputs": [
    {
     "name": "stdout",
     "output_type": "stream",
     "text": [
      "This++function++replace++spaces++by++assigned++char\n"
     ]
    }
   ],
   "source": [
    "sub_=\"This function replace spaces by assigned char\"\n",
    "x=re.sub(\"\\s\",\"++\",sub_,)\n",
    "print(x)"
   ]
  },
  {
   "cell_type": "code",
   "execution_count": 38,
   "id": "25028671",
   "metadata": {},
   "outputs": [
    {
     "name": "stdout",
     "output_type": "stream",
     "text": [
      " This Iteam costs $ 2500 and rs 3000\n",
      " This Iteam costs $ 2500 and $ 3000\n"
     ]
    }
   ],
   "source": [
    "y='Rs'\n",
    "text=\" This Iteam costs Rs 2500 and rs 3000\"\n",
    "replace_text=re.sub(y,\"$\",text)\n",
    "print(replace_text)\n",
    "        \n",
    "    #OR we can write\n",
    "    \n",
    "text=\" This Iteam costs Rs 2500 and rs 3000\"\n",
    "replace_text=re.sub(\"Rs|rs\",\"$\",text)\n",
    "print(replace_text)"
   ]
  },
  {
   "cell_type": "code",
   "execution_count": 39,
   "id": "52fc806c",
   "metadata": {},
   "outputs": [
    {
     "name": "stdout",
     "output_type": "stream",
     "text": [
      " This Iteam costs $ 2500 and $ 3000\n"
     ]
    }
   ],
   "source": [
    "text=\" This Iteam costs Rs 2500 and rs 3000\"\n",
    "replace_text=re.sub(\"Rs\",\"$\",text,flags=re.IGNORECASE)\n",
    "print(replace_text)\n",
    "#re.IGNORECASE it means ignore case sensetiveness"
   ]
  },
  {
   "cell_type": "code",
   "execution_count": 40,
   "id": "cb3b407f",
   "metadata": {},
   "outputs": [
    {
     "name": "stdout",
     "output_type": "stream",
     "text": [
      "Match Object: APJabdulkalamwasanIndianaerospacescientistalsoknownastheMissile12345ManofIndia\n",
      "Match Object \\s: APJabdulkalamwasanIndianaerospacescientistalsoknownastheMissile12345ManofIndia\n"
     ]
    }
   ],
   "source": [
    "target_string=\"APJ   abdul kalam was    an Indian aerospace scientist also known as the Missile12345 Man of India\"\n",
    "result=re.sub(\"\\s+\",\"\",target_string)\n",
    "print(\"Match Object:\",result)\n",
    "\n",
    "\n",
    "target_string=\"APJ   abdul kalam was    an Indian aerospace scientist also known as the Missile12345 Man of India\"\n",
    "result=re.sub(\"\\s\",\"\",target_string)\n",
    "print(\"Match Object \\s:\",result)"
   ]
  },
  {
   "cell_type": "code",
   "execution_count": 41,
   "id": "a456afe3",
   "metadata": {
    "scrolled": true
   },
   "outputs": [
    {
     "name": "stdout",
     "output_type": "stream",
     "text": [
      "   APJ   abdul kalam was    an Indian aerospace scientist also known as the Missile12345 Man of India  \n",
      " APJ abdul kalam was an Indian aerospace scientist also known as the Missile12345 Man of India \n",
      "   APJ   abdul kalam was    an Indian aerospace scientist also known as the Missile12345 Man of India  \n",
      "   APJ   abdul kalam was    an Indian aerospace scientist also known as the Missile12345 Man of India\n"
     ]
    }
   ],
   "source": [
    "target_string=\"   APJ   abdul kalam was    an Indian aerospace scientist also known as the Missile12345 Man of India  \"\n",
    "print(target_string)\n",
    "result=re.sub(\"\\s+\",\" \",target_string)\n",
    "print(result)\n",
    "\n",
    "target_string=\"   APJ   abdul kalam was    an Indian aerospace scientist also known as the Missile12345 Man of India  \"\n",
    "print(target_string)\n",
    "result=re.sub(\"\\s+$\",\"\",target_string)\n",
    "print(result)\n",
    "#here space remove at the end\n"
   ]
  },
  {
   "cell_type": "code",
   "execution_count": 42,
   "id": "df0a088a",
   "metadata": {},
   "outputs": [
    {
     "name": "stdout",
     "output_type": "stream",
     "text": [
      "   APJ abdul kalam was an Indian aerospace scientist also known as the Missile12345 Man of  \n",
      "APJ abdul kalam was an Indian aerospace scientist also known as the Missile12345 Man of India\n"
     ]
    }
   ],
   "source": [
    "target_string=\"   APJ abdul kalam was an Indian aerospace scientist also known as the Missile12345 Man of India\"\n",
    "result=re.sub(r\"India$\",\" \",target_string)\n",
    "print(result)\n",
    "#here replace last india with space by $\n",
    "\n",
    "\n",
    "target_string=\"   APJ abdul kalam was an Indian aerospace scientist also known as the Missile12345 Man of India\"\n",
    "result=re.sub(r\"^\\s+\",\"\",target_string)\n",
    "print(result)\n",
    "#here remove starting space "
   ]
  },
  {
   "cell_type": "code",
   "execution_count": 43,
   "id": "3dd34f3e",
   "metadata": {},
   "outputs": [
    {
     "name": "stdout",
     "output_type": "stream",
     "text": [
      "abc*xyz*_*\n"
     ]
    }
   ],
   "source": [
    "substitute=re.sub(r\"[0-9]+\",r\"*\",\"abc000123xyz456_0\")\n",
    "print(substitute)\n",
    "#here no. replace with start "
   ]
  },
  {
   "cell_type": "markdown",
   "id": "0c36d0e3",
   "metadata": {},
   "source": [
    "# 4.Subn()"
   ]
  },
  {
   "cell_type": "code",
   "execution_count": 44,
   "id": "4539a15b",
   "metadata": {},
   "outputs": [
    {
     "name": "stdout",
     "output_type": "stream",
     "text": [
      "('abc*xyz*_*', 3)\n",
      "('abc*xyz*_*#*@*', 5)\n"
     ]
    }
   ],
   "source": [
    "# here i will count how many times value replace it will shaw no.s\n",
    "substitute=re.subn(r\"[0-9]+\",r\"*\",\"abc000123xyz456_0\")\n",
    "print(substitute)\n",
    "# so here 3 time replace value\n",
    "\n",
    "substitute=re.subn(r\"[0-9]+\",r\"*\",\"abc000123xyz456_0#56@0\")\n",
    "print(substitute)\n",
    "#here 5 times replace"
   ]
  },
  {
   "cell_type": "markdown",
   "id": "228e572f",
   "metadata": {},
   "source": [
    "# match Object function"
   ]
  },
  {
   "cell_type": "code",
   "execution_count": 45,
   "id": "600cd07d",
   "metadata": {},
   "outputs": [
    {
     "name": "stdout",
     "output_type": "stream",
     "text": [
      "<regex.Match object; span=(0, 4), match='2024'>\n",
      "None\n",
      "<regex.Match object; span=(0, 4), match='vira'>\n",
      "['2024', '1988', '1988']\n"
     ]
    }
   ],
   "source": [
    "target_string=\"2024 virat is a cricket player1988 who has born on November 5,1988\"\n",
    "result=re.match(r\"\\d{4}\",target_string)\n",
    "print(result)\n",
    "#so here fetch starting string sapan show Index of given pattern 0 to 4 nad match give the value which we given input\n",
    "\n",
    "\n",
    "#OR\n",
    "target_string=\"virat is a cricket player1988 who has born on November 5,1988\"\n",
    "result=re.match(r\"\\d{4}\",target_string)\n",
    "print(result)\n",
    "# now it return None because in the starting there is no any digit value\n",
    "\n",
    "\n",
    "target_string=\"virat is a cricket player1988 who has born on November 5,1988\"\n",
    "result=re.match(r\"\\D{4}\",target_string)\n",
    "print(result)\n",
    "\n",
    "target_string=\"2024 virat is a cricket player1988 who has born on November 5,1988\"\n",
    "result=re.findall(r\"\\d{4}\",target_string)\n",
    "print(result)\n",
    "#findall fetch all values of the given pattern but re.match it will return only begging string value if this match not match then will give None"
   ]
  },
  {
   "cell_type": "code",
   "execution_count": 46,
   "id": "8671b42c",
   "metadata": {},
   "outputs": [
    {
     "name": "stdout",
     "output_type": "stream",
     "text": [
      "<regex.Match object; span=(0, 6), match='123abc'>\n"
     ]
    }
   ],
   "source": [
    "string='123abc is the alphanumeric number'\n",
    "result=re.match(\"\\w+\",string)\n",
    "print(result)"
   ]
  },
  {
   "cell_type": "code",
   "execution_count": 47,
   "id": "84db437e",
   "metadata": {},
   "outputs": [
    {
     "name": "stdout",
     "output_type": "stream",
     "text": [
      "<regex.Match object; span=(0, 4), match='vira'>\n",
      "None\n"
     ]
    }
   ],
   "source": [
    "target_string=\"virat is a cricket player1988 who has born on November 5,1988\"\n",
    "result=re.match(r\"\\w{4}\",target_string)\n",
    "print(result)\n",
    "\n",
    "\n",
    "\n",
    "target_string=\"virat is a cricket player1988 who has born on November 5,1988\"\n",
    "result=re.match(r\"\\w{6}\",target_string)\n",
    "print(result)\n",
    "#here we want to fetch 6 occurances but there is only 4 woprds character space is not the words character to it return noe\n"
   ]
  },
  {
   "cell_type": "code",
   "execution_count": 48,
   "id": "86b43695",
   "metadata": {},
   "outputs": [
    {
     "name": "stdout",
     "output_type": "stream",
     "text": [
      "<regex.Match object; span=(0, 33), match='123abc is the alphanumeric number'>\n",
      "<regex.Match object; span=(0, 30), match='123abc is the alphanumeric #@ '>\n"
     ]
    }
   ],
   "source": [
    "string='123abc is the alphanumeric number'\n",
    "result=re.match(\".+\",string)\n",
    "print(result)\n",
    "# it mean . extract can anything except newline character + use for continues occurancess\n",
    "#so it return all\n",
    "\n",
    "#OR\n",
    "\n",
    "string='123abc is the alphanumeric #@ \\n number'\n",
    "result=re.match(\".+\",string)\n",
    "print(result)\n",
    "#here return all but \\n is newline character so it not return number"
   ]
  },
  {
   "cell_type": "markdown",
   "id": "a4a52d8f",
   "metadata": {},
   "source": [
    "# seach() methods"
   ]
  },
  {
   "cell_type": "code",
   "execution_count": 49,
   "id": "1bca873b",
   "metadata": {},
   "outputs": [
    {
     "name": "stdout",
     "output_type": "stream",
     "text": [
      "None\n",
      "None\n",
      "<regex.Match object; span=(11, 17), match='banana'>\n",
      "<regex.Match object; span=(0, 6), match='banana'>\n",
      "None\n",
      "findall []\n",
      "findall []\n",
      "findall ['banana']\n",
      "findall ['banana', 'banana']\n",
      "findall []\n"
     ]
    }
   ],
   "source": [
    "msges=['Banana are not only veru delicious pieces of fruit',\n",
    "       'they are also supper healthy',\n",
    "       'Eating two bananas a day can do wonders for you health',\n",
    "      'banana for example. but did ypu ever think of sticking a needle into a banana? Probably not,',\n",
    "      'but you should, because its supper handy']\n",
    "for msg in msges:\n",
    "    result=re.search('banana',msg)\n",
    "    print(result)\n",
    "#here 1st and 2nd string banana is not present so it gives None but in 3rd here bana present 2 imes but it retyrn 1 times \n",
    "#and show index also but in findall method it will return all\n",
    "\n",
    "#OR \n",
    "\n",
    "msges=['Banana are not only veru delicious pieces of fruit',\n",
    "       'they are also supper healthy',\n",
    "       'Eating two bananas a day can do wonders for you health',\n",
    "      'banana for example. but did ypu ever think of sticking a needle into a banana? Probably not,',\n",
    "      'but you should, because its supper handy']\n",
    "for msg in msges:\n",
    "    result=re.findall('banana',msg)\n",
    "    print(\"findall\",result)"
   ]
  },
  {
   "cell_type": "code",
   "execution_count": 50,
   "id": "abe78645",
   "metadata": {},
   "outputs": [
    {
     "name": "stdout",
     "output_type": "stream",
     "text": [
      "<regex.Match object; span=(0, 29), match='this product is really  great'>\n",
      "<regex.Match object; span=(0, 35), match='this product is really  great great'>\n"
     ]
    }
   ],
   "source": [
    "msg1=\"this product is really  great\"\n",
    "search=re.search(\"^this.*great$\",msg1)\n",
    "print(search)\n",
    "# here ^ represent starting string that is this and . means it can extract anything except the newline and star means \n",
    "# repeatation and $ ends this great. it means from the start it will extract anything also ends\n",
    "\n",
    "msg1=\"this product is really  great great\"\n",
    "search=re.search(\"^this.*great$\",msg1)\n",
    "print(search)"
   ]
  },
  {
   "cell_type": "markdown",
   "id": "0dbdbf92",
   "metadata": {},
   "source": [
    "# Group() method"
   ]
  },
  {
   "cell_type": "code",
   "execution_count": 51,
   "id": "8922b5f8",
   "metadata": {},
   "outputs": [
    {
     "name": "stdout",
     "output_type": "stream",
     "text": [
      "('43', 'CENTURIES', '91', 'HALFCENTURIES')\n",
      "43\n",
      "('CENTURIES', '91')\n"
     ]
    }
   ],
   "source": [
    "string=\"Rohit Sharna has scored 43 CENTURIES and 91 HALFCENTURIES in his cricket career\"\n",
    "result=re.search(r\"(\\b\\d+).+(\\b[A-Z]+\\b).+(\\b\\d+).+(\\b[A-Z]+\\b)\",string)\n",
    "print(result.groups()) # exctracting matching values of all group\n",
    "print(result.group(1))# extract match value of group 1\n",
    "print(result.group(2,3))# extract match value of group 2 and group 3"
   ]
  },
  {
   "cell_type": "code",
   "execution_count": 52,
   "id": "c1c073c2",
   "metadata": {},
   "outputs": [
    {
     "name": "stdout",
     "output_type": "stream",
     "text": [
      "('43', 'CENTURIES', '91', 'HALFCENTURIES')\n"
     ]
    }
   ],
   "source": [
    "string=\"Rohit Sharna has scored 43 CENTURIES and 91 HALFCENTURIES in his cricket career\"\n",
    "result=re.search(r\"(\\b\\d+).+(\\b[A-Z]+\\b).+(\\b\\d+).+(\\b[A-Z]+\\b)\",string)\n",
    "print(result.groups())"
   ]
  },
  {
   "cell_type": "code",
   "execution_count": 53,
   "id": "d98010f9",
   "metadata": {},
   "outputs": [
    {
     "name": "stdout",
     "output_type": "stream",
     "text": [
      "43\n"
     ]
    }
   ],
   "source": [
    "print(result.group(1))"
   ]
  },
  {
   "cell_type": "code",
   "execution_count": 54,
   "id": "38d56703",
   "metadata": {},
   "outputs": [
    {
     "name": "stdout",
     "output_type": "stream",
     "text": [
      "('CENTURIES', '91')\n"
     ]
    }
   ],
   "source": [
    "print(result.group(2,3))"
   ]
  },
  {
   "cell_type": "code",
   "execution_count": 55,
   "id": "fab9b807",
   "metadata": {},
   "outputs": [
    {
     "name": "stdout",
     "output_type": "stream",
     "text": [
      "<regex.Match object; span=(24, 26), match='43'>\n",
      "('43',)\n"
     ]
    }
   ],
   "source": [
    "string=\"Rohit Sharna has scored 43 CENTURIES and 91 HALFCENTURIES in his cricket career\"\n",
    "result=re.search(r\"(\\b\\d+)\",string)\n",
    "print(result)\n",
    "                 \n",
    "print(result.groups())"
   ]
  },
  {
   "cell_type": "markdown",
   "id": "a0df0872",
   "metadata": {},
   "source": [
    "# Regex capture group multiple times"
   ]
  },
  {
   "cell_type": "code",
   "execution_count": 56,
   "id": "529bd133",
   "metadata": {},
   "outputs": [
    {
     "name": "stdout",
     "output_type": "stream",
     "text": [
      "43 CENTURIES\n",
      "91 HALFCENTURIES\n"
     ]
    }
   ],
   "source": [
    "string=\"Rohit Sharna has scored 43 CENTURIES and 91 HALFCENTURIES in his cricket career\"\n",
    "pattern=re.compile(r\"(\\b\\d+\\b).(\\b[A-Z]+\\b)\")\n",
    "# find all matches to group\n",
    "for match1 in pattern.finditer(string):\n",
    "    print(match1.group())\n",
    "    #extract number\n"
   ]
  },
  {
   "cell_type": "markdown",
   "id": "bedfdc75",
   "metadata": {},
   "source": [
    "# re.compiler() method\n",
    "it mean not need to written pattern again and agaion we can creat once and stored in vriable then we can use same pattern for diffrent string\n",
    "#pattern=re.compile(r\"(\\b\\d+\\b).(\\b[A-Z]+\\b)\") like this\n"
   ]
  },
  {
   "cell_type": "code",
   "execution_count": 57,
   "id": "8953b196",
   "metadata": {},
   "outputs": [
    {
     "name": "stdout",
     "output_type": "stream",
     "text": [
      "<class 'str'>\n",
      "<class '_regex.Pattern'> \n",
      "\n",
      "['1020']\n"
     ]
    }
   ],
   "source": [
    "string=\"\"\"Chandrayaan-3 is a follow on mission to chandrayaan-2 to demonstrate end-to-end capability in safe landing and removing on the lunar surface.\n",
    "It consist of lander and Rover configuration.It will be launched by LVM3 from SDSC SHAR,Sriharikota.\n",
    "The propulsion module will carry the lander and rover configuration till 1020 km lunar orbit.\n",
    "the propulsion module has Spectro-polarimetry of Habitable Planet Earth (SHAPE) p[ayload to study the spectral and polari metric measurement of Earth from lunar\"\"\"\n",
    " # pattern to find three consecutive digit\n",
    "string_pattern=r\"\\d{4}\"\n",
    "print(type(string_pattern))\n",
    "\n",
    "# compile string pattern to re.pattern object\n",
    "regex_pattern = re.compile(string_pattern)\n",
    "\n",
    "# print the type of compile pattern\n",
    "print(type(regex_pattern),\"\\n\")\n",
    "\n",
    "# find all the matches in string one   \n",
    "result=regex_pattern.findall(string)\n",
    "print(result)"
   ]
  },
  {
   "cell_type": "code",
   "execution_count": 58,
   "id": "21090d35",
   "metadata": {},
   "outputs": [
    {
     "name": "stdout",
     "output_type": "stream",
     "text": [
      "['1993', '1122']\n",
      "['1993', '1122']\n"
     ]
    }
   ],
   "source": [
    "target_string=\"Emma is a basketball player who was born on june 17, 1993.she played 1122 matches with a scoring average of 26.12 points per game. her weight is 5 kg .\"\n",
    "result=regex_pattern.findall(target_string)\n",
    "print(result)\n",
    "#use here same re.pattern\n",
    "# or\n",
    "text=\"Emma is a basketball player who was born on june 17, 1993.she played 1122 matches with a scoring average of 26.12 points per game. her weight is 5 kg .\"\n",
    "pattern=\"\\d{4}\"\n",
    "matches=re.findall(pattern,text)\n",
    "print(matches)\n"
   ]
  },
  {
   "cell_type": "markdown",
   "id": "ad2e8152",
   "metadata": {},
   "source": [
    "In the code abovce-\n",
    "1.the re.compile method changed the string pattern into a re.pattern object that we can work upon \n",
    "2. next we ussed the re pattern object inside a re.findall() to obtaind all the positive matches of any 4 consecutive digits inside\n",
    "the target string\n",
    "NOW the same regex_pattern object can be ussedsimilarly for searching for 4 consecutive digits in other target strings as well.\n",
    "for eg"
   ]
  },
  {
   "cell_type": "code",
   "execution_count": 59,
   "id": "db7cd7ac",
   "metadata": {},
   "outputs": [
    {
     "name": "stdout",
     "output_type": "stream",
     "text": [
      "['7135']\n"
     ]
    }
   ],
   "source": [
    "target_string= \"the fourth orbit -raising maneuver(Earth-bound perigee firing) is completed the spacecraft is now in a 71351 km x 233 km orbit.\"\n",
    "result1=regex_pattern.findall(target_string)\n",
    "print(result1)"
   ]
  },
  {
   "cell_type": "markdown",
   "id": "80a4baac",
   "metadata": {},
   "source": [
    "# finditer()"
   ]
  },
  {
   "cell_type": "code",
   "execution_count": 60,
   "id": "d976251f",
   "metadata": {},
   "outputs": [
    {
     "name": "stdout",
     "output_type": "stream",
     "text": [
      "43 CENTURIES\n",
      "91 HALFCENTURIES\n"
     ]
    }
   ],
   "source": [
    "string=\"Rohit Sharna has scored 43 CENTURIES and 91 HALFCENTURIES in his cricket career\"\n",
    "pattern=re.compile(r\"(\\b\\d+\\b).(\\b[A-Z]+\\b)\")\n",
    "# find all matches to group\n",
    "for match1 in pattern.finditer(string):\n",
    "    print(match1.group())\n",
    "# here we do not need to write same method again and again if we are ussing finditer method after re.comple method because here change \n",
    "#patten in re.pattern so by finditer it will itrate again again fetch so itr will match give output\n",
    "#here we can use findall method al;so becz it will give the all occurances"
   ]
  },
  {
   "cell_type": "code",
   "execution_count": 61,
   "id": "7d07caf2",
   "metadata": {},
   "outputs": [
    {
     "name": "stdout",
     "output_type": "stream",
     "text": [
      "<regex.Match object; span=(24, 36), match='43 CENTURIES'>\n",
      "43 CENTURIES\n",
      "<regex.Match object; span=(41, 57), match='91 HALFCENTURIES'>\n",
      "91 HALFCENTURIES\n"
     ]
    }
   ],
   "source": [
    "string=\"Rohit Sharna has scored 43 CENTURIES and 91 HALFCENTURIES in his cricket career\"\n",
    "pattern=re.compile(r\"(\\b\\d+\\b).(\\b[A-Z]+\\b)\")\n",
    "# find all matches to group\n",
    "for match1 in pattern.finditer(string):\n",
    "    print(match1)\n",
    "    print(match1.group())"
   ]
  },
  {
   "cell_type": "code",
   "execution_count": 62,
   "id": "e712c50b",
   "metadata": {},
   "outputs": [
    {
     "name": "stdout",
     "output_type": "stream",
     "text": [
      "43 CENTURIES\n",
      "91 HALFCENTURIES\n"
     ]
    }
   ],
   "source": [
    "string=\"Rohit Sharna has scored 43 CENTURIES and 91 HALFCENTURIES in his cricket career\"\n",
    "pattern=re.compile(r\"(\\b\\d+\\b).(\\b[A-Z]+\\b)\")\n",
    "iter=pattern.finditer(string)\n",
    "# find all matches to group\n",
    "for match1 in iter:\n",
    "    print(match1.group())\n",
    "    #extract numbers\n",
    "    #print(match1.group(2))"
   ]
  },
  {
   "cell_type": "code",
   "execution_count": 63,
   "id": "dd782169",
   "metadata": {},
   "outputs": [
    {
     "name": "stdout",
     "output_type": "stream",
     "text": [
      "['1993', '1122']\n"
     ]
    }
   ],
   "source": [
    "target_string=\"Emma is a basketball player who was born on june 17, 1993.she played 1122 matches with a scoring average of 26.12 points per game. her weight is 5 kg .\"\n",
    "string_pattern=r\"\\d{4}\"\n",
    "# compile string pattern to re.pattern object\n",
    "regex_pattern = re.compile(string_pattern)\n",
    "\n",
    "result=regex_pattern.findall(target_string)\n",
    "print(result)"
   ]
  },
  {
   "cell_type": "code",
   "execution_count": 64,
   "id": "1e9c087a",
   "metadata": {},
   "outputs": [
    {
     "name": "stdout",
     "output_type": "stream",
     "text": [
      "43 CENTURIES\n",
      "91 HALFCENTURIES\n"
     ]
    }
   ],
   "source": [
    "string=\"Rohit Sharna has scored 43 CENTURIES and 91 HALFCENTURIES in his cricket career\"\n",
    "pattern=re.compile(r\"(\\b\\d+\\b).(\\b[A-Z]+\\b)\")\n",
    "iter=pattern.finditer(string)\n",
    "for matches in iter:\n",
    "    print(matches.group())"
   ]
  },
  {
   "cell_type": "code",
   "execution_count": 65,
   "id": "fd02f76c",
   "metadata": {},
   "outputs": [
    {
     "name": "stdout",
     "output_type": "stream",
     "text": [
      "<regex.Match object; span=(21, 27), match='player'>\n",
      "player\n",
      "<regex.Match object; span=(62, 68), match='played'>\n",
      "played\n"
     ]
    }
   ],
   "source": [
    "target_string=\"Emma is a basketball player who was born on june 17, 1993.she played 1122 matches with a scoring average of 26.12 points per game. her weight is 5 kg .\"\n",
    "#finditer wioth regex pattern and target string\n",
    "result=re.finditer(r\"player|played\",target_string)\n",
    "#print each re.match object\n",
    "for match_object in result:\n",
    "    print(match_object)\n",
    "    #extract each matching number\n",
    "    print(match_object.group())"
   ]
  },
  {
   "cell_type": "code",
   "execution_count": 66,
   "id": "7f870e4d",
   "metadata": {},
   "outputs": [
    {
     "name": "stdout",
     "output_type": "stream",
     "text": [
      "<regex.Match object; span=(18, 38), match='Superdatadatadataman'>\n"
     ]
    }
   ],
   "source": [
    "superRegex=re.compile(r'Super(data)*man')\n",
    "match_obj=superRegex.search(\"The Advantures of Superdatadatadataman\")\n",
    "print(match_obj)"
   ]
  },
  {
   "cell_type": "markdown",
   "id": "9e3cafd1",
   "metadata": {},
   "source": [
    "# Remove all consecutive duplicates words"
   ]
  },
  {
   "cell_type": "code",
   "execution_count": 67,
   "id": "e8680e0a",
   "metadata": {},
   "outputs": [
    {
     "name": "stdout",
     "output_type": "stream",
     "text": [
      "Ram went to his home\n"
     ]
    }
   ],
   "source": [
    "string1=\"Ram went went to his home\"\n",
    "regex=r'\\b(\\w+)(?:\\W+\\1\\b)+'\n",
    "x=re.sub(regex,r'\\1',string1)\n",
    "print(x)\n",
    "#\\1 is ussed whenever match in 1st group then that not match again in second group"
   ]
  },
  {
   "cell_type": "markdown",
   "id": "c9c0c168",
   "metadata": {},
   "source": [
    "# Extract URL from text\n",
    "#open method()"
   ]
  },
  {
   "cell_type": "code",
   "execution_count": 68,
   "id": "34e7c488",
   "metadata": {},
   "outputs": [
    {
     "ename": "FileNotFoundError",
     "evalue": "[Errno 2] No such file or directory: '/content/url_related.txt'",
     "output_type": "error",
     "traceback": [
      "\u001b[1;31m---------------------------------------------------------------------------\u001b[0m",
      "\u001b[1;31mFileNotFoundError\u001b[0m                         Traceback (most recent call last)",
      "Cell \u001b[1;32mIn[68], line 1\u001b[0m\n\u001b[1;32m----> 1\u001b[0m \u001b[38;5;28;01mwith\u001b[39;00m \u001b[38;5;28mopen\u001b[39m(\u001b[38;5;124m\"\u001b[39m\u001b[38;5;124m/content/url_related.txt\u001b[39m\u001b[38;5;124m\"\u001b[39m) \u001b[38;5;28;01mas\u001b[39;00m file:\n\u001b[0;32m      2\u001b[0m     \u001b[38;5;28;01mfor\u001b[39;00m line \u001b[38;5;129;01min\u001b[39;00m file:\n\u001b[0;32m      3\u001b[0m         urls\u001b[38;5;241m=\u001b[39m re\u001b[38;5;241m.\u001b[39mfindall(\u001b[38;5;124m'\u001b[39m\u001b[38;5;124mhttps?://(?:[-\u001b[39m\u001b[38;5;124m\\\u001b[39m\u001b[38;5;124mw.]|(?:\u001b[39m\u001b[38;5;124m%\u001b[39m\u001b[38;5;124m[\u001b[39m\u001b[38;5;124m\\\u001b[39m\u001b[38;5;124mda-zA-Z0-9]\u001b[39m\u001b[38;5;132;01m{2}\u001b[39;00m\u001b[38;5;124m))+\u001b[39m\u001b[38;5;124m'\u001b[39m,line)\n",
      "File \u001b[1;32m~\\anaconda3\\Lib\\site-packages\\IPython\\core\\interactiveshell.py:286\u001b[0m, in \u001b[0;36m_modified_open\u001b[1;34m(file, *args, **kwargs)\u001b[0m\n\u001b[0;32m    279\u001b[0m \u001b[38;5;28;01mif\u001b[39;00m file \u001b[38;5;129;01min\u001b[39;00m {\u001b[38;5;241m0\u001b[39m, \u001b[38;5;241m1\u001b[39m, \u001b[38;5;241m2\u001b[39m}:\n\u001b[0;32m    280\u001b[0m     \u001b[38;5;28;01mraise\u001b[39;00m \u001b[38;5;167;01mValueError\u001b[39;00m(\n\u001b[0;32m    281\u001b[0m         \u001b[38;5;124mf\u001b[39m\u001b[38;5;124m\"\u001b[39m\u001b[38;5;124mIPython won\u001b[39m\u001b[38;5;124m'\u001b[39m\u001b[38;5;124mt let you open fd=\u001b[39m\u001b[38;5;132;01m{\u001b[39;00mfile\u001b[38;5;132;01m}\u001b[39;00m\u001b[38;5;124m by default \u001b[39m\u001b[38;5;124m\"\u001b[39m\n\u001b[0;32m    282\u001b[0m         \u001b[38;5;124m\"\u001b[39m\u001b[38;5;124mas it is likely to crash IPython. If you know what you are doing, \u001b[39m\u001b[38;5;124m\"\u001b[39m\n\u001b[0;32m    283\u001b[0m         \u001b[38;5;124m\"\u001b[39m\u001b[38;5;124myou can use builtins\u001b[39m\u001b[38;5;124m'\u001b[39m\u001b[38;5;124m open.\u001b[39m\u001b[38;5;124m\"\u001b[39m\n\u001b[0;32m    284\u001b[0m     )\n\u001b[1;32m--> 286\u001b[0m \u001b[38;5;28;01mreturn\u001b[39;00m io_open(file, \u001b[38;5;241m*\u001b[39margs, \u001b[38;5;241m*\u001b[39m\u001b[38;5;241m*\u001b[39mkwargs)\n",
      "\u001b[1;31mFileNotFoundError\u001b[0m: [Errno 2] No such file or directory: '/content/url_related.txt'"
     ]
    }
   ],
   "source": [
    "with open(\"/content/url_related.txt\") as file:\n",
    "    for line in file:\n",
    "        urls= re.findall('https?://(?:[-\\w.]|(?:%[\\da-zA-Z0-9]{2}))+',line)\n",
    "        print(urls)"
   ]
  },
  {
   "cell_type": "code",
   "execution_count": 70,
   "id": "ac277d81",
   "metadata": {},
   "outputs": [],
   "source": [
    "import pandas as pd\n",
    "import regex as re"
   ]
  },
  {
   "cell_type": "code",
   "execution_count": 71,
   "id": "01970421",
   "metadata": {},
   "outputs": [
    {
     "data": {
      "text/html": [
       "<div>\n",
       "<style scoped>\n",
       "    .dataframe tbody tr th:only-of-type {\n",
       "        vertical-align: middle;\n",
       "    }\n",
       "\n",
       "    .dataframe tbody tr th {\n",
       "        vertical-align: top;\n",
       "    }\n",
       "\n",
       "    .dataframe thead th {\n",
       "        text-align: right;\n",
       "    }\n",
       "</style>\n",
       "<table border=\"1\" class=\"dataframe\">\n",
       "  <thead>\n",
       "    <tr style=\"text-align: right;\">\n",
       "      <th></th>\n",
       "      <th>City</th>\n",
       "      <th>Event</th>\n",
       "      <th>Cost</th>\n",
       "    </tr>\n",
       "  </thead>\n",
       "  <tbody>\n",
       "    <tr>\n",
       "      <th>0</th>\n",
       "      <td>New york</td>\n",
       "      <td>Music</td>\n",
       "      <td>10000</td>\n",
       "    </tr>\n",
       "    <tr>\n",
       "      <th>1</th>\n",
       "      <td>parague</td>\n",
       "      <td>Poetry</td>\n",
       "      <td>5000</td>\n",
       "    </tr>\n",
       "    <tr>\n",
       "      <th>2</th>\n",
       "      <td>new delhi</td>\n",
       "      <td>theater</td>\n",
       "      <td>15000</td>\n",
       "    </tr>\n",
       "    <tr>\n",
       "      <th>3</th>\n",
       "      <td>Venice</td>\n",
       "      <td>Comedy</td>\n",
       "      <td>2000</td>\n",
       "    </tr>\n",
       "    <tr>\n",
       "      <th>4</th>\n",
       "      <td>new Orleans</td>\n",
       "      <td>Tech_Summit</td>\n",
       "      <td>12000</td>\n",
       "    </tr>\n",
       "  </tbody>\n",
       "</table>\n",
       "</div>"
      ],
      "text/plain": [
       "          City        Event   Cost\n",
       "0     New york        Music  10000\n",
       "1      parague       Poetry   5000\n",
       "2    new delhi      theater  15000\n",
       "3       Venice       Comedy   2000\n",
       "4  new Orleans  Tech_Summit  12000"
      ]
     },
     "execution_count": 71,
     "metadata": {},
     "output_type": "execute_result"
    }
   ],
   "source": [
    "df=pd.DataFrame({'City':['New york','parague','new delhi','Venice','new Orleans'],\n",
    "                'Event':['Music','Poetry','theater','Comedy','Tech_Summit'],\n",
    "                'Cost':[10000,5000,15000,2000,12000]})\n",
    "df"
   ]
  },
  {
   "cell_type": "code",
   "execution_count": 72,
   "id": "31b8231c",
   "metadata": {},
   "outputs": [
    {
     "data": {
      "text/plain": [
       "0     True\n",
       "1    False\n",
       "2     True\n",
       "3    False\n",
       "4     True\n",
       "Name: City, dtype: bool"
      ]
     },
     "execution_count": 72,
     "metadata": {},
     "output_type": "execute_result"
    }
   ],
   "source": [
    "#here i want to find out that city which start with N\n",
    "df['City'].str.contains('^N.*',case=False)\n",
    "#here false means there is no case sensitive"
   ]
  },
  {
   "cell_type": "code",
   "execution_count": 73,
   "id": "3ae46c7b",
   "metadata": {},
   "outputs": [
    {
     "data": {
      "text/plain": [
       "0     True\n",
       "1    False\n",
       "2    False\n",
       "3    False\n",
       "4    False\n",
       "Name: City, dtype: bool"
      ]
     },
     "execution_count": 73,
     "metadata": {},
     "output_type": "execute_result"
    }
   ],
   "source": [
    "df['City'].str.contains('^N.*',case=True)"
   ]
  },
  {
   "cell_type": "code",
   "execution_count": 74,
   "id": "b84dcfef",
   "metadata": {},
   "outputs": [
    {
     "data": {
      "text/html": [
       "<div>\n",
       "<style scoped>\n",
       "    .dataframe tbody tr th:only-of-type {\n",
       "        vertical-align: middle;\n",
       "    }\n",
       "\n",
       "    .dataframe tbody tr th {\n",
       "        vertical-align: top;\n",
       "    }\n",
       "\n",
       "    .dataframe thead th {\n",
       "        text-align: right;\n",
       "    }\n",
       "</style>\n",
       "<table border=\"1\" class=\"dataframe\">\n",
       "  <thead>\n",
       "    <tr style=\"text-align: right;\">\n",
       "      <th></th>\n",
       "      <th>City</th>\n",
       "      <th>Event</th>\n",
       "      <th>Cost</th>\n",
       "    </tr>\n",
       "  </thead>\n",
       "  <tbody>\n",
       "    <tr>\n",
       "      <th>0</th>\n",
       "      <td>New york</td>\n",
       "      <td>Music</td>\n",
       "      <td>10000</td>\n",
       "    </tr>\n",
       "    <tr>\n",
       "      <th>2</th>\n",
       "      <td>new delhi</td>\n",
       "      <td>theater</td>\n",
       "      <td>15000</td>\n",
       "    </tr>\n",
       "    <tr>\n",
       "      <th>4</th>\n",
       "      <td>new Orleans</td>\n",
       "      <td>Tech_Summit</td>\n",
       "      <td>12000</td>\n",
       "    </tr>\n",
       "  </tbody>\n",
       "</table>\n",
       "</div>"
      ],
      "text/plain": [
       "          City        Event   Cost\n",
       "0     New york        Music  10000\n",
       "2    new delhi      theater  15000\n",
       "4  new Orleans  Tech_Summit  12000"
      ]
     },
     "execution_count": 74,
     "metadata": {},
     "output_type": "execute_result"
    }
   ],
   "source": [
    "df[df['City'].str.contains('^N.*',case=False)==True]\n",
    "#here i want fetch all detail which city start with N or n"
   ]
  },
  {
   "cell_type": "code",
   "execution_count": 75,
   "id": "57628903",
   "metadata": {},
   "outputs": [],
   "source": [
    "import numpy as np\n",
    "import pandas as pd"
   ]
  },
  {
   "cell_type": "code",
   "execution_count": 76,
   "id": "aa1ef43d",
   "metadata": {},
   "outputs": [
    {
     "data": {
      "text/html": [
       "<div>\n",
       "<style scoped>\n",
       "    .dataframe tbody tr th:only-of-type {\n",
       "        vertical-align: middle;\n",
       "    }\n",
       "\n",
       "    .dataframe tbody tr th {\n",
       "        vertical-align: top;\n",
       "    }\n",
       "\n",
       "    .dataframe thead th {\n",
       "        text-align: right;\n",
       "    }\n",
       "</style>\n",
       "<table border=\"1\" class=\"dataframe\">\n",
       "  <thead>\n",
       "    <tr style=\"text-align: right;\">\n",
       "      <th></th>\n",
       "      <th>PassengerId</th>\n",
       "      <th>Survived</th>\n",
       "      <th>Pclass</th>\n",
       "      <th>Name</th>\n",
       "      <th>Sex</th>\n",
       "      <th>Age</th>\n",
       "      <th>SibSp</th>\n",
       "      <th>Parch</th>\n",
       "      <th>Ticket</th>\n",
       "      <th>Fare</th>\n",
       "      <th>Cabin</th>\n",
       "      <th>Embarked</th>\n",
       "    </tr>\n",
       "  </thead>\n",
       "  <tbody>\n",
       "    <tr>\n",
       "      <th>0</th>\n",
       "      <td>1</td>\n",
       "      <td>0</td>\n",
       "      <td>3</td>\n",
       "      <td>Braund, Mr. Owen Harris</td>\n",
       "      <td>male</td>\n",
       "      <td>22.0</td>\n",
       "      <td>1</td>\n",
       "      <td>0</td>\n",
       "      <td>A/5 21171</td>\n",
       "      <td>7.2500</td>\n",
       "      <td>NaN</td>\n",
       "      <td>S</td>\n",
       "    </tr>\n",
       "    <tr>\n",
       "      <th>1</th>\n",
       "      <td>2</td>\n",
       "      <td>1</td>\n",
       "      <td>1</td>\n",
       "      <td>Cumings, Mrs. John Bradley (Florence Briggs Th...</td>\n",
       "      <td>female</td>\n",
       "      <td>38.0</td>\n",
       "      <td>1</td>\n",
       "      <td>0</td>\n",
       "      <td>PC 17599</td>\n",
       "      <td>71.2833</td>\n",
       "      <td>C85</td>\n",
       "      <td>C</td>\n",
       "    </tr>\n",
       "    <tr>\n",
       "      <th>2</th>\n",
       "      <td>3</td>\n",
       "      <td>1</td>\n",
       "      <td>3</td>\n",
       "      <td>Heikkinen, Miss. Laina</td>\n",
       "      <td>female</td>\n",
       "      <td>26.0</td>\n",
       "      <td>0</td>\n",
       "      <td>0</td>\n",
       "      <td>STON/O2. 3101282</td>\n",
       "      <td>7.9250</td>\n",
       "      <td>NaN</td>\n",
       "      <td>S</td>\n",
       "    </tr>\n",
       "    <tr>\n",
       "      <th>3</th>\n",
       "      <td>4</td>\n",
       "      <td>1</td>\n",
       "      <td>1</td>\n",
       "      <td>Futrelle, Mrs. Jacques Heath (Lily May Peel)</td>\n",
       "      <td>female</td>\n",
       "      <td>35.0</td>\n",
       "      <td>1</td>\n",
       "      <td>0</td>\n",
       "      <td>113803</td>\n",
       "      <td>53.1000</td>\n",
       "      <td>C123</td>\n",
       "      <td>S</td>\n",
       "    </tr>\n",
       "    <tr>\n",
       "      <th>4</th>\n",
       "      <td>5</td>\n",
       "      <td>0</td>\n",
       "      <td>3</td>\n",
       "      <td>Allen, Mr. William Henry</td>\n",
       "      <td>male</td>\n",
       "      <td>35.0</td>\n",
       "      <td>0</td>\n",
       "      <td>0</td>\n",
       "      <td>373450</td>\n",
       "      <td>8.0500</td>\n",
       "      <td>NaN</td>\n",
       "      <td>S</td>\n",
       "    </tr>\n",
       "    <tr>\n",
       "      <th>...</th>\n",
       "      <td>...</td>\n",
       "      <td>...</td>\n",
       "      <td>...</td>\n",
       "      <td>...</td>\n",
       "      <td>...</td>\n",
       "      <td>...</td>\n",
       "      <td>...</td>\n",
       "      <td>...</td>\n",
       "      <td>...</td>\n",
       "      <td>...</td>\n",
       "      <td>...</td>\n",
       "      <td>...</td>\n",
       "    </tr>\n",
       "    <tr>\n",
       "      <th>886</th>\n",
       "      <td>887</td>\n",
       "      <td>0</td>\n",
       "      <td>2</td>\n",
       "      <td>Montvila, Rev. Juozas</td>\n",
       "      <td>male</td>\n",
       "      <td>27.0</td>\n",
       "      <td>0</td>\n",
       "      <td>0</td>\n",
       "      <td>211536</td>\n",
       "      <td>13.0000</td>\n",
       "      <td>NaN</td>\n",
       "      <td>S</td>\n",
       "    </tr>\n",
       "    <tr>\n",
       "      <th>887</th>\n",
       "      <td>888</td>\n",
       "      <td>1</td>\n",
       "      <td>1</td>\n",
       "      <td>Graham, Miss. Margaret Edith</td>\n",
       "      <td>female</td>\n",
       "      <td>19.0</td>\n",
       "      <td>0</td>\n",
       "      <td>0</td>\n",
       "      <td>112053</td>\n",
       "      <td>30.0000</td>\n",
       "      <td>B42</td>\n",
       "      <td>S</td>\n",
       "    </tr>\n",
       "    <tr>\n",
       "      <th>888</th>\n",
       "      <td>889</td>\n",
       "      <td>0</td>\n",
       "      <td>3</td>\n",
       "      <td>Johnston, Miss. Catherine Helen \"Carrie\"</td>\n",
       "      <td>female</td>\n",
       "      <td>NaN</td>\n",
       "      <td>1</td>\n",
       "      <td>2</td>\n",
       "      <td>W./C. 6607</td>\n",
       "      <td>23.4500</td>\n",
       "      <td>NaN</td>\n",
       "      <td>S</td>\n",
       "    </tr>\n",
       "    <tr>\n",
       "      <th>889</th>\n",
       "      <td>890</td>\n",
       "      <td>1</td>\n",
       "      <td>1</td>\n",
       "      <td>Behr, Mr. Karl Howell</td>\n",
       "      <td>male</td>\n",
       "      <td>26.0</td>\n",
       "      <td>0</td>\n",
       "      <td>0</td>\n",
       "      <td>111369</td>\n",
       "      <td>30.0000</td>\n",
       "      <td>C148</td>\n",
       "      <td>C</td>\n",
       "    </tr>\n",
       "    <tr>\n",
       "      <th>890</th>\n",
       "      <td>891</td>\n",
       "      <td>0</td>\n",
       "      <td>3</td>\n",
       "      <td>Dooley, Mr. Patrick</td>\n",
       "      <td>male</td>\n",
       "      <td>32.0</td>\n",
       "      <td>0</td>\n",
       "      <td>0</td>\n",
       "      <td>370376</td>\n",
       "      <td>7.7500</td>\n",
       "      <td>NaN</td>\n",
       "      <td>Q</td>\n",
       "    </tr>\n",
       "  </tbody>\n",
       "</table>\n",
       "<p>891 rows × 12 columns</p>\n",
       "</div>"
      ],
      "text/plain": [
       "     PassengerId  Survived  Pclass  \\\n",
       "0              1         0       3   \n",
       "1              2         1       1   \n",
       "2              3         1       3   \n",
       "3              4         1       1   \n",
       "4              5         0       3   \n",
       "..           ...       ...     ...   \n",
       "886          887         0       2   \n",
       "887          888         1       1   \n",
       "888          889         0       3   \n",
       "889          890         1       1   \n",
       "890          891         0       3   \n",
       "\n",
       "                                                  Name     Sex   Age  SibSp  \\\n",
       "0                              Braund, Mr. Owen Harris    male  22.0      1   \n",
       "1    Cumings, Mrs. John Bradley (Florence Briggs Th...  female  38.0      1   \n",
       "2                               Heikkinen, Miss. Laina  female  26.0      0   \n",
       "3         Futrelle, Mrs. Jacques Heath (Lily May Peel)  female  35.0      1   \n",
       "4                             Allen, Mr. William Henry    male  35.0      0   \n",
       "..                                                 ...     ...   ...    ...   \n",
       "886                              Montvila, Rev. Juozas    male  27.0      0   \n",
       "887                       Graham, Miss. Margaret Edith  female  19.0      0   \n",
       "888           Johnston, Miss. Catherine Helen \"Carrie\"  female   NaN      1   \n",
       "889                              Behr, Mr. Karl Howell    male  26.0      0   \n",
       "890                                Dooley, Mr. Patrick    male  32.0      0   \n",
       "\n",
       "     Parch            Ticket     Fare Cabin Embarked  \n",
       "0        0         A/5 21171   7.2500   NaN        S  \n",
       "1        0          PC 17599  71.2833   C85        C  \n",
       "2        0  STON/O2. 3101282   7.9250   NaN        S  \n",
       "3        0            113803  53.1000  C123        S  \n",
       "4        0            373450   8.0500   NaN        S  \n",
       "..     ...               ...      ...   ...      ...  \n",
       "886      0            211536  13.0000   NaN        S  \n",
       "887      0            112053  30.0000   B42        S  \n",
       "888      2        W./C. 6607  23.4500   NaN        S  \n",
       "889      0            111369  30.0000  C148        C  \n",
       "890      0            370376   7.7500   NaN        Q  \n",
       "\n",
       "[891 rows x 12 columns]"
      ]
     },
     "execution_count": 76,
     "metadata": {},
     "output_type": "execute_result"
    }
   ],
   "source": [
    "dft=pd.read_csv('titan_data.csv')\n",
    "dft"
   ]
  },
  {
   "cell_type": "markdown",
   "id": "4d21f4a6",
   "metadata": {},
   "source": [
    "# str.contains()"
   ]
  },
  {
   "cell_type": "code",
   "execution_count": 77,
   "id": "f5586446",
   "metadata": {},
   "outputs": [
    {
     "data": {
      "text/html": [
       "<div>\n",
       "<style scoped>\n",
       "    .dataframe tbody tr th:only-of-type {\n",
       "        vertical-align: middle;\n",
       "    }\n",
       "\n",
       "    .dataframe tbody tr th {\n",
       "        vertical-align: top;\n",
       "    }\n",
       "\n",
       "    .dataframe thead th {\n",
       "        text-align: right;\n",
       "    }\n",
       "</style>\n",
       "<table border=\"1\" class=\"dataframe\">\n",
       "  <thead>\n",
       "    <tr style=\"text-align: right;\">\n",
       "      <th></th>\n",
       "      <th>PassengerId</th>\n",
       "      <th>Survived</th>\n",
       "      <th>Pclass</th>\n",
       "      <th>Name</th>\n",
       "      <th>Sex</th>\n",
       "      <th>Age</th>\n",
       "      <th>SibSp</th>\n",
       "      <th>Parch</th>\n",
       "      <th>Ticket</th>\n",
       "      <th>Fare</th>\n",
       "      <th>Cabin</th>\n",
       "      <th>Embarked</th>\n",
       "    </tr>\n",
       "  </thead>\n",
       "  <tbody>\n",
       "    <tr>\n",
       "      <th>33</th>\n",
       "      <td>34</td>\n",
       "      <td>0</td>\n",
       "      <td>2</td>\n",
       "      <td>Wheadon, Mr. Edward H</td>\n",
       "      <td>male</td>\n",
       "      <td>66.0</td>\n",
       "      <td>0</td>\n",
       "      <td>0</td>\n",
       "      <td>C.A. 24579</td>\n",
       "      <td>10.500</td>\n",
       "      <td>NaN</td>\n",
       "      <td>S</td>\n",
       "    </tr>\n",
       "    <tr>\n",
       "      <th>56</th>\n",
       "      <td>57</td>\n",
       "      <td>1</td>\n",
       "      <td>2</td>\n",
       "      <td>Rugg, Miss. Emily</td>\n",
       "      <td>female</td>\n",
       "      <td>21.0</td>\n",
       "      <td>0</td>\n",
       "      <td>0</td>\n",
       "      <td>C.A. 31026</td>\n",
       "      <td>10.500</td>\n",
       "      <td>NaN</td>\n",
       "      <td>S</td>\n",
       "    </tr>\n",
       "    <tr>\n",
       "      <th>58</th>\n",
       "      <td>59</td>\n",
       "      <td>1</td>\n",
       "      <td>2</td>\n",
       "      <td>West, Miss. Constance Mirium</td>\n",
       "      <td>female</td>\n",
       "      <td>5.0</td>\n",
       "      <td>1</td>\n",
       "      <td>2</td>\n",
       "      <td>C.A. 34651</td>\n",
       "      <td>27.750</td>\n",
       "      <td>NaN</td>\n",
       "      <td>S</td>\n",
       "    </tr>\n",
       "    <tr>\n",
       "      <th>59</th>\n",
       "      <td>60</td>\n",
       "      <td>0</td>\n",
       "      <td>3</td>\n",
       "      <td>Goodwin, Master. William Frederick</td>\n",
       "      <td>male</td>\n",
       "      <td>11.0</td>\n",
       "      <td>5</td>\n",
       "      <td>2</td>\n",
       "      <td>CA 2144</td>\n",
       "      <td>46.900</td>\n",
       "      <td>NaN</td>\n",
       "      <td>S</td>\n",
       "    </tr>\n",
       "    <tr>\n",
       "      <th>66</th>\n",
       "      <td>67</td>\n",
       "      <td>1</td>\n",
       "      <td>2</td>\n",
       "      <td>Nye, Mrs. (Elizabeth Ramell)</td>\n",
       "      <td>female</td>\n",
       "      <td>29.0</td>\n",
       "      <td>0</td>\n",
       "      <td>0</td>\n",
       "      <td>C.A. 29395</td>\n",
       "      <td>10.500</td>\n",
       "      <td>F33</td>\n",
       "      <td>S</td>\n",
       "    </tr>\n",
       "    <tr>\n",
       "      <th>70</th>\n",
       "      <td>71</td>\n",
       "      <td>0</td>\n",
       "      <td>2</td>\n",
       "      <td>Jenkin, Mr. Stephen Curnow</td>\n",
       "      <td>male</td>\n",
       "      <td>32.0</td>\n",
       "      <td>0</td>\n",
       "      <td>0</td>\n",
       "      <td>C.A. 33111</td>\n",
       "      <td>10.500</td>\n",
       "      <td>NaN</td>\n",
       "      <td>S</td>\n",
       "    </tr>\n",
       "    <tr>\n",
       "      <th>71</th>\n",
       "      <td>72</td>\n",
       "      <td>0</td>\n",
       "      <td>3</td>\n",
       "      <td>Goodwin, Miss. Lillian Amy</td>\n",
       "      <td>female</td>\n",
       "      <td>16.0</td>\n",
       "      <td>5</td>\n",
       "      <td>2</td>\n",
       "      <td>CA 2144</td>\n",
       "      <td>46.900</td>\n",
       "      <td>NaN</td>\n",
       "      <td>S</td>\n",
       "    </tr>\n",
       "    <tr>\n",
       "      <th>93</th>\n",
       "      <td>94</td>\n",
       "      <td>0</td>\n",
       "      <td>3</td>\n",
       "      <td>Dean, Mr. Bertram Frank</td>\n",
       "      <td>male</td>\n",
       "      <td>26.0</td>\n",
       "      <td>1</td>\n",
       "      <td>2</td>\n",
       "      <td>C.A. 2315</td>\n",
       "      <td>20.575</td>\n",
       "      <td>NaN</td>\n",
       "      <td>S</td>\n",
       "    </tr>\n",
       "    <tr>\n",
       "      <th>134</th>\n",
       "      <td>135</td>\n",
       "      <td>0</td>\n",
       "      <td>2</td>\n",
       "      <td>Sobey, Mr. Samuel James Hayden</td>\n",
       "      <td>male</td>\n",
       "      <td>25.0</td>\n",
       "      <td>0</td>\n",
       "      <td>0</td>\n",
       "      <td>C.A. 29178</td>\n",
       "      <td>13.000</td>\n",
       "      <td>NaN</td>\n",
       "      <td>S</td>\n",
       "    </tr>\n",
       "    <tr>\n",
       "      <th>145</th>\n",
       "      <td>146</td>\n",
       "      <td>0</td>\n",
       "      <td>2</td>\n",
       "      <td>Nicholls, Mr. Joseph Charles</td>\n",
       "      <td>male</td>\n",
       "      <td>19.0</td>\n",
       "      <td>1</td>\n",
       "      <td>1</td>\n",
       "      <td>C.A. 33112</td>\n",
       "      <td>36.750</td>\n",
       "      <td>NaN</td>\n",
       "      <td>S</td>\n",
       "    </tr>\n",
       "  </tbody>\n",
       "</table>\n",
       "</div>"
      ],
      "text/plain": [
       "     PassengerId  Survived  Pclass                                Name  \\\n",
       "33            34         0       2               Wheadon, Mr. Edward H   \n",
       "56            57         1       2                   Rugg, Miss. Emily   \n",
       "58            59         1       2        West, Miss. Constance Mirium   \n",
       "59            60         0       3  Goodwin, Master. William Frederick   \n",
       "66            67         1       2        Nye, Mrs. (Elizabeth Ramell)   \n",
       "70            71         0       2          Jenkin, Mr. Stephen Curnow   \n",
       "71            72         0       3          Goodwin, Miss. Lillian Amy   \n",
       "93            94         0       3             Dean, Mr. Bertram Frank   \n",
       "134          135         0       2      Sobey, Mr. Samuel James Hayden   \n",
       "145          146         0       2        Nicholls, Mr. Joseph Charles   \n",
       "\n",
       "        Sex   Age  SibSp  Parch      Ticket    Fare Cabin Embarked  \n",
       "33     male  66.0      0      0  C.A. 24579  10.500   NaN        S  \n",
       "56   female  21.0      0      0  C.A. 31026  10.500   NaN        S  \n",
       "58   female   5.0      1      2  C.A. 34651  27.750   NaN        S  \n",
       "59     male  11.0      5      2     CA 2144  46.900   NaN        S  \n",
       "66   female  29.0      0      0  C.A. 29395  10.500   F33        S  \n",
       "70     male  32.0      0      0  C.A. 33111  10.500   NaN        S  \n",
       "71   female  16.0      5      2     CA 2144  46.900   NaN        S  \n",
       "93     male  26.0      1      2   C.A. 2315  20.575   NaN        S  \n",
       "134    male  25.0      0      0  C.A. 29178  13.000   NaN        S  \n",
       "145    male  19.0      1      1  C.A. 33112  36.750   NaN        S  "
      ]
     },
     "execution_count": 77,
     "metadata": {},
     "output_type": "execute_result"
    }
   ],
   "source": [
    "#filtering a dataframe -s.str.contains(pattern)\n",
    "pattern=r'C\\.?A\\.?'\n",
    "mask=dft['Ticket'].str.contains(pattern)\n",
    "dft[mask].head(10)"
   ]
  },
  {
   "cell_type": "code",
   "execution_count": 86,
   "id": "9600b866",
   "metadata": {},
   "outputs": [
    {
     "data": {
      "text/html": [
       "<div>\n",
       "<style scoped>\n",
       "    .dataframe tbody tr th:only-of-type {\n",
       "        vertical-align: middle;\n",
       "    }\n",
       "\n",
       "    .dataframe tbody tr th {\n",
       "        vertical-align: top;\n",
       "    }\n",
       "\n",
       "    .dataframe thead th {\n",
       "        text-align: right;\n",
       "    }\n",
       "</style>\n",
       "<table border=\"1\" class=\"dataframe\">\n",
       "  <thead>\n",
       "    <tr style=\"text-align: right;\">\n",
       "      <th></th>\n",
       "      <th>PassengerId</th>\n",
       "      <th>Survived</th>\n",
       "      <th>Pclass</th>\n",
       "      <th>Name</th>\n",
       "      <th>Sex</th>\n",
       "      <th>Age</th>\n",
       "      <th>SibSp</th>\n",
       "      <th>Parch</th>\n",
       "      <th>Ticket</th>\n",
       "      <th>Fare</th>\n",
       "      <th>Cabin</th>\n",
       "      <th>Embarked</th>\n",
       "    </tr>\n",
       "  </thead>\n",
       "  <tbody>\n",
       "  </tbody>\n",
       "</table>\n",
       "</div>"
      ],
      "text/plain": [
       "Empty DataFrame\n",
       "Columns: [PassengerId, Survived, Pclass, Name, Sex, Age, SibSp, Parch, Ticket, Fare, Cabin, Embarked]\n",
       "Index: []"
      ]
     },
     "execution_count": 86,
     "metadata": {},
     "output_type": "execute_result"
    }
   ],
   "source": [
    "# hear find out name start with W followed by 0 or more accurance end with n character?\n",
    "pattern=r'W\\.?n\\.?'\n",
    "mask=dft['Name'].str.contains(pattern)\n",
    "dft[mask].head(3)"
   ]
  },
  {
   "cell_type": "code",
   "execution_count": 89,
   "id": "0b8e3ed7",
   "metadata": {},
   "outputs": [
    {
     "data": {
      "text/html": [
       "<div>\n",
       "<style scoped>\n",
       "    .dataframe tbody tr th:only-of-type {\n",
       "        vertical-align: middle;\n",
       "    }\n",
       "\n",
       "    .dataframe tbody tr th {\n",
       "        vertical-align: top;\n",
       "    }\n",
       "\n",
       "    .dataframe thead th {\n",
       "        text-align: right;\n",
       "    }\n",
       "</style>\n",
       "<table border=\"1\" class=\"dataframe\">\n",
       "  <thead>\n",
       "    <tr style=\"text-align: right;\">\n",
       "      <th></th>\n",
       "      <th>PassengerId</th>\n",
       "      <th>Survived</th>\n",
       "      <th>Pclass</th>\n",
       "      <th>Name</th>\n",
       "      <th>Sex</th>\n",
       "      <th>Age</th>\n",
       "      <th>SibSp</th>\n",
       "      <th>Parch</th>\n",
       "      <th>Ticket</th>\n",
       "      <th>Fare</th>\n",
       "      <th>Cabin</th>\n",
       "      <th>Embarked</th>\n",
       "    </tr>\n",
       "  </thead>\n",
       "  <tbody>\n",
       "    <tr>\n",
       "      <th>123</th>\n",
       "      <td>124</td>\n",
       "      <td>1</td>\n",
       "      <td>2</td>\n",
       "      <td>Webber, Miss. Susan</td>\n",
       "      <td>female</td>\n",
       "      <td>32.5</td>\n",
       "      <td>0</td>\n",
       "      <td>0</td>\n",
       "      <td>27267</td>\n",
       "      <td>13.0000</td>\n",
       "      <td>E101</td>\n",
       "      <td>S</td>\n",
       "    </tr>\n",
       "    <tr>\n",
       "      <th>515</th>\n",
       "      <td>516</td>\n",
       "      <td>0</td>\n",
       "      <td>1</td>\n",
       "      <td>Walker, Mr. William Anderson</td>\n",
       "      <td>male</td>\n",
       "      <td>47.0</td>\n",
       "      <td>0</td>\n",
       "      <td>0</td>\n",
       "      <td>36967</td>\n",
       "      <td>34.0208</td>\n",
       "      <td>D46</td>\n",
       "      <td>S</td>\n",
       "    </tr>\n",
       "    <tr>\n",
       "      <th>694</th>\n",
       "      <td>695</td>\n",
       "      <td>0</td>\n",
       "      <td>1</td>\n",
       "      <td>Weir, Col. John</td>\n",
       "      <td>male</td>\n",
       "      <td>60.0</td>\n",
       "      <td>0</td>\n",
       "      <td>0</td>\n",
       "      <td>113800</td>\n",
       "      <td>26.5500</td>\n",
       "      <td>NaN</td>\n",
       "      <td>S</td>\n",
       "    </tr>\n",
       "  </tbody>\n",
       "</table>\n",
       "</div>"
      ],
      "text/plain": [
       "     PassengerId  Survived  Pclass                          Name     Sex  \\\n",
       "123          124         1       2           Webber, Miss. Susan  female   \n",
       "515          516         0       1  Walker, Mr. William Anderson    male   \n",
       "694          695         0       1               Weir, Col. John    male   \n",
       "\n",
       "      Age  SibSp  Parch  Ticket     Fare Cabin Embarked  \n",
       "123  32.5      0      0   27267  13.0000  E101        S  \n",
       "515  47.0      0      0   36967  34.0208   D46        S  \n",
       "694  60.0      0      0  113800  26.5500   NaN        S  "
      ]
     },
     "execution_count": 89,
     "metadata": {},
     "output_type": "execute_result"
    }
   ],
   "source": [
    "# hear find out name start with W followed by 0 or more accurance end with n character?\n",
    "pattern=r'W\\.?n\\.?'pattern = r'^W.*n$'\n",
    "mask=dft['Name'].str.contains(pattern)\n",
    "dft[mask].head(3)"
   ]
  },
  {
   "cell_type": "markdown",
   "id": "e0fb76fa",
   "metadata": {},
   "source": [
    "#if i findout some group as column names for each subject whenever we are giving information working as the search method \n",
    "whenever passing that so fetch out\n",
    "if i asked create a new columns in dft based on some condition in that case we use this.\n"
   ]
  },
  {
   "cell_type": "code",
   "execution_count": 79,
   "id": "5eb75f73",
   "metadata": {},
   "outputs": [
    {
     "data": {
      "text/plain": [
       "265                               Reeves, Mr. David\n",
       "874           Abelson, Mrs. Samuel (Hannah Wizosky)\n",
       "559    de Messemaeker, Mrs. Guillaume Joseph (Emma)\n",
       "450                           West, Mr. Edwy Arthur\n",
       "826                                    Lam, Mr. Len\n",
       "Name: Name, dtype: object"
      ]
     },
     "execution_count": 79,
     "metadata": {},
     "output_type": "execute_result"
    }
   ],
   "source": [
    "dft['Name'].sample(5)"
   ]
  },
  {
   "cell_type": "markdown",
   "id": "f583875f",
   "metadata": {},
   "source": [
    "# str.extract()"
   ]
  },
  {
   "cell_type": "code",
   "execution_count": 80,
   "id": "ed626552",
   "metadata": {},
   "outputs": [
    {
     "data": {
      "text/plain": [
       "Name\n",
       "Mr          517\n",
       "Miss        182\n",
       "Mrs         125\n",
       "Master       40\n",
       "Dr            7\n",
       "Rev           6\n",
       "Mlle          2\n",
       "Major         2\n",
       "Col           2\n",
       "Countess      1\n",
       "Capt          1\n",
       "Ms            1\n",
       "Sir           1\n",
       "Lady          1\n",
       "Mme           1\n",
       "Don           1\n",
       "Jonkheer      1\n",
       "Name: count, dtype: int64"
      ]
     },
     "execution_count": 80,
     "metadata": {},
     "output_type": "execute_result"
    }
   ],
   "source": [
    "#i want extract all unique title from pasanger names then\n",
    "pattern='\\s(\\w+)\\.'\n",
    "all_its=dft['Name'].str.extract(pattern,expand=False)\n",
    "unique_its=all_its.value_counts()\n",
    "unique_its "
   ]
  },
  {
   "cell_type": "code",
   "execution_count": 81,
   "id": "ad109c88",
   "metadata": {},
   "outputs": [
    {
     "data": {
      "text/html": [
       "<div>\n",
       "<style scoped>\n",
       "    .dataframe tbody tr th:only-of-type {\n",
       "        vertical-align: middle;\n",
       "    }\n",
       "\n",
       "    .dataframe tbody tr th {\n",
       "        vertical-align: top;\n",
       "    }\n",
       "\n",
       "    .dataframe thead th {\n",
       "        text-align: right;\n",
       "    }\n",
       "</style>\n",
       "<table border=\"1\" class=\"dataframe\">\n",
       "  <thead>\n",
       "    <tr style=\"text-align: right;\">\n",
       "      <th></th>\n",
       "      <th>0</th>\n",
       "      <th>1</th>\n",
       "    </tr>\n",
       "  </thead>\n",
       "  <tbody>\n",
       "    <tr>\n",
       "      <th>0</th>\n",
       "      <td>NaN</td>\n",
       "      <td>NaN</td>\n",
       "    </tr>\n",
       "    <tr>\n",
       "      <th>1</th>\n",
       "      <td>NaN</td>\n",
       "      <td>NaN</td>\n",
       "    </tr>\n",
       "    <tr>\n",
       "      <th>2</th>\n",
       "      <td>NaN</td>\n",
       "      <td>NaN</td>\n",
       "    </tr>\n",
       "    <tr>\n",
       "      <th>3</th>\n",
       "      <td>NaN</td>\n",
       "      <td>NaN</td>\n",
       "    </tr>\n",
       "    <tr>\n",
       "      <th>4</th>\n",
       "      <td>NaN</td>\n",
       "      <td>NaN</td>\n",
       "    </tr>\n",
       "    <tr>\n",
       "      <th>...</th>\n",
       "      <td>...</td>\n",
       "      <td>...</td>\n",
       "    </tr>\n",
       "    <tr>\n",
       "      <th>886</th>\n",
       "      <td>NaN</td>\n",
       "      <td>NaN</td>\n",
       "    </tr>\n",
       "    <tr>\n",
       "      <th>887</th>\n",
       "      <td>NaN</td>\n",
       "      <td>NaN</td>\n",
       "    </tr>\n",
       "    <tr>\n",
       "      <th>888</th>\n",
       "      <td>NaN</td>\n",
       "      <td>NaN</td>\n",
       "    </tr>\n",
       "    <tr>\n",
       "      <th>889</th>\n",
       "      <td>NaN</td>\n",
       "      <td>NaN</td>\n",
       "    </tr>\n",
       "    <tr>\n",
       "      <th>890</th>\n",
       "      <td>NaN</td>\n",
       "      <td>NaN</td>\n",
       "    </tr>\n",
       "  </tbody>\n",
       "</table>\n",
       "<p>891 rows × 2 columns</p>\n",
       "</div>"
      ],
      "text/plain": [
       "       0    1\n",
       "0    NaN  NaN\n",
       "1    NaN  NaN\n",
       "2    NaN  NaN\n",
       "3    NaN  NaN\n",
       "4    NaN  NaN\n",
       "..   ...  ...\n",
       "886  NaN  NaN\n",
       "887  NaN  NaN\n",
       "888  NaN  NaN\n",
       "889  NaN  NaN\n",
       "890  NaN  NaN\n",
       "\n",
       "[891 rows x 2 columns]"
      ]
     },
     "execution_count": 81,
     "metadata": {},
     "output_type": "execute_result"
    }
   ],
   "source": [
    "pat=r'(w\\+),\\s(\\w+\\.\\s\\w+.*)'\n",
    "dft_names=dft['Name'].str.extract(pat,flags=re.I)\n",
    "dft_names"
   ]
  },
  {
   "cell_type": "markdown",
   "id": "87c9796b",
   "metadata": {},
   "source": [
    "# str.replace()"
   ]
  },
  {
   "cell_type": "code",
   "execution_count": 84,
   "id": "e83e32ba",
   "metadata": {},
   "outputs": [],
   "source": [
    "#replace all titles with capital later"
   ]
  },
  {
   "cell_type": "code",
   "execution_count": 83,
   "id": "0e02baef",
   "metadata": {},
   "outputs": [
    {
     "data": {
      "text/plain": [
       "0                                Braund, MR. Owen Harris\n",
       "1      Cumings, MRS. John Bradley (Florence Briggs Th...\n",
       "2                                 Heikkinen, MISS. Laina\n",
       "3           Futrelle, MRS. Jacques Heath (Lily May Peel)\n",
       "4                               Allen, MR. William Henry\n",
       "                             ...                        \n",
       "886                                Montvila, REV. Juozas\n",
       "887                         Graham, MISS. Margaret Edith\n",
       "888             Johnston, MISS. Catherine Helen \"Carrie\"\n",
       "889                                Behr, MR. Karl Howell\n",
       "890                                  Dooley, MR. Patrick\n",
       "Name: Name, Length: 891, dtype: object"
      ]
     },
     "execution_count": 83,
     "metadata": {},
     "output_type": "execute_result"
    }
   ],
   "source": [
    "patrn=r'\\s(\\w+)\\.'\n",
    "dft['Name'].str.replace(patrn,lambda m:m.group().upper(),regex=True)"
   ]
  },
  {
   "cell_type": "code",
   "execution_count": 87,
   "id": "f8fcf5f8",
   "metadata": {},
   "outputs": [
    {
     "name": "stdout",
     "output_type": "stream",
     "text": [
      "Regular\tExpressions\n",
      "RegEx\n"
     ]
    }
   ],
   "source": [
    "x= \"Regular\\tExpressions\\nRegEx\"\n",
    "\n",
    "print(x)"
   ]
  },
  {
   "cell_type": "code",
   "execution_count": 88,
   "id": "a5eb64cc",
   "metadata": {},
   "outputs": [
    {
     "name": "stdout",
     "output_type": "stream",
     "text": [
      "Regular\\tExpressions\\nRegEx\n"
     ]
    }
   ],
   "source": [
    "y= r\"Regular\\tExpressions\\nRegEx\"\n",
    "\n",
    "print(y) \n"
   ]
  },
  {
   "cell_type": "code",
   "execution_count": null,
   "id": "cfb57926",
   "metadata": {},
   "outputs": [],
   "source": []
  }
 ],
 "metadata": {
  "kernelspec": {
   "display_name": "Python 3 (ipykernel)",
   "language": "python",
   "name": "python3"
  },
  "language_info": {
   "codemirror_mode": {
    "name": "ipython",
    "version": 3
   },
   "file_extension": ".py",
   "mimetype": "text/x-python",
   "name": "python",
   "nbconvert_exporter": "python",
   "pygments_lexer": "ipython3",
   "version": "3.11.5"
  }
 },
 "nbformat": 4,
 "nbformat_minor": 5
}

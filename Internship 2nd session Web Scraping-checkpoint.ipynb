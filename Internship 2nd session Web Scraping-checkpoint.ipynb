{
 "cells": [
  {
   "cell_type": "code",
   "execution_count": 1,
   "id": "1eec820d",
   "metadata": {},
   "outputs": [],
   "source": [
    "#pip install beautifulsoup4"
   ]
  },
  {
   "cell_type": "code",
   "execution_count": 2,
   "id": "fb290647",
   "metadata": {},
   "outputs": [],
   "source": [
    "import bs4\n",
    "from bs4 import BeautifulSoup\n",
    "import requests\n",
    "import pandas as pd\n"
   ]
  },
  {
   "cell_type": "markdown",
   "id": "3f83a25c",
   "metadata": {},
   "source": [
    "# 1 Send request for web scraping"
   ]
  },
  {
   "cell_type": "code",
   "execution_count": 3,
   "id": "4e8b4649",
   "metadata": {},
   "outputs": [
    {
     "data": {
      "text/plain": [
       "<Response [200]>"
      ]
     },
     "execution_count": 3,
     "metadata": {},
     "output_type": "execute_result"
    }
   ],
   "source": [
    "page=requests.get('https://www.dineout.co.in/delhi-restaurants/buffet-special')\n",
    "page"
   ]
  },
  {
   "cell_type": "markdown",
   "id": "18cb6c9d",
   "metadata": {},
   "source": [
    "# 2 download the web  page content"
   ]
  },
  {
   "cell_type": "code",
   "execution_count": 4,
   "id": "a7aa7836",
   "metadata": {},
   "outputs": [],
   "source": [
    "soup=BeautifulSoup(page.content)\n"
   ]
  },
  {
   "cell_type": "markdown",
   "id": "37fb2db0",
   "metadata": {},
   "source": [
    "# 3 scraping title"
   ]
  },
  {
   "cell_type": "code",
   "execution_count": 5,
   "id": "38b18a3e",
   "metadata": {},
   "outputs": [
    {
     "data": {
      "text/plain": [
       "\"Castle's BarbequeConnaught Place, Central Delhi\""
      ]
     },
     "execution_count": 5,
     "metadata": {},
     "output_type": "execute_result"
    }
   ],
   "source": [
    "first_title=soup.find('div',class_=\"restnt-info cursor\")\n",
    "first_title.text"
   ]
  },
  {
   "cell_type": "markdown",
   "id": "ae4a45b3",
   "metadata": {},
   "source": [
    "# Scraping Location"
   ]
  },
  {
   "cell_type": "code",
   "execution_count": 6,
   "id": "823db775",
   "metadata": {},
   "outputs": [
    {
     "data": {
      "text/plain": [
       "'Connaught Place, Central Delhi'"
      ]
     },
     "execution_count": 6,
     "metadata": {},
     "output_type": "execute_result"
    }
   ],
   "source": [
    "loc=soup.find('div',class_='restnt-loc ellipsis')\n",
    "loc.text"
   ]
  },
  {
   "cell_type": "markdown",
   "id": "043fe121",
   "metadata": {},
   "source": [
    "# scraping 1st price"
   ]
  },
  {
   "cell_type": "code",
   "execution_count": 7,
   "id": "eab220e6",
   "metadata": {},
   "outputs": [
    {
     "data": {
      "text/plain": [
       "' 2,000 for 2 (approx) | Chinese, North Indian'"
      ]
     },
     "execution_count": 7,
     "metadata": {},
     "output_type": "execute_result"
    }
   ],
   "source": [
    "price=soup.find('span',class_=\"double-line-ellipsis\")\n",
    "price.text.replace('₹','')"
   ]
  },
  {
   "cell_type": "markdown",
   "id": "56fad08f",
   "metadata": {},
   "source": [
    "# now extract multiple data in one go\n"
   ]
  },
  {
   "cell_type": "code",
   "execution_count": 8,
   "id": "dcac88ae",
   "metadata": {},
   "outputs": [
    {
     "data": {
      "text/plain": [
       "[\"Castle's BarbequeConnaught Place, Central Delhi\",\n",
       " 'Cafe KnoshThe Leela Ambience Convention Hotel,Shahdara, East Delhi',\n",
       " 'India GrillHilton Garden Inn,Saket, South Delhi',\n",
       " 'The Barbeque CompanyGardens Galleria,Sector 38A, Noida',\n",
       " 'Delhi BarbequeTaurus Sarovar Portico,Mahipalpur, South Delhi',\n",
       " 'The Monarch - Bar Be Que VillageIndirapuram Habitat Centre,Indirapuram, Ghaziabad',\n",
       " 'The Barbeque TimesM2K Corporate Park,Sector 51, Gurgaon']"
      ]
     },
     "execution_count": 8,
     "metadata": {},
     "output_type": "execute_result"
    }
   ],
   "source": [
    "tittle=[]\n",
    "for i in soup.find_all('div',class_=\"restnt-info cursor\"):\n",
    "    tittle.append(i.text)\n",
    "tittle"
   ]
  },
  {
   "cell_type": "code",
   "execution_count": 9,
   "id": "b333081c",
   "metadata": {},
   "outputs": [
    {
     "data": {
      "text/plain": [
       "['Connaught Place, Central Delhi',\n",
       " 'The Leela Ambience Convention Hotel,Shahdara, East Delhi',\n",
       " 'Hilton Garden Inn,Saket, South Delhi',\n",
       " 'Gardens Galleria,Sector 38A, Noida',\n",
       " 'Taurus Sarovar Portico,Mahipalpur, South Delhi',\n",
       " 'Indirapuram Habitat Centre,Indirapuram, Ghaziabad',\n",
       " 'M2K Corporate Park,Sector 51, Gurgaon']"
      ]
     },
     "execution_count": 9,
     "metadata": {},
     "output_type": "execute_result"
    }
   ],
   "source": [
    "location=[]\n",
    "for i in soup.find_all('div',class_='restnt-loc ellipsis'):\n",
    "    location.append(i.text)\n",
    "location"
   ]
  },
  {
   "cell_type": "code",
   "execution_count": 10,
   "id": "77695410",
   "metadata": {},
   "outputs": [
    {
     "data": {
      "text/plain": [
       "['Rs 2,000 for 2 (approx) | Chinese, North Indian',\n",
       " 'Rs 3,000 for 2 (approx) | Italian, Continental',\n",
       " 'Rs 2,400 for 2 (approx) | North Indian, Italian',\n",
       " 'Rs 1,700 for 2 (approx) | North Indian, Chinese',\n",
       " 'Rs 1,800 for 2 (approx) | North Indian',\n",
       " 'Rs 1,900 for 2 (approx) | North Indian, Chinese, Desserts, Beverages',\n",
       " 'Rs 1,800 for 2 (approx) | North Indian, Continental, Chinese, South Indian']"
      ]
     },
     "execution_count": 10,
     "metadata": {},
     "output_type": "execute_result"
    }
   ],
   "source": [
    "price=[]\n",
    "for i in soup.find_all('span',class_=\"double-line-ellipsis\"):\n",
    "    price.append(i.text.replace('₹','Rs'))\n",
    "price"
   ]
  },
  {
   "cell_type": "code",
   "execution_count": 11,
   "id": "882f1f2b",
   "metadata": {},
   "outputs": [
    {
     "data": {
      "text/plain": [
       "['https://im1.dineout.co.in/images/uploads/restaurant/sharpen/8/i/c/p86792-170989155365eadfe113d68.jpg?tr=tr:n-medium',\n",
       " 'https://im1.dineout.co.in/images/uploads/restaurant/sharpen/4/p/m/p406-15438184745c04ccea491bc.jpg?tr=tr:n-medium',\n",
       " 'https://im1.dineout.co.in/images/uploads/restaurant/sharpen/2/q/t/p2687-169589385765154961ea87c.jpg?tr=tr:n-medium',\n",
       " 'https://im1.dineout.co.in/images/uploads/restaurant/sharpen/7/p/k/p79307-16051787755fad1597f2bf9.jpg?tr=tr:n-medium',\n",
       " 'https://im1.dineout.co.in/images/uploads/restaurant/sharpen/5/d/i/p52501-1661855212630de5eceb6d2.jpg?tr=tr:n-medium',\n",
       " 'https://im1.dineout.co.in/images/uploads/restaurant/sharpen/3/n/o/p34822-15599107305cfa594a13c24.jpg?tr=tr:n-medium',\n",
       " 'https://im1.dineout.co.in/images/uploads/restaurant/sharpen/1/u/r/p106428-166073786162fcd945925a9.jpg?tr=tr:n-medium']"
      ]
     },
     "execution_count": 11,
     "metadata": {},
     "output_type": "execute_result"
    }
   ],
   "source": [
    "image=[]\n",
    "for i in soup.find_all('img',class_=\"no-img\"):\n",
    "    image.append(i['data-src'])\n",
    "image"
   ]
  },
  {
   "cell_type": "markdown",
   "id": "b7ddea30",
   "metadata": {},
   "source": [
    "# printing length"
   ]
  },
  {
   "cell_type": "code",
   "execution_count": 12,
   "id": "09eeaaa8",
   "metadata": {},
   "outputs": [
    {
     "name": "stdout",
     "output_type": "stream",
     "text": [
      "7 7 7 7\n"
     ]
    }
   ],
   "source": [
    "print(len(tittle),len(location),len(price),len(image))"
   ]
  },
  {
   "cell_type": "markdown",
   "id": "b928e6f7",
   "metadata": {},
   "source": [
    "# Now create data frame\n"
   ]
  },
  {
   "cell_type": "code",
   "execution_count": 13,
   "id": "6a9d9f6a",
   "metadata": {},
   "outputs": [
    {
     "data": {
      "text/html": [
       "<div>\n",
       "<style scoped>\n",
       "    .dataframe tbody tr th:only-of-type {\n",
       "        vertical-align: middle;\n",
       "    }\n",
       "\n",
       "    .dataframe tbody tr th {\n",
       "        vertical-align: top;\n",
       "    }\n",
       "\n",
       "    .dataframe thead th {\n",
       "        text-align: right;\n",
       "    }\n",
       "</style>\n",
       "<table border=\"1\" class=\"dataframe\">\n",
       "  <thead>\n",
       "    <tr style=\"text-align: right;\">\n",
       "      <th></th>\n",
       "      <th>Tittle</th>\n",
       "      <th>Location</th>\n",
       "      <th>Price</th>\n",
       "      <th>Images_url</th>\n",
       "    </tr>\n",
       "  </thead>\n",
       "  <tbody>\n",
       "    <tr>\n",
       "      <th>0</th>\n",
       "      <td>Castle's BarbequeConnaught Place, Central Delhi</td>\n",
       "      <td>Connaught Place, Central Delhi</td>\n",
       "      <td>Rs 2,000 for 2 (approx) | Chinese, North Indian</td>\n",
       "      <td>https://im1.dineout.co.in/images/uploads/resta...</td>\n",
       "    </tr>\n",
       "    <tr>\n",
       "      <th>1</th>\n",
       "      <td>Cafe KnoshThe Leela Ambience Convention Hotel,...</td>\n",
       "      <td>The Leela Ambience Convention Hotel,Shahdara, ...</td>\n",
       "      <td>Rs 3,000 for 2 (approx) | Italian, Continental</td>\n",
       "      <td>https://im1.dineout.co.in/images/uploads/resta...</td>\n",
       "    </tr>\n",
       "    <tr>\n",
       "      <th>2</th>\n",
       "      <td>India GrillHilton Garden Inn,Saket, South Delhi</td>\n",
       "      <td>Hilton Garden Inn,Saket, South Delhi</td>\n",
       "      <td>Rs 2,400 for 2 (approx) | North Indian, Italian</td>\n",
       "      <td>https://im1.dineout.co.in/images/uploads/resta...</td>\n",
       "    </tr>\n",
       "    <tr>\n",
       "      <th>3</th>\n",
       "      <td>The Barbeque CompanyGardens Galleria,Sector 38...</td>\n",
       "      <td>Gardens Galleria,Sector 38A, Noida</td>\n",
       "      <td>Rs 1,700 for 2 (approx) | North Indian, Chinese</td>\n",
       "      <td>https://im1.dineout.co.in/images/uploads/resta...</td>\n",
       "    </tr>\n",
       "    <tr>\n",
       "      <th>4</th>\n",
       "      <td>Delhi BarbequeTaurus Sarovar Portico,Mahipalpu...</td>\n",
       "      <td>Taurus Sarovar Portico,Mahipalpur, South Delhi</td>\n",
       "      <td>Rs 1,800 for 2 (approx) | North Indian</td>\n",
       "      <td>https://im1.dineout.co.in/images/uploads/resta...</td>\n",
       "    </tr>\n",
       "    <tr>\n",
       "      <th>5</th>\n",
       "      <td>The Monarch - Bar Be Que VillageIndirapuram Ha...</td>\n",
       "      <td>Indirapuram Habitat Centre,Indirapuram, Ghaziabad</td>\n",
       "      <td>Rs 1,900 for 2 (approx) | North Indian, Chines...</td>\n",
       "      <td>https://im1.dineout.co.in/images/uploads/resta...</td>\n",
       "    </tr>\n",
       "    <tr>\n",
       "      <th>6</th>\n",
       "      <td>The Barbeque TimesM2K Corporate Park,Sector 51...</td>\n",
       "      <td>M2K Corporate Park,Sector 51, Gurgaon</td>\n",
       "      <td>Rs 1,800 for 2 (approx) | North Indian, Contin...</td>\n",
       "      <td>https://im1.dineout.co.in/images/uploads/resta...</td>\n",
       "    </tr>\n",
       "  </tbody>\n",
       "</table>\n",
       "</div>"
      ],
      "text/plain": [
       "                                              Tittle  \\\n",
       "0    Castle's BarbequeConnaught Place, Central Delhi   \n",
       "1  Cafe KnoshThe Leela Ambience Convention Hotel,...   \n",
       "2    India GrillHilton Garden Inn,Saket, South Delhi   \n",
       "3  The Barbeque CompanyGardens Galleria,Sector 38...   \n",
       "4  Delhi BarbequeTaurus Sarovar Portico,Mahipalpu...   \n",
       "5  The Monarch - Bar Be Que VillageIndirapuram Ha...   \n",
       "6  The Barbeque TimesM2K Corporate Park,Sector 51...   \n",
       "\n",
       "                                            Location  \\\n",
       "0                     Connaught Place, Central Delhi   \n",
       "1  The Leela Ambience Convention Hotel,Shahdara, ...   \n",
       "2               Hilton Garden Inn,Saket, South Delhi   \n",
       "3                 Gardens Galleria,Sector 38A, Noida   \n",
       "4     Taurus Sarovar Portico,Mahipalpur, South Delhi   \n",
       "5  Indirapuram Habitat Centre,Indirapuram, Ghaziabad   \n",
       "6              M2K Corporate Park,Sector 51, Gurgaon   \n",
       "\n",
       "                                               Price  \\\n",
       "0    Rs 2,000 for 2 (approx) | Chinese, North Indian   \n",
       "1     Rs 3,000 for 2 (approx) | Italian, Continental   \n",
       "2    Rs 2,400 for 2 (approx) | North Indian, Italian   \n",
       "3    Rs 1,700 for 2 (approx) | North Indian, Chinese   \n",
       "4             Rs 1,800 for 2 (approx) | North Indian   \n",
       "5  Rs 1,900 for 2 (approx) | North Indian, Chines...   \n",
       "6  Rs 1,800 for 2 (approx) | North Indian, Contin...   \n",
       "\n",
       "                                          Images_url  \n",
       "0  https://im1.dineout.co.in/images/uploads/resta...  \n",
       "1  https://im1.dineout.co.in/images/uploads/resta...  \n",
       "2  https://im1.dineout.co.in/images/uploads/resta...  \n",
       "3  https://im1.dineout.co.in/images/uploads/resta...  \n",
       "4  https://im1.dineout.co.in/images/uploads/resta...  \n",
       "5  https://im1.dineout.co.in/images/uploads/resta...  \n",
       "6  https://im1.dineout.co.in/images/uploads/resta...  "
      ]
     },
     "execution_count": 13,
     "metadata": {},
     "output_type": "execute_result"
    }
   ],
   "source": [
    "df=pd.DataFrame({'Tittle':tittle,'Location':location,'Price':price,'Images_url':image})\n",
    "df"
   ]
  },
  {
   "cell_type": "code",
   "execution_count": null,
   "id": "f41cc29d",
   "metadata": {},
   "outputs": [],
   "source": []
  }
 ],
 "metadata": {
  "kernelspec": {
   "display_name": "Python 3 (ipykernel)",
   "language": "python",
   "name": "python3"
  },
  "language_info": {
   "codemirror_mode": {
    "name": "ipython",
    "version": 3
   },
   "file_extension": ".py",
   "mimetype": "text/x-python",
   "name": "python",
   "nbconvert_exporter": "python",
   "pygments_lexer": "ipython3",
   "version": "3.11.5"
  }
 },
 "nbformat": 4,
 "nbformat_minor": 5
}

{
 "cells": [
  {
   "cell_type": "markdown",
   "id": "aad5ce3e",
   "metadata": {},
   "source": [
    "# Web scraping using Selenium"
   ]
  },
  {
   "cell_type": "code",
   "execution_count": 1,
   "id": "a319d2c6",
   "metadata": {},
   "outputs": [],
   "source": [
    "#pip install selenium"
   ]
  },
  {
   "cell_type": "code",
   "execution_count": 2,
   "id": "8f37efdd",
   "metadata": {},
   "outputs": [],
   "source": [
    "import selenium\n",
    "import pandas as pd\n",
    "from selenium import webdriver\n",
    "from selenium.webdriver.common.by import By\n",
    "import warnings\n",
    "warnings.filterwarnings('ignore')\n",
    "\n",
    "import time\n",
    "import pandas as pd"
   ]
  },
  {
   "cell_type": "code",
   "execution_count": 3,
   "id": "a2e64c05",
   "metadata": {},
   "outputs": [],
   "source": [
    "driver = webdriver.Chrome()"
   ]
  },
  {
   "cell_type": "code",
   "execution_count": 4,
   "id": "8f8c8d64",
   "metadata": {},
   "outputs": [],
   "source": [
    "# opening the naukri page on automated chrome browser\n",
    "driver.get('https://www.naukri.com')"
   ]
  },
  {
   "cell_type": "code",
   "execution_count": 5,
   "id": "5099d3fc",
   "metadata": {},
   "outputs": [],
   "source": [
    "# entering designation and location as requered in questions\n",
    "designation=driver.find_element(By.CLASS_NAME,\"suggestor-input \")\n",
    "designation.send_keys('Data Analyst')"
   ]
  },
  {
   "cell_type": "code",
   "execution_count": 6,
   "id": "681f01ed",
   "metadata": {},
   "outputs": [],
   "source": [
    "location=driver.find_element(By.XPATH,\"/html/body/div[1]/div[7]/div/div/div[5]/div/div/div/div[1]/div/input\")\n",
    "location.send_keys('Bangalore')"
   ]
  },
  {
   "cell_type": "code",
   "execution_count": 7,
   "id": "f950ca39",
   "metadata": {},
   "outputs": [],
   "source": [
    "search=driver.find_element(By.CLASS_NAME,\"qsbSubmit\")\n",
    "search.click()"
   ]
  },
  {
   "cell_type": "code",
   "execution_count": 8,
   "id": "9c02be18",
   "metadata": {},
   "outputs": [],
   "source": [
    "#as per the questions\n",
    "job_title=[]\n",
    "job_location=[]\n",
    "company_name=[]\n",
    "experience_required=[]\n"
   ]
  },
  {
   "cell_type": "code",
   "execution_count": 29,
   "id": "fce167d3",
   "metadata": {},
   "outputs": [
    {
     "name": "stdout",
     "output_type": "stream",
     "text": [
      "['4-6 Yrs', '2-6 Yrs', '4-7 Yrs', '0-3 Yrs', '4-8 Yrs', '0-4 Yrs', '0-5 Yrs', '0-5 Yrs', '3-8 Yrs', '5-6 Yrs', '3-8 Yrs', '8-12 Yrs', '2-7 Yrs', '3-7 Yrs', '9-14 Yrs', '3-5 Yrs', '2-6 Yrs', '3-6 Yrs', '4-9 Yrs', '4-6 Yrs', '2-6 Yrs', '4-7 Yrs', '0-3 Yrs', '4-8 Yrs', '0-4 Yrs', '0-5 Yrs', '0-5 Yrs', '3-8 Yrs', '5-6 Yrs', '3-8 Yrs', '8-12 Yrs', '2-7 Yrs', '3-7 Yrs', '9-14 Yrs', '3-5 Yrs', '2-6 Yrs', '3-6 Yrs', '4-9 Yrs', '4-6 Yrs', '2-6 Yrs', '4-7 Yrs', '0-3 Yrs', '4-8 Yrs', '0-4 Yrs', '0-5 Yrs', '0-5 Yrs', '3-8 Yrs', '5-6 Yrs', '3-8 Yrs', '8-12 Yrs', '2-7 Yrs', '3-7 Yrs', '9-14 Yrs', '3-5 Yrs', '2-6 Yrs', '3-6 Yrs', '4-9 Yrs', '4-6 Yrs', '2-6 Yrs', '4-7 Yrs', '0-3 Yrs', '4-8 Yrs', '0-4 Yrs', '0-5 Yrs', '0-5 Yrs', '3-8 Yrs', '5-6 Yrs', '3-8 Yrs', '8-12 Yrs', '2-7 Yrs', '3-7 Yrs', '9-14 Yrs', '3-5 Yrs', '2-6 Yrs', '3-6 Yrs', '4-9 Yrs', '4-6 Yrs', '2-6 Yrs', '4-7 Yrs', '0-3 Yrs', '4-8 Yrs', '0-4 Yrs', '0-5 Yrs', '0-5 Yrs', '3-8 Yrs', '5-6 Yrs', '3-8 Yrs', '8-12 Yrs', '2-7 Yrs', '3-7 Yrs', '9-14 Yrs', '3-5 Yrs', '2-6 Yrs', '3-6 Yrs', '4-9 Yrs']\n"
     ]
    }
   ],
   "source": [
    "# scrapping job title from, the given page \n",
    "title_tags=driver.find_elements(By.XPATH,'//div[@class=\"cust-job-tuple layout-wrapper lay-2 sjw__tuple \"]/div/a')\n",
    "for i in title_tags:\n",
    "    title=i.text\n",
    "    job_title.append(title)\n",
    "#print(job_title)\n",
    "\n",
    "# scrapping job location  from, the given page \n",
    "location=driver.find_elements(By.XPATH,'//span[@class=\"locWdth\"]')\n",
    "for a in location:\n",
    "    loc=a.text\n",
    "    job_location.append(loc)\n",
    "#print(job_location)\n",
    "\n",
    "# scrapping company name from, the given page\n",
    "company=driver.find_elements(By.XPATH,'//div[@class=\" row2\"]/span/a[1]')\n",
    "for b in company:\n",
    "    company_tags=b.text\n",
    "    company_name.append(company_tags)\n",
    "#print(company_name)\n",
    "\n",
    "# scrapping experience required from, the given page\n",
    "expr=driver.find_elements(By.XPATH,'//span[@class=\"expwdth\"]')\n",
    "for i in expr:\n",
    "    experience=i.text\n",
    "    experience_required.append(experience)\n",
    "print(experience_required)\n",
    "    "
   ]
  },
  {
   "cell_type": "code",
   "execution_count": 30,
   "id": "c4d255c2",
   "metadata": {},
   "outputs": [
    {
     "name": "stdout",
     "output_type": "stream",
     "text": [
      "133 100 100 95\n"
     ]
    }
   ],
   "source": [
    "print(len(job_title),len(job_location),len(company_name),len(experience_required))"
   ]
  },
  {
   "cell_type": "code",
   "execution_count": 32,
   "id": "0dcf4480",
   "metadata": {},
   "outputs": [
    {
     "data": {
      "text/html": [
       "<div>\n",
       "<style scoped>\n",
       "    .dataframe tbody tr th:only-of-type {\n",
       "        vertical-align: middle;\n",
       "    }\n",
       "\n",
       "    .dataframe tbody tr th {\n",
       "        vertical-align: top;\n",
       "    }\n",
       "\n",
       "    .dataframe thead th {\n",
       "        text-align: right;\n",
       "    }\n",
       "</style>\n",
       "<table border=\"1\" class=\"dataframe\">\n",
       "  <thead>\n",
       "    <tr style=\"text-align: right;\">\n",
       "      <th></th>\n",
       "      <th>Job Title</th>\n",
       "      <th>Job Location</th>\n",
       "      <th>Company Name</th>\n",
       "      <th>Experience Required</th>\n",
       "    </tr>\n",
       "  </thead>\n",
       "  <tbody>\n",
       "    <tr>\n",
       "      <th>0</th>\n",
       "      <td>IAM DATA SCIENTIST /ANALYST</td>\n",
       "      <td>Bengaluru</td>\n",
       "      <td>Iote Technologies</td>\n",
       "      <td>4-6 Yrs</td>\n",
       "    </tr>\n",
       "    <tr>\n",
       "      <th>1</th>\n",
       "      <td>Tag Implementation Analyst - 1st Party Data</td>\n",
       "      <td>Bengaluru</td>\n",
       "      <td>Eli Lilly And Company</td>\n",
       "      <td>2-6 Yrs</td>\n",
       "    </tr>\n",
       "    <tr>\n",
       "      <th>2</th>\n",
       "      <td>Data Privacy Analyst</td>\n",
       "      <td>Mumbai, Bengaluru</td>\n",
       "      <td>Quantiphi Analytics Solutions</td>\n",
       "      <td>4-7 Yrs</td>\n",
       "    </tr>\n",
       "    <tr>\n",
       "      <th>3</th>\n",
       "      <td>Quantitative Analyst / Data Scientist</td>\n",
       "      <td>Bengaluru</td>\n",
       "      <td>Bestex Research</td>\n",
       "      <td>0-3 Yrs</td>\n",
       "    </tr>\n",
       "    <tr>\n",
       "      <th>4</th>\n",
       "      <td>Data Analyst - Business Intelligence</td>\n",
       "      <td>Hybrid - Bangalore Rural</td>\n",
       "      <td>Allegis Group (Aston Carter)</td>\n",
       "      <td>4-8 Yrs</td>\n",
       "    </tr>\n",
       "    <tr>\n",
       "      <th>5</th>\n",
       "      <td>Associate-Data Analyst (Cost Optimisation)</td>\n",
       "      <td>Bangalore Rural, Delhi / NCR</td>\n",
       "      <td>Delhivery</td>\n",
       "      <td>0-4 Yrs</td>\n",
       "    </tr>\n",
       "    <tr>\n",
       "      <th>6</th>\n",
       "      <td>Walk-in Fresher's For -MIS /Data Analyst/Speci...</td>\n",
       "      <td>Bengaluru</td>\n",
       "      <td>Infineon</td>\n",
       "      <td>0-5 Yrs</td>\n",
       "    </tr>\n",
       "    <tr>\n",
       "      <th>7</th>\n",
       "      <td>Walk-in Fresher's For -MIS /Data Analyst/Speci...</td>\n",
       "      <td>Bangalore Rural, Bangarapet, Bagepalli, Malur,...</td>\n",
       "      <td>Wisdom Bridge Consultants</td>\n",
       "      <td>0-5 Yrs</td>\n",
       "    </tr>\n",
       "    <tr>\n",
       "      <th>8</th>\n",
       "      <td>Senior Business Data Analyst</td>\n",
       "      <td>Bangalore Rural, Hosur, Nelamangala, Hosakote,...</td>\n",
       "      <td>Wisdom Bridge Consultants</td>\n",
       "      <td>3-8 Yrs</td>\n",
       "    </tr>\n",
       "    <tr>\n",
       "      <th>9</th>\n",
       "      <td>Senior Data Analyst</td>\n",
       "      <td>Bengaluru</td>\n",
       "      <td>Nthinsight</td>\n",
       "      <td>5-6 Yrs</td>\n",
       "    </tr>\n",
       "    <tr>\n",
       "      <th>10</th>\n",
       "      <td>SENIOR, DATA ANALYST</td>\n",
       "      <td>Bengaluru</td>\n",
       "      <td>Cargill</td>\n",
       "      <td>3-8 Yrs</td>\n",
       "    </tr>\n",
       "    <tr>\n",
       "      <th>11</th>\n",
       "      <td>Senior Data Analyst</td>\n",
       "      <td>Bengaluru</td>\n",
       "      <td>Walmart</td>\n",
       "      <td>8-12 Yrs</td>\n",
       "    </tr>\n",
       "    <tr>\n",
       "      <th>12</th>\n",
       "      <td>Senior Data Analyst</td>\n",
       "      <td>Bangalore/Bengaluru, Kolkata, Mumbai, New Delh...</td>\n",
       "      <td>Capco</td>\n",
       "      <td>2-7 Yrs</td>\n",
       "    </tr>\n",
       "    <tr>\n",
       "      <th>13</th>\n",
       "      <td>Senior Data Analyst - Cx</td>\n",
       "      <td>Kolkata, Mumbai, New Delhi, Hyderabad, Pune, C...</td>\n",
       "      <td>Capco</td>\n",
       "      <td>3-7 Yrs</td>\n",
       "    </tr>\n",
       "    <tr>\n",
       "      <th>14</th>\n",
       "      <td>Senior Data Analyst - Mobile Apps</td>\n",
       "      <td>Kolkata, Mumbai, New Delhi, Hyderabad, Pune, C...</td>\n",
       "      <td>IDFC FIRST Bharat</td>\n",
       "      <td>9-14 Yrs</td>\n",
       "    </tr>\n",
       "    <tr>\n",
       "      <th>15</th>\n",
       "      <td>Senior Data Analyst</td>\n",
       "      <td>Bengaluru</td>\n",
       "      <td>Philips</td>\n",
       "      <td>3-5 Yrs</td>\n",
       "    </tr>\n",
       "    <tr>\n",
       "      <th>16</th>\n",
       "      <td>Senior Data Analyst</td>\n",
       "      <td>Bengaluru</td>\n",
       "      <td>One Muthoot</td>\n",
       "      <td>2-6 Yrs</td>\n",
       "    </tr>\n",
       "    <tr>\n",
       "      <th>17</th>\n",
       "      <td>Senior Data Analyst</td>\n",
       "      <td>Bengaluru</td>\n",
       "      <td>ANZ</td>\n",
       "      <td>3-6 Yrs</td>\n",
       "    </tr>\n",
       "    <tr>\n",
       "      <th>18</th>\n",
       "      <td>Senior Data Analyst</td>\n",
       "      <td>Mumbai, Bengaluru</td>\n",
       "      <td>Tata Nexarc</td>\n",
       "      <td>4-9 Yrs</td>\n",
       "    </tr>\n",
       "    <tr>\n",
       "      <th>19</th>\n",
       "      <td>IAM DATA SCIENTIST /ANALYST</td>\n",
       "      <td>Bengaluru</td>\n",
       "      <td>Wood Group Pratt &amp; Whitney Industrial Turbine ...</td>\n",
       "      <td>4-6 Yrs</td>\n",
       "    </tr>\n",
       "  </tbody>\n",
       "</table>\n",
       "</div>"
      ],
      "text/plain": [
       "                                            Job Title  \\\n",
       "0                         IAM DATA SCIENTIST /ANALYST   \n",
       "1         Tag Implementation Analyst - 1st Party Data   \n",
       "2                                Data Privacy Analyst   \n",
       "3               Quantitative Analyst / Data Scientist   \n",
       "4                Data Analyst - Business Intelligence   \n",
       "5          Associate-Data Analyst (Cost Optimisation)   \n",
       "6   Walk-in Fresher's For -MIS /Data Analyst/Speci...   \n",
       "7   Walk-in Fresher's For -MIS /Data Analyst/Speci...   \n",
       "8                        Senior Business Data Analyst   \n",
       "9                                 Senior Data Analyst   \n",
       "10                               SENIOR, DATA ANALYST   \n",
       "11                                Senior Data Analyst   \n",
       "12                                Senior Data Analyst   \n",
       "13                           Senior Data Analyst - Cx   \n",
       "14                  Senior Data Analyst - Mobile Apps   \n",
       "15                                Senior Data Analyst   \n",
       "16                                Senior Data Analyst   \n",
       "17                                Senior Data Analyst   \n",
       "18                                Senior Data Analyst   \n",
       "19                        IAM DATA SCIENTIST /ANALYST   \n",
       "\n",
       "                                         Job Location  \\\n",
       "0                                           Bengaluru   \n",
       "1                                           Bengaluru   \n",
       "2                                   Mumbai, Bengaluru   \n",
       "3                                           Bengaluru   \n",
       "4                            Hybrid - Bangalore Rural   \n",
       "5                        Bangalore Rural, Delhi / NCR   \n",
       "6                                           Bengaluru   \n",
       "7   Bangalore Rural, Bangarapet, Bagepalli, Malur,...   \n",
       "8   Bangalore Rural, Hosur, Nelamangala, Hosakote,...   \n",
       "9                                           Bengaluru   \n",
       "10                                          Bengaluru   \n",
       "11                                          Bengaluru   \n",
       "12  Bangalore/Bengaluru, Kolkata, Mumbai, New Delh...   \n",
       "13  Kolkata, Mumbai, New Delhi, Hyderabad, Pune, C...   \n",
       "14  Kolkata, Mumbai, New Delhi, Hyderabad, Pune, C...   \n",
       "15                                          Bengaluru   \n",
       "16                                          Bengaluru   \n",
       "17                                          Bengaluru   \n",
       "18                                  Mumbai, Bengaluru   \n",
       "19                                          Bengaluru   \n",
       "\n",
       "                                         Company Name Experience Required  \n",
       "0                                   Iote Technologies             4-6 Yrs  \n",
       "1                               Eli Lilly And Company             2-6 Yrs  \n",
       "2                       Quantiphi Analytics Solutions             4-7 Yrs  \n",
       "3                                     Bestex Research             0-3 Yrs  \n",
       "4                        Allegis Group (Aston Carter)             4-8 Yrs  \n",
       "5                                           Delhivery             0-4 Yrs  \n",
       "6                                            Infineon             0-5 Yrs  \n",
       "7                           Wisdom Bridge Consultants             0-5 Yrs  \n",
       "8                           Wisdom Bridge Consultants             3-8 Yrs  \n",
       "9                                          Nthinsight             5-6 Yrs  \n",
       "10                                            Cargill             3-8 Yrs  \n",
       "11                                            Walmart            8-12 Yrs  \n",
       "12                                              Capco             2-7 Yrs  \n",
       "13                                              Capco             3-7 Yrs  \n",
       "14                                  IDFC FIRST Bharat            9-14 Yrs  \n",
       "15                                            Philips             3-5 Yrs  \n",
       "16                                        One Muthoot             2-6 Yrs  \n",
       "17                                                ANZ             3-6 Yrs  \n",
       "18                                        Tata Nexarc             4-9 Yrs  \n",
       "19  Wood Group Pratt & Whitney Industrial Turbine ...             4-6 Yrs  "
      ]
     },
     "execution_count": 32,
     "metadata": {},
     "output_type": "execute_result"
    }
   ],
   "source": [
    "job_df=pd.DataFrame({\"Job Title\":job_title[:20],\"Job Location\":job_location[:20],\"Company Name\":company_name[:20],\"Experience Required\":experience_required[:20]})\n",
    "job_df"
   ]
  },
  {
   "cell_type": "code",
   "execution_count": 33,
   "id": "763dd0db",
   "metadata": {},
   "outputs": [
    {
     "name": "stdout",
     "output_type": "stream",
     "text": [
      "https://www.naukri.com/job-listings-iam-data-scientist-analyst-iote-technologies-bengaluru-4-to-6-years-300424500992\n",
      "https://www.naukri.com/job-listings-tag-implementation-analyst-1st-party-data-eli-lilly-and-company-bengaluru-2-to-6-years-230524500037\n",
      "https://www.naukri.com/job-listings-data-privacy-analyst-quantiphi-analytics-solutions-pvt-ltd-mumbai-bengaluru-4-to-7-years-090224501427\n",
      "https://www.naukri.com/job-listings-quantitative-analyst-data-scientist-bestex-research-bengaluru-0-to-3-years-190624501036\n"
     ]
    }
   ],
   "source": [
    "#scrap url\n",
    "url=driver.find_elements(By.XPATH,'//a[@class=\"title \"]')\n",
    "url[0:4]\n",
    "for i in url[0:4]:\n",
    "    print(i.get_attribute('href'))"
   ]
  },
  {
   "cell_type": "code",
   "execution_count": 34,
   "id": "379cf8ef",
   "metadata": {},
   "outputs": [],
   "source": [
    "# Extract data more than 1 page\n",
    "all_job_title=[]\n",
    "start=0\n",
    "end=5\n",
    "for page in range(start, end):\n",
    "    title=driver.find_elements(By.XPATH,'//div[@class=\"cust-job-tuple layout-wrapper lay-2 sjw__tuple \"]/div/a')\n",
    "    for i in title:\n",
    "        all_job_title.append(i.text)\n",
    "    \n",
    "    #find next button\n",
    "    next_buttons=driver.find_elements(By.XPATH,'/html/body/div/div/main/div[1]/div[2]/div[3]/div/a[2]/span')\n",
    "    \n",
    "     # Check if the next button exists\n",
    "    if next_buttons:\n",
    "        next_buttons[0].click()\n",
    "    time.sleep(3)\n",
    "        "
   ]
  },
  {
   "cell_type": "code",
   "execution_count": 35,
   "id": "f4f3474c",
   "metadata": {},
   "outputs": [
    {
     "name": "stdout",
     "output_type": "stream",
     "text": [
      "97\n"
     ]
    }
   ],
   "source": [
    "print(len(all_job_title))"
   ]
  },
  {
   "cell_type": "code",
   "execution_count": null,
   "id": "03e2a401",
   "metadata": {},
   "outputs": [],
   "source": []
  }
 ],
 "metadata": {
  "kernelspec": {
   "display_name": "Python 3 (ipykernel)",
   "language": "python",
   "name": "python3"
  },
  "language_info": {
   "codemirror_mode": {
    "name": "ipython",
    "version": 3
   },
   "file_extension": ".py",
   "mimetype": "text/x-python",
   "name": "python",
   "nbconvert_exporter": "python",
   "pygments_lexer": "ipython3",
   "version": "3.11.5"
  }
 },
 "nbformat": 4,
 "nbformat_minor": 5
}
